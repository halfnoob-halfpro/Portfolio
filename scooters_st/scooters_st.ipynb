{
 "cells": [
  {
   "cell_type": "markdown",
   "metadata": {},
   "source": [
    "# Исследование данных сервиса аренды самокатов"
   ]
  },
  {
   "cell_type": "markdown",
   "metadata": {},
   "source": [
    "# Оглавление   \n",
    "[1 Описание проекта](#description)   \n",
    "- [1.1 Описание данных](#data)    \n",
    "\n",
    "[2 Загрузка данных](#downloading)    \n",
    "- [2.1  Выводы по разделу](#conclusion1)\n",
    "\n",
    "[3  Предобработка данных](#preparing)       \n",
    "- [3.1  Выводы по разделу](#conclusion2)\n",
    "\n",
    "[4  Исследовательский анализ данных](#research)    \n",
    "- [4.1  Выводы по разделу](#conclusion3)    \n",
    "\n",
    "[5  Объединение данных](#agregation)    \n",
    "- [5.1  Выводы по разделу](#conclusion4)  \n",
    "\n",
    "[6  Подсчёт выручки](#calculation)     \n",
    "- [6.1  Выводы по разделу](#conclusion5)  \n",
    "\n",
    "[7  Проверка гипотез](#check)   \n",
    "- [7.1  Выводы по разделу](#conclusion6)        \n",
    "\n",
    "[8  Распределения](#distribution)           \n",
    "- [8.1  Выводы по разделу](#conclusion7)\n",
    "\n",
    "[9  Результаты исследования](#result)    "
   ]
  },
  {
   "cell_type": "markdown",
   "metadata": {},
   "source": [
    "### Описание проекта <a id='description'></a>\n",
    "Целью проекта является поиск точек роста популярного сервиса аренды самокатов GoFast.    \n",
    "Для реализации исследования были предоставлены данные о некоторых пользователях из нескольких городов, а также об их поездках.     \n",
    "\n",
    "Краткое описание основных принципов работы сервиса:     \n",
    "Чтобы совершать поездки по городу, пользователи сервиса GoFast пользуются мобильным приложением. Сервисом можно пользоваться:\n",
    "без подписки\n",
    "абонентская плата отсутствует;\n",
    "стоимость одной минуты поездки — \n",
    "8 рублей;\n",
    "стоимость старта (начала поездки) — \n",
    "50 рублей;\n",
    "с подпиской Ultra\n",
    "абонентская плата — \n",
    "199 рублей в месяц;\n",
    "стоимость одной минуты поездки — \n",
    "6 рублей;\n",
    "стоимость старта — бесплатно.\n",
    "\n",
    "В ходе исследования данных проанализируем основные показатели поездок и характеристики пользователей, после чего проверим следующие гипотезы, которые могут помочь бизнесу вырасти:\n",
    "\n",
    "- Пользователи с подпиской тратят больше времени на поездку.\n",
    "- Среднее расстояние, которое проезжают пользователи с подпиской за одну поездку, не превышает 3130 метров.\n",
    "- Помесячная выручка от пользователей с подпиской по месяцам выше, чем выручка от пользователей без подписки."
   ]
  },
  {
   "cell_type": "markdown",
   "metadata": {},
   "source": [
    "#### Описание данных <a id='data'></a>\n",
    "**Пользователи** — users_go.csv    \n",
    "- user_id -\tуникальный идентификатор пользователя    \n",
    "- name -\tимя пользователя\n",
    "- age -\tвозраст    \n",
    "- city -\tгород    \n",
    "- subscription_type -\tтип подписки (free, ultra)    \n",
    "\n",
    "**Поездки** — rides_go.csv    \n",
    "- user_id -\tуникальный идентификатор пользователя    \n",
    "- distance -\tрасстояние, которое пользователь проехал в текущей сессии (в метрах)    \n",
    "- duration -\tпродолжительность сессии (в минутах) — время с того момента, как пользователь нажал кнопку «Начать поездку» до момента, как он нажал кнопку «Завершить поездку»    \n",
    "- date -\tдата совершения поездки    \n",
    "\n",
    "**Подписки** — subscriptions_go.csv    \n",
    "- subscription_type -\tтип подписки    \n",
    "- minute_price -\tстоимость одной минуты поездки по данной подписке    \n",
    "- start_ride_price -\tстоимость начала поездки    \n",
    "- subscription_fee -\tстоимость ежемесячного платежа"
   ]
  },
  {
   "cell_type": "markdown",
   "metadata": {},
   "source": [
    "### Загрузка данных <a id='downloading'></a>"
   ]
  },
  {
   "cell_type": "code",
   "execution_count": 1,
   "metadata": {},
   "outputs": [],
   "source": [
    "import pandas as pd\n",
    "import numpy as np\n",
    "import matplotlib.pyplot as plt\n",
    "import seaborn as sns\n",
    "import scipy.stats as st\n",
    "import random\n",
    "from math import sqrt\n",
    "from math import factorial\n",
    "from scipy.stats import binom, poisson, norm"
   ]
  },
  {
   "cell_type": "markdown",
   "metadata": {},
   "source": [
    "Начнём с загрузки данных о пользователях"
   ]
  },
  {
   "cell_type": "code",
   "execution_count": 2,
   "metadata": {
    "scrolled": false
   },
   "outputs": [
    {
     "data": {
      "text/html": [
       "<div>\n",
       "<style scoped>\n",
       "    .dataframe tbody tr th:only-of-type {\n",
       "        vertical-align: middle;\n",
       "    }\n",
       "\n",
       "    .dataframe tbody tr th {\n",
       "        vertical-align: top;\n",
       "    }\n",
       "\n",
       "    .dataframe thead th {\n",
       "        text-align: right;\n",
       "    }\n",
       "</style>\n",
       "<table border=\"1\" class=\"dataframe\">\n",
       "  <thead>\n",
       "    <tr style=\"text-align: right;\">\n",
       "      <th></th>\n",
       "      <th>user_id</th>\n",
       "      <th>name</th>\n",
       "      <th>age</th>\n",
       "      <th>city</th>\n",
       "      <th>subscription_type</th>\n",
       "    </tr>\n",
       "  </thead>\n",
       "  <tbody>\n",
       "    <tr>\n",
       "      <th>0</th>\n",
       "      <td>1</td>\n",
       "      <td>Кира</td>\n",
       "      <td>22</td>\n",
       "      <td>Тюмень</td>\n",
       "      <td>ultra</td>\n",
       "    </tr>\n",
       "    <tr>\n",
       "      <th>1</th>\n",
       "      <td>2</td>\n",
       "      <td>Станислав</td>\n",
       "      <td>31</td>\n",
       "      <td>Омск</td>\n",
       "      <td>ultra</td>\n",
       "    </tr>\n",
       "    <tr>\n",
       "      <th>2</th>\n",
       "      <td>3</td>\n",
       "      <td>Алексей</td>\n",
       "      <td>20</td>\n",
       "      <td>Москва</td>\n",
       "      <td>ultra</td>\n",
       "    </tr>\n",
       "    <tr>\n",
       "      <th>3</th>\n",
       "      <td>4</td>\n",
       "      <td>Константин</td>\n",
       "      <td>26</td>\n",
       "      <td>Ростов-на-Дону</td>\n",
       "      <td>ultra</td>\n",
       "    </tr>\n",
       "    <tr>\n",
       "      <th>4</th>\n",
       "      <td>5</td>\n",
       "      <td>Адель</td>\n",
       "      <td>28</td>\n",
       "      <td>Омск</td>\n",
       "      <td>ultra</td>\n",
       "    </tr>\n",
       "  </tbody>\n",
       "</table>\n",
       "</div>"
      ],
      "text/plain": [
       "   user_id        name  age            city subscription_type\n",
       "0        1        Кира   22          Тюмень             ultra\n",
       "1        2   Станислав   31            Омск             ultra\n",
       "2        3     Алексей   20          Москва             ultra\n",
       "3        4  Константин   26  Ростов-на-Дону             ultra\n",
       "4        5       Адель   28            Омск             ultra"
      ]
     },
     "execution_count": 2,
     "metadata": {},
     "output_type": "execute_result"
    }
   ],
   "source": [
    "try:\n",
    "    users = pd.read_csv('/datasets/users_go.csv')\n",
    "except:\n",
    "    users = pd.read_csv('users_go.csv')\n",
    "\n",
    "users.head()"
   ]
  },
  {
   "cell_type": "code",
   "execution_count": 3,
   "metadata": {},
   "outputs": [
    {
     "name": "stdout",
     "output_type": "stream",
     "text": [
      "<class 'pandas.core.frame.DataFrame'>\n",
      "RangeIndex: 1565 entries, 0 to 1564\n",
      "Data columns (total 5 columns):\n",
      " #   Column             Non-Null Count  Dtype \n",
      "---  ------             --------------  ----- \n",
      " 0   user_id            1565 non-null   int64 \n",
      " 1   name               1565 non-null   object\n",
      " 2   age                1565 non-null   int64 \n",
      " 3   city               1565 non-null   object\n",
      " 4   subscription_type  1565 non-null   object\n",
      "dtypes: int64(2), object(3)\n",
      "memory usage: 61.3+ KB\n"
     ]
    }
   ],
   "source": [
    "users.info()"
   ]
  },
  {
   "cell_type": "markdown",
   "metadata": {},
   "source": [
    "В таблице 1565 записей, названия столбцов и типы данных соответствуют содержащейся информации.\n",
    "\n",
    "Теперь загрузим данные о поездках"
   ]
  },
  {
   "cell_type": "code",
   "execution_count": 4,
   "metadata": {},
   "outputs": [
    {
     "data": {
      "text/html": [
       "<div>\n",
       "<style scoped>\n",
       "    .dataframe tbody tr th:only-of-type {\n",
       "        vertical-align: middle;\n",
       "    }\n",
       "\n",
       "    .dataframe tbody tr th {\n",
       "        vertical-align: top;\n",
       "    }\n",
       "\n",
       "    .dataframe thead th {\n",
       "        text-align: right;\n",
       "    }\n",
       "</style>\n",
       "<table border=\"1\" class=\"dataframe\">\n",
       "  <thead>\n",
       "    <tr style=\"text-align: right;\">\n",
       "      <th></th>\n",
       "      <th>user_id</th>\n",
       "      <th>distance</th>\n",
       "      <th>duration</th>\n",
       "      <th>date</th>\n",
       "    </tr>\n",
       "  </thead>\n",
       "  <tbody>\n",
       "    <tr>\n",
       "      <th>0</th>\n",
       "      <td>1</td>\n",
       "      <td>4409.919140</td>\n",
       "      <td>25.599769</td>\n",
       "      <td>2021-01-01</td>\n",
       "    </tr>\n",
       "    <tr>\n",
       "      <th>1</th>\n",
       "      <td>1</td>\n",
       "      <td>2617.592153</td>\n",
       "      <td>15.816871</td>\n",
       "      <td>2021-01-18</td>\n",
       "    </tr>\n",
       "    <tr>\n",
       "      <th>2</th>\n",
       "      <td>1</td>\n",
       "      <td>754.159807</td>\n",
       "      <td>6.232113</td>\n",
       "      <td>2021-04-20</td>\n",
       "    </tr>\n",
       "    <tr>\n",
       "      <th>3</th>\n",
       "      <td>1</td>\n",
       "      <td>2694.783254</td>\n",
       "      <td>18.511000</td>\n",
       "      <td>2021-08-11</td>\n",
       "    </tr>\n",
       "    <tr>\n",
       "      <th>4</th>\n",
       "      <td>1</td>\n",
       "      <td>4028.687306</td>\n",
       "      <td>26.265803</td>\n",
       "      <td>2021-08-28</td>\n",
       "    </tr>\n",
       "  </tbody>\n",
       "</table>\n",
       "</div>"
      ],
      "text/plain": [
       "   user_id     distance   duration        date\n",
       "0        1  4409.919140  25.599769  2021-01-01\n",
       "1        1  2617.592153  15.816871  2021-01-18\n",
       "2        1   754.159807   6.232113  2021-04-20\n",
       "3        1  2694.783254  18.511000  2021-08-11\n",
       "4        1  4028.687306  26.265803  2021-08-28"
      ]
     },
     "execution_count": 4,
     "metadata": {},
     "output_type": "execute_result"
    }
   ],
   "source": [
    "try:\n",
    "    rides = pd.read_csv('/datasets/rides_go.csv')\n",
    "except:\n",
    "    rides = pd.read_csv('rides_go.csv')\n",
    "\n",
    "rides.head()"
   ]
  },
  {
   "cell_type": "code",
   "execution_count": 5,
   "metadata": {},
   "outputs": [
    {
     "name": "stdout",
     "output_type": "stream",
     "text": [
      "<class 'pandas.core.frame.DataFrame'>\n",
      "RangeIndex: 18068 entries, 0 to 18067\n",
      "Data columns (total 4 columns):\n",
      " #   Column    Non-Null Count  Dtype  \n",
      "---  ------    --------------  -----  \n",
      " 0   user_id   18068 non-null  int64  \n",
      " 1   distance  18068 non-null  float64\n",
      " 2   duration  18068 non-null  float64\n",
      " 3   date      18068 non-null  object \n",
      "dtypes: float64(2), int64(1), object(1)\n",
      "memory usage: 564.8+ KB\n"
     ]
    }
   ],
   "source": [
    "rides.info()"
   ]
  },
  {
   "cell_type": "markdown",
   "metadata": {},
   "source": [
    "В таблице 18068 записей, названия столбцов соответствуют содержанию, а тип данных в столбце `date` необходимо привести к формату `datetime`.\n",
    "\n",
    "На следующем этапе загрузим данные о подписках"
   ]
  },
  {
   "cell_type": "code",
   "execution_count": 6,
   "metadata": {},
   "outputs": [
    {
     "data": {
      "text/html": [
       "<div>\n",
       "<style scoped>\n",
       "    .dataframe tbody tr th:only-of-type {\n",
       "        vertical-align: middle;\n",
       "    }\n",
       "\n",
       "    .dataframe tbody tr th {\n",
       "        vertical-align: top;\n",
       "    }\n",
       "\n",
       "    .dataframe thead th {\n",
       "        text-align: right;\n",
       "    }\n",
       "</style>\n",
       "<table border=\"1\" class=\"dataframe\">\n",
       "  <thead>\n",
       "    <tr style=\"text-align: right;\">\n",
       "      <th></th>\n",
       "      <th>subscription_type</th>\n",
       "      <th>minute_price</th>\n",
       "      <th>start_ride_price</th>\n",
       "      <th>subscription_fee</th>\n",
       "    </tr>\n",
       "  </thead>\n",
       "  <tbody>\n",
       "    <tr>\n",
       "      <th>0</th>\n",
       "      <td>free</td>\n",
       "      <td>8</td>\n",
       "      <td>50</td>\n",
       "      <td>0</td>\n",
       "    </tr>\n",
       "    <tr>\n",
       "      <th>1</th>\n",
       "      <td>ultra</td>\n",
       "      <td>6</td>\n",
       "      <td>0</td>\n",
       "      <td>199</td>\n",
       "    </tr>\n",
       "  </tbody>\n",
       "</table>\n",
       "</div>"
      ],
      "text/plain": [
       "  subscription_type  minute_price  start_ride_price  subscription_fee\n",
       "0              free             8                50                 0\n",
       "1             ultra             6                 0               199"
      ]
     },
     "execution_count": 6,
     "metadata": {},
     "output_type": "execute_result"
    }
   ],
   "source": [
    "try:\n",
    "    subscriptions = pd.read_csv('/datasets/subscriptions_go.csv')\n",
    "except:\n",
    "    subscriptions = pd.read_csv('subscriptions_go.csv')\n",
    "\n",
    "subscriptions"
   ]
  },
  {
   "cell_type": "code",
   "execution_count": 7,
   "metadata": {},
   "outputs": [
    {
     "name": "stdout",
     "output_type": "stream",
     "text": [
      "<class 'pandas.core.frame.DataFrame'>\n",
      "RangeIndex: 2 entries, 0 to 1\n",
      "Data columns (total 4 columns):\n",
      " #   Column             Non-Null Count  Dtype \n",
      "---  ------             --------------  ----- \n",
      " 0   subscription_type  2 non-null      object\n",
      " 1   minute_price       2 non-null      int64 \n",
      " 2   start_ride_price   2 non-null      int64 \n",
      " 3   subscription_fee   2 non-null      int64 \n",
      "dtypes: int64(3), object(1)\n",
      "memory usage: 192.0+ bytes\n"
     ]
    }
   ],
   "source": [
    "subscriptions.info()"
   ]
  },
  {
   "cell_type": "markdown",
   "metadata": {},
   "source": [
    "В таблице всего 2 записи, названия столбцов и типы данных соответствуют содержащейся информации"
   ]
  },
  {
   "cell_type": "markdown",
   "metadata": {},
   "source": [
    "### Вывод: <a id='conclusion1'></a>\n",
    "\n",
    "Таблицы загрузились без ошибок. В таблице с данными пользователей 1565 записей, таблице с данными о поездках 18068 записей, в таблице с данными о подписках всего 2 записи. Названия столбцов и типы данных соответствуют содержащейся информациии, кроме типа данных в столбце date таблицы `rides_go`, его необходимо будет привести к формату datetime. Полученная выборка данных является достаточной для проведения исследования"
   ]
  },
  {
   "cell_type": "markdown",
   "metadata": {},
   "source": [
    "### Предобработка данных <a id='preparing'></a>"
   ]
  },
  {
   "cell_type": "markdown",
   "metadata": {},
   "source": [
    "Начнём предобработку с таблицы rides, первым делом приведём столбец `date` к формату `datetime`"
   ]
  },
  {
   "cell_type": "code",
   "execution_count": 8,
   "metadata": {},
   "outputs": [],
   "source": [
    "rides['date'] = pd.to_datetime(rides['date'], format='%Y-%m-%d')"
   ]
  },
  {
   "cell_type": "markdown",
   "metadata": {},
   "source": [
    "Для проведения исследования создадим столбец с номером месяца на основе столбца `date`"
   ]
  },
  {
   "cell_type": "code",
   "execution_count": 9,
   "metadata": {},
   "outputs": [],
   "source": [
    "rides['month'] = rides['date'].dt.month"
   ]
  },
  {
   "cell_type": "code",
   "execution_count": 10,
   "metadata": {},
   "outputs": [
    {
     "name": "stdout",
     "output_type": "stream",
     "text": [
      "<class 'pandas.core.frame.DataFrame'>\n",
      "RangeIndex: 18068 entries, 0 to 18067\n",
      "Data columns (total 5 columns):\n",
      " #   Column    Non-Null Count  Dtype         \n",
      "---  ------    --------------  -----         \n",
      " 0   user_id   18068 non-null  int64         \n",
      " 1   distance  18068 non-null  float64       \n",
      " 2   duration  18068 non-null  float64       \n",
      " 3   date      18068 non-null  datetime64[ns]\n",
      " 4   month     18068 non-null  int64         \n",
      "dtypes: datetime64[ns](1), float64(2), int64(2)\n",
      "memory usage: 705.9 KB\n"
     ]
    }
   ],
   "source": [
    "rides.info()"
   ]
  },
  {
   "cell_type": "markdown",
   "metadata": {},
   "source": [
    "Проверим таблицу `rides` на наличие пропусков и дубликатов"
   ]
  },
  {
   "cell_type": "code",
   "execution_count": 11,
   "metadata": {},
   "outputs": [
    {
     "data": {
      "text/plain": [
       "user_id     0\n",
       "distance    0\n",
       "duration    0\n",
       "date        0\n",
       "month       0\n",
       "dtype: int64"
      ]
     },
     "execution_count": 11,
     "metadata": {},
     "output_type": "execute_result"
    }
   ],
   "source": [
    "rides.isna().sum()"
   ]
  },
  {
   "cell_type": "code",
   "execution_count": 12,
   "metadata": {},
   "outputs": [
    {
     "data": {
      "text/plain": [
       "0"
      ]
     },
     "execution_count": 12,
     "metadata": {},
     "output_type": "execute_result"
    }
   ],
   "source": [
    "rides.duplicated().sum()"
   ]
  },
  {
   "cell_type": "markdown",
   "metadata": {},
   "source": [
    "В таблице `rides` пропуски и дубликаты отсутствуют. Также пропуски и дубликаты отсутствуют в состоящей из двух записей таблице `subscriptions`.\n",
    "\n",
    "Теперь проверим на наличие пропусков и дубликаторв таблицу users"
   ]
  },
  {
   "cell_type": "code",
   "execution_count": 13,
   "metadata": {},
   "outputs": [
    {
     "data": {
      "text/plain": [
       "user_id              0\n",
       "name                 0\n",
       "age                  0\n",
       "city                 0\n",
       "subscription_type    0\n",
       "dtype: int64"
      ]
     },
     "execution_count": 13,
     "metadata": {},
     "output_type": "execute_result"
    }
   ],
   "source": [
    "users.isna().sum()"
   ]
  },
  {
   "cell_type": "code",
   "execution_count": 14,
   "metadata": {},
   "outputs": [
    {
     "data": {
      "text/plain": [
       "31"
      ]
     },
     "execution_count": 14,
     "metadata": {},
     "output_type": "execute_result"
    }
   ],
   "source": [
    "users.duplicated().sum()"
   ]
  },
  {
   "cell_type": "markdown",
   "metadata": {},
   "source": [
    "В таблице `users` пропуски отсутствуют, но есть 31 дубликат записей. Посмотрим подробнее, есть ли у них общие параметры"
   ]
  },
  {
   "cell_type": "code",
   "execution_count": 15,
   "metadata": {},
   "outputs": [
    {
     "data": {
      "text/html": [
       "<div>\n",
       "<style scoped>\n",
       "    .dataframe tbody tr th:only-of-type {\n",
       "        vertical-align: middle;\n",
       "    }\n",
       "\n",
       "    .dataframe tbody tr th {\n",
       "        vertical-align: top;\n",
       "    }\n",
       "\n",
       "    .dataframe thead th {\n",
       "        text-align: right;\n",
       "    }\n",
       "</style>\n",
       "<table border=\"1\" class=\"dataframe\">\n",
       "  <thead>\n",
       "    <tr style=\"text-align: right;\">\n",
       "      <th></th>\n",
       "      <th>user_id</th>\n",
       "      <th>name</th>\n",
       "      <th>age</th>\n",
       "      <th>city</th>\n",
       "      <th>subscription_type</th>\n",
       "    </tr>\n",
       "  </thead>\n",
       "  <tbody>\n",
       "    <tr>\n",
       "      <th>15</th>\n",
       "      <td>16</td>\n",
       "      <td>Амалия</td>\n",
       "      <td>27</td>\n",
       "      <td>Краснодар</td>\n",
       "      <td>ultra</td>\n",
       "    </tr>\n",
       "    <tr>\n",
       "      <th>1535</th>\n",
       "      <td>16</td>\n",
       "      <td>Амалия</td>\n",
       "      <td>27</td>\n",
       "      <td>Краснодар</td>\n",
       "      <td>ultra</td>\n",
       "    </tr>\n",
       "    <tr>\n",
       "      <th>42</th>\n",
       "      <td>43</td>\n",
       "      <td>Стефания</td>\n",
       "      <td>22</td>\n",
       "      <td>Омск</td>\n",
       "      <td>ultra</td>\n",
       "    </tr>\n",
       "    <tr>\n",
       "      <th>1539</th>\n",
       "      <td>43</td>\n",
       "      <td>Стефания</td>\n",
       "      <td>22</td>\n",
       "      <td>Омск</td>\n",
       "      <td>ultra</td>\n",
       "    </tr>\n",
       "    <tr>\n",
       "      <th>1563</th>\n",
       "      <td>47</td>\n",
       "      <td>Юрий</td>\n",
       "      <td>28</td>\n",
       "      <td>Тюмень</td>\n",
       "      <td>ultra</td>\n",
       "    </tr>\n",
       "    <tr>\n",
       "      <th>...</th>\n",
       "      <td>...</td>\n",
       "      <td>...</td>\n",
       "      <td>...</td>\n",
       "      <td>...</td>\n",
       "      <td>...</td>\n",
       "    </tr>\n",
       "    <tr>\n",
       "      <th>1554</th>\n",
       "      <td>1198</td>\n",
       "      <td>Демид</td>\n",
       "      <td>29</td>\n",
       "      <td>Ростов-на-Дону</td>\n",
       "      <td>free</td>\n",
       "    </tr>\n",
       "    <tr>\n",
       "      <th>1558</th>\n",
       "      <td>1237</td>\n",
       "      <td>Евгения</td>\n",
       "      <td>23</td>\n",
       "      <td>Тюмень</td>\n",
       "      <td>free</td>\n",
       "    </tr>\n",
       "    <tr>\n",
       "      <th>1236</th>\n",
       "      <td>1237</td>\n",
       "      <td>Евгения</td>\n",
       "      <td>23</td>\n",
       "      <td>Тюмень</td>\n",
       "      <td>free</td>\n",
       "    </tr>\n",
       "    <tr>\n",
       "      <th>1544</th>\n",
       "      <td>1245</td>\n",
       "      <td>Регина</td>\n",
       "      <td>27</td>\n",
       "      <td>Пятигорск</td>\n",
       "      <td>free</td>\n",
       "    </tr>\n",
       "    <tr>\n",
       "      <th>1244</th>\n",
       "      <td>1245</td>\n",
       "      <td>Регина</td>\n",
       "      <td>27</td>\n",
       "      <td>Пятигорск</td>\n",
       "      <td>free</td>\n",
       "    </tr>\n",
       "  </tbody>\n",
       "</table>\n",
       "<p>62 rows × 5 columns</p>\n",
       "</div>"
      ],
      "text/plain": [
       "      user_id      name  age            city subscription_type\n",
       "15         16    Амалия   27       Краснодар             ultra\n",
       "1535       16    Амалия   27       Краснодар             ultra\n",
       "42         43  Стефания   22            Омск             ultra\n",
       "1539       43  Стефания   22            Омск             ultra\n",
       "1563       47      Юрий   28          Тюмень             ultra\n",
       "...       ...       ...  ...             ...               ...\n",
       "1554     1198     Демид   29  Ростов-на-Дону              free\n",
       "1558     1237   Евгения   23          Тюмень              free\n",
       "1236     1237   Евгения   23          Тюмень              free\n",
       "1544     1245    Регина   27       Пятигорск              free\n",
       "1244     1245    Регина   27       Пятигорск              free\n",
       "\n",
       "[62 rows x 5 columns]"
      ]
     },
     "execution_count": 15,
     "metadata": {},
     "output_type": "execute_result"
    }
   ],
   "source": [
    "duplicate_list = users.query('@users.duplicated() == True')['user_id']\n",
    "duplicate_users = users[users.duplicated(subset=['user_id'], keep=False)].sort_values(by='user_id')\n",
    "duplicate_users"
   ]
  },
  {
   "cell_type": "code",
   "execution_count": 16,
   "metadata": {},
   "outputs": [
    {
     "data": {
      "text/plain": [
       "array(['Краснодар', 'Омск', 'Тюмень', 'Москва', 'Пятигорск', 'Сочи',\n",
       "       'Ростов-на-Дону', 'Екатеринбург'], dtype=object)"
      ]
     },
     "execution_count": 16,
     "metadata": {},
     "output_type": "execute_result"
    }
   ],
   "source": [
    "duplicate_users['city'].unique()"
   ]
  },
  {
   "cell_type": "markdown",
   "metadata": {},
   "source": [
    "Дубликаты никак не связаны конкретным городом, или типом подписки, похоже это технический сбой при формировании данных. Удалим найденные дубликаты, чтобы не вносить искажения в исследование"
   ]
  },
  {
   "cell_type": "code",
   "execution_count": 17,
   "metadata": {},
   "outputs": [
    {
     "data": {
      "text/plain": [
       "0"
      ]
     },
     "execution_count": 17,
     "metadata": {},
     "output_type": "execute_result"
    }
   ],
   "source": [
    "users = users.drop_duplicates(subset='user_id', keep='first')\n",
    "users.duplicated().sum()"
   ]
  },
  {
   "cell_type": "code",
   "execution_count": 18,
   "metadata": {},
   "outputs": [
    {
     "name": "stdout",
     "output_type": "stream",
     "text": [
      "<class 'pandas.core.frame.DataFrame'>\n",
      "Int64Index: 1534 entries, 0 to 1533\n",
      "Data columns (total 5 columns):\n",
      " #   Column             Non-Null Count  Dtype \n",
      "---  ------             --------------  ----- \n",
      " 0   user_id            1534 non-null   int64 \n",
      " 1   name               1534 non-null   object\n",
      " 2   age                1534 non-null   int64 \n",
      " 3   city               1534 non-null   object\n",
      " 4   subscription_type  1534 non-null   object\n",
      "dtypes: int64(2), object(3)\n",
      "memory usage: 71.9+ KB\n"
     ]
    }
   ],
   "source": [
    "users.info()"
   ]
  },
  {
   "cell_type": "markdown",
   "metadata": {},
   "source": [
    "После удаления дубликатов в выборке осталось 1534 записи, этого количества достаточно для дальнейшего исследования"
   ]
  },
  {
   "cell_type": "markdown",
   "metadata": {},
   "source": [
    "#### Вывод: <a id='conclusion2'></a>\n",
    "Очищенные данные выглядят репрезентативными. В таблице rides столбец date приведён к формату datetime, для проведения исследования создан столбец с номером месяца на основе столбца date.\n",
    "В таблице rides пропуски и дубликаты отсутствуют. Также пропуски и дубликаты отсутствуют в состоящей из двух записей таблице subscriptions. В таблице users пропуски отсутствуют, но обнаружен 31 дубликат записей. Дубликаты никак не связаны конкретным городом, или типом подписки, похоже на технический сбой при формировании данных. Найденные дубликаты удалены, чтобы не вносить искажения в исследование.\n",
    "После удаления дубликатов в выборке `users` осталось 1534 записи, этого количества достаточно для дальнейшего исследования"
   ]
  },
  {
   "cell_type": "markdown",
   "metadata": {},
   "source": [
    "### Исследовательский анализ данных <a id='research'></a>"
   ]
  },
  {
   "cell_type": "markdown",
   "metadata": {},
   "source": [
    "Рассмотрим распределение пользователей по городам"
   ]
  },
  {
   "cell_type": "code",
   "execution_count": 19,
   "metadata": {
    "scrolled": false
   },
   "outputs": [
    {
     "data": {
      "image/png": "[encoded data removed]",
      "text/plain": [
       "<Figure size 1000x600 with 1 Axes>"
      ]
     },
     "metadata": {},
     "output_type": "display_data"
    }
   ],
   "source": [
    "plt.figure(figsize=(10, 6))\n",
    "city_group = users.groupby('city').agg({'user_id' : 'count'})\n",
    "\n",
    "city_group = city_group.sort_values(by='user_id', ascending=False) \n",
    "city_group.reset_index(inplace=True)\n",
    "city_group.columns = ['city', 'count']\n",
    "\n",
    "ax = sns.barplot(y=city_group['city'], x=city_group['count'])\n",
    "plt.title('Количество пользователей по городам', loc ='center', pad = 15, fontsize=13, \\\n",
    "             color='black', backgroundcolor='white', fontstyle='normal')\n",
    "plt.xlabel('Количество пользователей', fontsize=12, color='black')\n",
    "plt.ylabel('Город', fontsize=12, color='black')\n",
    "ax.set_xlim(150, 230)\n",
    "plt.show()"
   ]
  },
  {
   "cell_type": "code",
   "execution_count": 20,
   "metadata": {},
   "outputs": [
    {
     "data": {
      "text/html": [
       "<div>\n",
       "<style scoped>\n",
       "    .dataframe tbody tr th:only-of-type {\n",
       "        vertical-align: middle;\n",
       "    }\n",
       "\n",
       "    .dataframe tbody tr th {\n",
       "        vertical-align: top;\n",
       "    }\n",
       "\n",
       "    .dataframe thead th {\n",
       "        text-align: right;\n",
       "    }\n",
       "</style>\n",
       "<table border=\"1\" class=\"dataframe\">\n",
       "  <thead>\n",
       "    <tr style=\"text-align: right;\">\n",
       "      <th></th>\n",
       "      <th>city</th>\n",
       "      <th>count</th>\n",
       "    </tr>\n",
       "  </thead>\n",
       "  <tbody>\n",
       "    <tr>\n",
       "      <th>0</th>\n",
       "      <td>Пятигорск</td>\n",
       "      <td>219</td>\n",
       "    </tr>\n",
       "    <tr>\n",
       "      <th>1</th>\n",
       "      <td>Екатеринбург</td>\n",
       "      <td>204</td>\n",
       "    </tr>\n",
       "    <tr>\n",
       "      <th>2</th>\n",
       "      <td>Ростов-на-Дону</td>\n",
       "      <td>198</td>\n",
       "    </tr>\n",
       "    <tr>\n",
       "      <th>3</th>\n",
       "      <td>Краснодар</td>\n",
       "      <td>193</td>\n",
       "    </tr>\n",
       "    <tr>\n",
       "      <th>4</th>\n",
       "      <td>Сочи</td>\n",
       "      <td>189</td>\n",
       "    </tr>\n",
       "    <tr>\n",
       "      <th>5</th>\n",
       "      <td>Омск</td>\n",
       "      <td>183</td>\n",
       "    </tr>\n",
       "    <tr>\n",
       "      <th>6</th>\n",
       "      <td>Тюмень</td>\n",
       "      <td>180</td>\n",
       "    </tr>\n",
       "    <tr>\n",
       "      <th>7</th>\n",
       "      <td>Москва</td>\n",
       "      <td>168</td>\n",
       "    </tr>\n",
       "  </tbody>\n",
       "</table>\n",
       "</div>"
      ],
      "text/plain": [
       "             city  count\n",
       "0       Пятигорск    219\n",
       "1    Екатеринбург    204\n",
       "2  Ростов-на-Дону    198\n",
       "3       Краснодар    193\n",
       "4            Сочи    189\n",
       "5            Омск    183\n",
       "6          Тюмень    180\n",
       "7          Москва    168"
      ]
     },
     "execution_count": 20,
     "metadata": {},
     "output_type": "execute_result"
    }
   ],
   "source": [
    "city_group"
   ]
  },
  {
   "cell_type": "markdown",
   "metadata": {},
   "source": [
    "Наиболее широко сеть GoFast представлена в южном и сибирском регионе, Москва по количеству пользователей в выборке на последнем месте со 168 пользователями, а лидирует Пятигорск, представленный 219 пользователями.\n",
    "\n"
   ]
  },
  {
   "cell_type": "markdown",
   "metadata": {},
   "source": [
    "Теперь рассмотрим соотношение пользователей с подпиской и без подписки"
   ]
  },
  {
   "cell_type": "code",
   "execution_count": 21,
   "metadata": {},
   "outputs": [
    {
     "data": {
      "image/png": "[encoded data removed]",
      "text/plain": [
       "<Figure size 400x400 with 1 Axes>"
      ]
     },
     "metadata": {},
     "output_type": "display_data"
    }
   ],
   "source": [
    "users_group = users.groupby('subscription_type').agg({'user_id' : 'count'})\n",
    "users_group['kind'] = 0\n",
    "users_group.loc[users_group.index == 'ultra', 'kind'] = 'Подписчики'\n",
    "users_group.loc[users_group.index == 'free', 'kind'] = 'Без подписки'\n",
    "users_group['user_id'].plot(kind='pie', legend=False, figsize=(4, 4), autopct='%.1f%%', labels=users_group['kind'])\n",
    "plt.title('Соотношение количества пользователей с подпиской и без подписки')\n",
    "plt.ylabel('', fontsize=13, color='black')\n",
    "plt.show()"
   ]
  },
  {
   "cell_type": "markdown",
   "metadata": {},
   "source": [
    "Подписчиков на 10% меньше чем пользователей без подписки, что говорит о хорошей конверсии сервиса.\n",
    "\n"
   ]
  },
  {
   "cell_type": "markdown",
   "metadata": {},
   "source": [
    "Определим возрастные категории пользователей"
   ]
  },
  {
   "cell_type": "code",
   "execution_count": 22,
   "metadata": {},
   "outputs": [
    {
     "data": {
      "text/plain": [
       "count    1534.000000\n",
       "mean       24.903520\n",
       "std         4.572367\n",
       "min        12.000000\n",
       "25%        22.000000\n",
       "50%        25.000000\n",
       "75%        28.000000\n",
       "max        43.000000\n",
       "Name: age, dtype: float64"
      ]
     },
     "metadata": {},
     "output_type": "display_data"
    },
    {
     "data": {
      "image/png": "[encoded data removed]",
      "text/plain": [
       "<Figure size 1000x100 with 1 Axes>"
      ]
     },
     "metadata": {},
     "output_type": "display_data"
    }
   ],
   "source": [
    "display(users['age'].describe())\n",
    "users.boxplot(column='age', vert=False, figsize=(10, 1));"
   ]
  },
  {
   "cell_type": "code",
   "execution_count": 23,
   "metadata": {
    "scrolled": false
   },
   "outputs": [
    {
     "data": {
      "image/png": "[encoded data removed]",
      "text/plain": [
       "<Figure size 1000x400 with 1 Axes>"
      ]
     },
     "metadata": {},
     "output_type": "display_data"
    }
   ],
   "source": [
    "users['age'].plot(kind='hist', grid=True, legend=False, bins=32, figsize=(10, 4))\n",
    "plt.title('Распределение пользователей по возрасту', loc ='center', pad = 15, fontsize=13, \\\n",
    "             color='black', backgroundcolor='white', fontstyle='normal')\n",
    "plt.xlabel('Возраст', fontsize=12, color='black')\n",
    "plt.ylabel('Количество пользователей', fontsize=12, color='black')\n",
    "plt.show()"
   ]
  },
  {
   "cell_type": "markdown",
   "metadata": {},
   "source": [
    "Возраст основной части пользователей от 22 до 28 лет, чаще всего встречается возраст пользователя 25 лет, распределение возрастов похоже на нормальное, поэтому средний возраст также около 25 лет. После 35 лет количество пользователей уже незначительно, а после сорока лет сервисом пользуются единицы. \n",
    "\n"
   ]
  },
  {
   "cell_type": "markdown",
   "metadata": {},
   "source": [
    "Посмотрим на расстояния, преодолеваемые пользователями за одну поездку"
   ]
  },
  {
   "cell_type": "code",
   "execution_count": 24,
   "metadata": {},
   "outputs": [
    {
     "data": {
      "text/plain": [
       "count    18068.000000\n",
       "mean      3070.659976\n",
       "std       1116.831209\n",
       "min          0.855683\n",
       "25%       2543.226360\n",
       "50%       3133.609994\n",
       "75%       3776.222735\n",
       "max       7211.007745\n",
       "Name: distance, dtype: float64"
      ]
     },
     "metadata": {},
     "output_type": "display_data"
    },
    {
     "data": {
      "image/png": "[encoded data removed]",
      "text/plain": [
       "<Figure size 1000x100 with 1 Axes>"
      ]
     },
     "metadata": {},
     "output_type": "display_data"
    }
   ],
   "source": [
    "display(rides['distance'].describe())\n",
    "rides.boxplot(column='distance', vert=False, figsize=(10, 1));"
   ]
  },
  {
   "cell_type": "code",
   "execution_count": 25,
   "metadata": {},
   "outputs": [
    {
     "data": {
      "image/png": "[encoded data removed]",
      "text/plain": [
       "<Figure size 1000x400 with 1 Axes>"
      ]
     },
     "metadata": {},
     "output_type": "display_data"
    }
   ],
   "source": [
    "rides['distance'].plot(kind='hist', grid=True, legend=False, bins=80, figsize=(10, 4))\n",
    "plt.title('Распределение расстояний, преодолеваемых за одну поездку', loc ='center', pad = 15, fontsize=13, \\\n",
    "             color='black', backgroundcolor='white', fontstyle='normal')\n",
    "plt.xlabel('Расстояние', fontsize=12, color='black')\n",
    "plt.ylabel('Количество пользователей', fontsize=12, color='black')\n",
    "plt.show()"
   ]
  },
  {
   "cell_type": "markdown",
   "metadata": {},
   "source": [
    "Обычно пользователи проезжают от двух до четырёх километров, наболее часто встречающееся значение равно трём километрам, среднее значение также около трёх километров, поскольку некоторое увеличение количества пользователей, проезжающих больше четырёх километров, компенсируется всплеском количества пользователей проезжающих менее километра.\n",
    "\n"
   ]
  },
  {
   "cell_type": "markdown",
   "metadata": {},
   "source": [
    "На следующем этапе рассмотрим продолжительности поездок"
   ]
  },
  {
   "cell_type": "code",
   "execution_count": 26,
   "metadata": {},
   "outputs": [
    {
     "data": {
      "text/plain": [
       "count    18068.000000\n",
       "mean        17.805011\n",
       "std          6.091051\n",
       "min          0.500000\n",
       "25%         13.597563\n",
       "50%         17.678395\n",
       "75%         21.724800\n",
       "max         40.823963\n",
       "Name: duration, dtype: float64"
      ]
     },
     "metadata": {},
     "output_type": "display_data"
    },
    {
     "data": {
      "image/png": "[encoded data removed]",
      "text/plain": [
       "<Figure size 1000x100 with 1 Axes>"
      ]
     },
     "metadata": {},
     "output_type": "display_data"
    }
   ],
   "source": [
    "display(rides['duration'].describe())\n",
    "rides.boxplot(column='duration', vert=False, figsize=(10, 1));"
   ]
  },
  {
   "cell_type": "code",
   "execution_count": 27,
   "metadata": {},
   "outputs": [
    {
     "data": {
      "image/png": "[encoded data removed]",
      "text/plain": [
       "<Figure size 1000x400 with 1 Axes>"
      ]
     },
     "metadata": {},
     "output_type": "display_data"
    }
   ],
   "source": [
    "rides['duration'].plot(kind='hist', grid=True, legend=False, bins=40, figsize=(10, 4))\n",
    "plt.title('Распределение продолжительностей поездок', loc ='center', pad = 15, fontsize=13, \\\n",
    "             color='black', backgroundcolor='white', fontstyle='normal')\n",
    "plt.xlabel('Продолжительность поездки', fontsize=12, color='black')\n",
    "plt.ylabel('Количество пользователей', fontsize=12, color='black')\n",
    "plt.show()"
   ]
  },
  {
   "cell_type": "markdown",
   "metadata": {},
   "source": [
    "Основная масса пользователей совершает поездки от 10 до 25 минут, наиболее частое значение около 17 минут, распределение времени похоже на нормальное, без значительных выбросов, поэтому среднее время поездки также составляет около 17 минут. Более 40 минут сервисом пракически не пользуются. Небольшой выброс количества пользователей, у которых длительность поездки составляет менее 1 минуты, может быть следствием каких-то технических проблем с оборудованием."
   ]
  },
  {
   "cell_type": "markdown",
   "metadata": {},
   "source": [
    "#### Вывод: <a id='conclusion3'></a>\n",
    "\n",
    "Наиболее широко сеть GoFast представлена в южных и сибирских регионах, Москва по количеству пользователей на последнем месте, а лидирует Пятигорск. Подписчиков на 10% меньше чем пользователей без подписки, что говорит о хорошей конверсии сервиса.\n",
    "Возраст основной части пользователей от 22 до 28 лет, чаще всего встречается возраст пользователя 25 лет, распределение возрастов похоже на нормальное, поэтому средний возраст также около 25 лет. После 35 лет количество пользователей уже незначительно, а после сорока лет сервисом пользуются единицы. Обычно пользователи проезжают от двух до четырёх километров, наболее часто встречающееся значение равно трём километрам, среднее значение также около трёх километров, поскольку некоторое увеличение количества пользователей, проезжающих больше четырёх километров, компенсируется всплеском количества пользователей проезжающих менее километра.\n",
    "Основная масса пользователей совершает поездки от 10 до 25 минут, наиболее частое значение около 17 минут, распределение времени похоже на нормальное, без значительных выбросов, поэтому среднее время поездки также составляет около 17 минут. Более 40 минут сервисом пракически не пользуются. Небольшой выброс количества пользователей, у которых длительность поездки составляет менее 1 минуты, может быть следствием каких-то технических проблем с оборудованием."
   ]
  },
  {
   "cell_type": "markdown",
   "metadata": {},
   "source": [
    "###  Объединение данных <a id='agregation'></a>"
   ]
  },
  {
   "cell_type": "markdown",
   "metadata": {},
   "source": [
    "Объединим данные о пользователях, поездках и подписках в один датафрейм"
   ]
  },
  {
   "cell_type": "code",
   "execution_count": 28,
   "metadata": {},
   "outputs": [
    {
     "name": "stdout",
     "output_type": "stream",
     "text": [
      "<class 'pandas.core.frame.DataFrame'>\n",
      "Int64Index: 18068 entries, 0 to 18067\n",
      "Data columns (total 12 columns):\n",
      " #   Column             Non-Null Count  Dtype         \n",
      "---  ------             --------------  -----         \n",
      " 0   user_id            18068 non-null  int64         \n",
      " 1   name               18068 non-null  object        \n",
      " 2   age                18068 non-null  int64         \n",
      " 3   city               18068 non-null  object        \n",
      " 4   subscription_type  18068 non-null  object        \n",
      " 5   distance           18068 non-null  float64       \n",
      " 6   duration           18068 non-null  float64       \n",
      " 7   date               18068 non-null  datetime64[ns]\n",
      " 8   month              18068 non-null  int64         \n",
      " 9   minute_price       18068 non-null  int64         \n",
      " 10  start_ride_price   18068 non-null  int64         \n",
      " 11  subscription_fee   18068 non-null  int64         \n",
      "dtypes: datetime64[ns](1), float64(2), int64(6), object(3)\n",
      "memory usage: 1.8+ MB\n"
     ]
    }
   ],
   "source": [
    "users_rides = users.merge(rides, on='user_id', how='left')\n",
    "users_sub_rides = users_rides.merge(subscriptions, on='subscription_type', how='left')\n",
    "users_sub_rides.info()"
   ]
  },
  {
   "cell_type": "markdown",
   "metadata": {},
   "source": [
    "Объединение данных прошло без потерь.\n",
    "\n"
   ]
  },
  {
   "cell_type": "markdown",
   "metadata": {},
   "source": [
    "Из полученного датафрейма сделаем выборку пользователей с подпиской"
   ]
  },
  {
   "cell_type": "code",
   "execution_count": 29,
   "metadata": {},
   "outputs": [
    {
     "name": "stdout",
     "output_type": "stream",
     "text": [
      "<class 'pandas.core.frame.DataFrame'>\n",
      "Int64Index: 6500 entries, 0 to 6499\n",
      "Data columns (total 12 columns):\n",
      " #   Column             Non-Null Count  Dtype         \n",
      "---  ------             --------------  -----         \n",
      " 0   user_id            6500 non-null   int64         \n",
      " 1   name               6500 non-null   object        \n",
      " 2   age                6500 non-null   int64         \n",
      " 3   city               6500 non-null   object        \n",
      " 4   subscription_type  6500 non-null   object        \n",
      " 5   distance           6500 non-null   float64       \n",
      " 6   duration           6500 non-null   float64       \n",
      " 7   date               6500 non-null   datetime64[ns]\n",
      " 8   month              6500 non-null   int64         \n",
      " 9   minute_price       6500 non-null   int64         \n",
      " 10  start_ride_price   6500 non-null   int64         \n",
      " 11  subscription_fee   6500 non-null   int64         \n",
      "dtypes: datetime64[ns](1), float64(2), int64(6), object(3)\n",
      "memory usage: 660.2+ KB\n"
     ]
    }
   ],
   "source": [
    "users_sub_rides_ultra = users_sub_rides.query('subscription_type == \"ultra\"')\n",
    "users_sub_rides_ultra.info()"
   ]
  },
  {
   "cell_type": "markdown",
   "metadata": {},
   "source": [
    "Получена выборка из 6500 пользователей с подпиской.\n",
    "\n",
    "Теперь сделаем выборку пользователей без подписки"
   ]
  },
  {
   "cell_type": "code",
   "execution_count": 30,
   "metadata": {},
   "outputs": [
    {
     "name": "stdout",
     "output_type": "stream",
     "text": [
      "<class 'pandas.core.frame.DataFrame'>\n",
      "Int64Index: 11568 entries, 6500 to 18067\n",
      "Data columns (total 12 columns):\n",
      " #   Column             Non-Null Count  Dtype         \n",
      "---  ------             --------------  -----         \n",
      " 0   user_id            11568 non-null  int64         \n",
      " 1   name               11568 non-null  object        \n",
      " 2   age                11568 non-null  int64         \n",
      " 3   city               11568 non-null  object        \n",
      " 4   subscription_type  11568 non-null  object        \n",
      " 5   distance           11568 non-null  float64       \n",
      " 6   duration           11568 non-null  float64       \n",
      " 7   date               11568 non-null  datetime64[ns]\n",
      " 8   month              11568 non-null  int64         \n",
      " 9   minute_price       11568 non-null  int64         \n",
      " 10  start_ride_price   11568 non-null  int64         \n",
      " 11  subscription_fee   11568 non-null  int64         \n",
      "dtypes: datetime64[ns](1), float64(2), int64(6), object(3)\n",
      "memory usage: 1.1+ MB\n"
     ]
    }
   ],
   "source": [
    "users_sub_rides_free = users_sub_rides.query('subscription_type == \"free\"')\n",
    "users_sub_rides_free.info()"
   ]
  },
  {
   "cell_type": "markdown",
   "metadata": {},
   "source": [
    "Полученная выборка содержит данные 11568 пользователей без подписки.\n"
   ]
  },
  {
   "cell_type": "markdown",
   "metadata": {},
   "source": [
    "\n",
    "На следующем этапе посмотрим какие расстояния за одну поездку проезжают представители каждой категории, начнём с подписчиков"
   ]
  },
  {
   "cell_type": "code",
   "execution_count": 31,
   "metadata": {},
   "outputs": [
    {
     "data": {
      "text/plain": [
       "count    6500.000000\n",
       "mean     3115.445388\n",
       "std       836.895330\n",
       "min       244.210438\n",
       "25%      2785.444017\n",
       "50%      3148.637229\n",
       "75%      3560.574425\n",
       "max      5699.769662\n",
       "Name: distance, dtype: float64"
      ]
     },
     "metadata": {},
     "output_type": "display_data"
    },
    {
     "data": {
      "text/plain": [
       "<Axes: >"
      ]
     },
     "execution_count": 31,
     "metadata": {},
     "output_type": "execute_result"
    },
    {
     "data": {
      "image/png": "[encoded data removed]",
      "text/plain": [
       "<Figure size 1000x100 with 1 Axes>"
      ]
     },
     "metadata": {},
     "output_type": "display_data"
    }
   ],
   "source": [
    "display(users_sub_rides_ultra['distance'].describe())\n",
    "users_sub_rides_ultra.boxplot(column='distance', vert=False, figsize=(10, 1))"
   ]
  },
  {
   "cell_type": "code",
   "execution_count": 32,
   "metadata": {},
   "outputs": [
    {
     "data": {
      "image/png": "[encoded data removed]",
      "text/plain": [
       "<Figure size 1000x400 with 1 Axes>"
      ]
     },
     "metadata": {},
     "output_type": "display_data"
    }
   ],
   "source": [
    "users_sub_rides_ultra['distance'].plot(kind='hist', grid=True, legend=False, bins=80, figsize=(10, 4))\n",
    "plt.title('Расстояния, преодолеваемые подписчиками за одну поездку', loc ='center', pad = 15, fontsize=13, \\\n",
    "             color='black', backgroundcolor='white', fontstyle='normal')\n",
    "plt.xlabel('Расстояние', fontsize=12, color='black')\n",
    "plt.ylabel('Количество пользователей', fontsize=12, color='black')\n",
    "plt.show()"
   ]
  },
  {
   "cell_type": "markdown",
   "metadata": {},
   "source": [
    "Подписчики сервиса проезжают в среднем 3115 метров при небольшом стандартном отклонении окло 800 метров. Прослеживается небольшая группа пользователей, проезжающихз за поездку около 1000 метров.\n",
    "\n",
    "Теперь рассмотрим поездки пользователей без подписки"
   ]
  },
  {
   "cell_type": "code",
   "execution_count": 33,
   "metadata": {},
   "outputs": [
    {
     "data": {
      "text/plain": [
       "count    11568.000000\n",
       "mean      3045.495282\n",
       "std       1246.173806\n",
       "min          0.855683\n",
       "25%       2366.562689\n",
       "50%       3114.648465\n",
       "75%       3905.697894\n",
       "max       7211.007745\n",
       "Name: distance, dtype: float64"
      ]
     },
     "metadata": {},
     "output_type": "display_data"
    },
    {
     "data": {
      "text/plain": [
       "<Axes: >"
      ]
     },
     "execution_count": 33,
     "metadata": {},
     "output_type": "execute_result"
    },
    {
     "data": {
      "image/png": "[encoded data removed]",
      "text/plain": [
       "<Figure size 1000x100 with 1 Axes>"
      ]
     },
     "metadata": {},
     "output_type": "display_data"
    }
   ],
   "source": [
    "display(users_sub_rides_free['distance'].describe())\n",
    "users_sub_rides_free.boxplot(column='distance', vert=False, figsize=(10, 1))"
   ]
  },
  {
   "cell_type": "code",
   "execution_count": 34,
   "metadata": {},
   "outputs": [
    {
     "data": {
      "image/png": "[encoded data removed]",
      "text/plain": [
       "<Figure size 1000x400 with 1 Axes>"
      ]
     },
     "metadata": {},
     "output_type": "display_data"
    }
   ],
   "source": [
    "users_sub_rides_free['distance'].plot(kind='hist', grid=True, legend=False, bins=80, figsize=(10, 4))\n",
    "plt.title('Расстояния, преодолеваемые за одну поездку, пользователями без подписки', loc ='center', pad = 15, fontsize=13, \\\n",
    "             color='black', backgroundcolor='white', fontstyle='normal')\n",
    "plt.xlabel('Расстояние', fontsize=12, color='black')\n",
    "plt.ylabel('Количество пользователей', fontsize=12, color='black')\n",
    "plt.show()"
   ]
  },
  {
   "cell_type": "markdown",
   "metadata": {},
   "source": [
    "Пользователи без подписки в среднем проезжают чуть меньше - 3045 метров и демонстрируют большее стандартное отклонение - 1246 метров. Они чаще проезжают расстояния больше 4000 метров, но среднее значение получается ниже из-за большого количества поездок менее 1000 метров.\n",
    "\n",
    "Далее рассмотрим продолжительности поездок, начнём с подписчиков"
   ]
  },
  {
   "cell_type": "code",
   "execution_count": 35,
   "metadata": {},
   "outputs": [
    {
     "data": {
      "text/plain": [
       "count    6500.000000\n",
       "mean       18.541985\n",
       "std         5.572048\n",
       "min         3.760353\n",
       "25%        14.524654\n",
       "50%        18.178153\n",
       "75%        21.884129\n",
       "max        40.823963\n",
       "Name: duration, dtype: float64"
      ]
     },
     "metadata": {},
     "output_type": "display_data"
    },
    {
     "data": {
      "text/plain": [
       "<Axes: >"
      ]
     },
     "execution_count": 35,
     "metadata": {},
     "output_type": "execute_result"
    },
    {
     "data": {
      "image/png": "[encoded data removed]",
      "text/plain": [
       "<Figure size 1000x100 with 1 Axes>"
      ]
     },
     "metadata": {},
     "output_type": "display_data"
    }
   ],
   "source": [
    "display(users_sub_rides_ultra['duration'].describe())\n",
    "users_sub_rides_ultra.boxplot(column='duration', vert=False, figsize=(10, 1))"
   ]
  },
  {
   "cell_type": "code",
   "execution_count": 36,
   "metadata": {},
   "outputs": [
    {
     "data": {
      "image/png": "[encoded data removed]",
      "text/plain": [
       "<Figure size 1000x400 with 1 Axes>"
      ]
     },
     "metadata": {},
     "output_type": "display_data"
    }
   ],
   "source": [
    "users_sub_rides_ultra['duration'].plot(kind='hist', grid=True, legend=False, bins=80, figsize=(10, 4))\n",
    "plt.title('Распределение продолжительностей поездок подписчиков', loc ='center', pad = 15, fontsize=13, \\\n",
    "             color='black', backgroundcolor='white', fontstyle='normal')\n",
    "plt.xlabel('Продолжительность поездки', fontsize=12, color='black')\n",
    "plt.ylabel('Количество пользователей', fontsize=12, color='black')\n",
    "plt.show()"
   ]
  },
  {
   "cell_type": "markdown",
   "metadata": {},
   "source": [
    "Продолжительность поездки подписчиков составляет в среденем 18 минут, большинство тратят на поездку от 13 до 23 минут, распределение значений похоже на нормальное, без выбросов.\n",
    "\n",
    "Теперь посмотрим на время поездки пользователей без подписки"
   ]
  },
  {
   "cell_type": "code",
   "execution_count": 37,
   "metadata": {},
   "outputs": [
    {
     "data": {
      "text/plain": [
       "count    11568.000000\n",
       "mean        17.390909\n",
       "std          6.326803\n",
       "min          0.500000\n",
       "25%         12.958437\n",
       "50%         17.326890\n",
       "75%         21.594071\n",
       "max         34.948498\n",
       "Name: duration, dtype: float64"
      ]
     },
     "metadata": {},
     "output_type": "display_data"
    },
    {
     "data": {
      "text/plain": [
       "<Axes: >"
      ]
     },
     "execution_count": 37,
     "metadata": {},
     "output_type": "execute_result"
    },
    {
     "data": {
      "image/png": "[encoded data removed]",
      "text/plain": [
       "<Figure size 1000x100 with 1 Axes>"
      ]
     },
     "metadata": {},
     "output_type": "display_data"
    }
   ],
   "source": [
    "display(users_sub_rides_free['duration'].describe())\n",
    "users_sub_rides_free.boxplot(column='duration', vert=False, figsize=(10, 1))"
   ]
  },
  {
   "cell_type": "code",
   "execution_count": 38,
   "metadata": {},
   "outputs": [
    {
     "data": {
      "image/png": "[encoded data removed]",
      "text/plain": [
       "<Figure size 1000x400 with 1 Axes>"
      ]
     },
     "metadata": {},
     "output_type": "display_data"
    }
   ],
   "source": [
    "users_sub_rides_free['duration'].plot(kind='hist', grid=True, legend=False, bins=80, figsize=(10, 4))\n",
    "plt.title('Распределение продолжительностей поездок пользователей без подписки', loc ='center', pad = 15, fontsize=13, \\\n",
    "             color='black', backgroundcolor='white', fontstyle='normal')\n",
    "plt.xlabel('Продолжительность поездки', fontsize=12, color='black')\n",
    "plt.ylabel('Количество пользователей', fontsize=12, color='black')\n",
    "plt.show()"
   ]
  },
  {
   "cell_type": "markdown",
   "metadata": {},
   "source": [
    "Пользователи без подписки тратят на поездку чуть меньше - 17 минут и показывают большее стандартное отклонение времени поездки, которое составляет 6 минут. Выброс в значениях времени поездки менее минуты наблюдается только среди этой категории пользователей"
   ]
  },
  {
   "cell_type": "markdown",
   "metadata": {},
   "source": [
    "#### Вывод: <a id='conclusion4'></a>\n",
    "\n",
    "Объединение данных о пользователях, поездках и подписках прошло без потерь. Из полученного датафрейма сделаны выборки из 6500 пользователей с подпиской и 11568 пользователей без подписки.    \n",
    "\n",
    "Подписчики сервиса проезжают в среднем 3115 метров при небольшом стандартном отклонении окло 800 метров. Прослеживается небольшая группа пользователей, проезжающихз за поездку около 1000 метров. Пользователи без подписки в среднем проезжают чуть меньше - 3045 метров и демонстрируют большее стандартное отклонение - 1246 метров. Они чаще преодолевают расстояния больше 4000 метров, но среднее значение получается ниже из-за большого количества поездок менее 1000 метров.    \n",
    "\n",
    "Продолжительность поездки подписчиков составляет в среденем 18 минут, большинство тратят на поездку от 13 до 23 минут, распределение значений похоже на нормальное, без выбросов. Пользователи без подписки тратят на поездку чуть меньше - 17 минут и показывают большее стандартное отклонение времени поездки, которое составляет 6 минут. Выброс в значениях времени поездки менее минуты наблюдается только среди этой категории пользователей."
   ]
  },
  {
   "cell_type": "markdown",
   "metadata": {},
   "source": [
    "### Подсчёт выручки <a id='calculation'></a>"
   ]
  },
  {
   "cell_type": "markdown",
   "metadata": {},
   "source": [
    "Для подсчета выручки создадим таблицу с агрегированными данными о поездках на основе датафрейма `users_sub_rides` с объединёнными данными. Найдём суммарное расстояние, количество поездок и суммарное время для каждого пользователя за каждый месяц. К полученным данным добавим столбец с помесячной выручкой, которую принёс каждый пользователь. Для подсчёта стоимости, округлим продолжительность каждой поездки в каждой строке исходного датафрейма до следующего целого числа."
   ]
  },
  {
   "cell_type": "code",
   "execution_count": 39,
   "metadata": {},
   "outputs": [
    {
     "data": {
      "text/html": [
       "<div>\n",
       "<style scoped>\n",
       "    .dataframe tbody tr th:only-of-type {\n",
       "        vertical-align: middle;\n",
       "    }\n",
       "\n",
       "    .dataframe tbody tr th {\n",
       "        vertical-align: top;\n",
       "    }\n",
       "\n",
       "    .dataframe thead th {\n",
       "        text-align: right;\n",
       "    }\n",
       "</style>\n",
       "<table border=\"1\" class=\"dataframe\">\n",
       "  <thead>\n",
       "    <tr style=\"text-align: right;\">\n",
       "      <th></th>\n",
       "      <th></th>\n",
       "      <th>rides_count</th>\n",
       "      <th>distance</th>\n",
       "      <th>duration</th>\n",
       "      <th>minute_price</th>\n",
       "      <th>start_ride_price</th>\n",
       "      <th>subscription_fee</th>\n",
       "      <th>revenue</th>\n",
       "    </tr>\n",
       "    <tr>\n",
       "      <th>month</th>\n",
       "      <th>user_id</th>\n",
       "      <th></th>\n",
       "      <th></th>\n",
       "      <th></th>\n",
       "      <th></th>\n",
       "      <th></th>\n",
       "      <th></th>\n",
       "      <th></th>\n",
       "    </tr>\n",
       "  </thead>\n",
       "  <tbody>\n",
       "    <tr>\n",
       "      <th rowspan=\"5\" valign=\"top\">1</th>\n",
       "      <th>1</th>\n",
       "      <td>2</td>\n",
       "      <td>7027.511294</td>\n",
       "      <td>42.0</td>\n",
       "      <td>6</td>\n",
       "      <td>0</td>\n",
       "      <td>199</td>\n",
       "      <td>451.0</td>\n",
       "    </tr>\n",
       "    <tr>\n",
       "      <th>3</th>\n",
       "      <td>1</td>\n",
       "      <td>3061.777147</td>\n",
       "      <td>13.0</td>\n",
       "      <td>6</td>\n",
       "      <td>0</td>\n",
       "      <td>199</td>\n",
       "      <td>277.0</td>\n",
       "    </tr>\n",
       "    <tr>\n",
       "      <th>5</th>\n",
       "      <td>1</td>\n",
       "      <td>3914.646990</td>\n",
       "      <td>13.0</td>\n",
       "      <td>6</td>\n",
       "      <td>0</td>\n",
       "      <td>199</td>\n",
       "      <td>277.0</td>\n",
       "    </tr>\n",
       "    <tr>\n",
       "      <th>7</th>\n",
       "      <td>2</td>\n",
       "      <td>6478.080979</td>\n",
       "      <td>28.0</td>\n",
       "      <td>6</td>\n",
       "      <td>0</td>\n",
       "      <td>199</td>\n",
       "      <td>367.0</td>\n",
       "    </tr>\n",
       "    <tr>\n",
       "      <th>12</th>\n",
       "      <td>1</td>\n",
       "      <td>3577.151148</td>\n",
       "      <td>33.0</td>\n",
       "      <td>6</td>\n",
       "      <td>0</td>\n",
       "      <td>199</td>\n",
       "      <td>397.0</td>\n",
       "    </tr>\n",
       "  </tbody>\n",
       "</table>\n",
       "</div>"
      ],
      "text/plain": [
       "               rides_count     distance  duration  minute_price  \\\n",
       "month user_id                                                     \n",
       "1     1                  2  7027.511294      42.0             6   \n",
       "      3                  1  3061.777147      13.0             6   \n",
       "      5                  1  3914.646990      13.0             6   \n",
       "      7                  2  6478.080979      28.0             6   \n",
       "      12                 1  3577.151148      33.0             6   \n",
       "\n",
       "               start_ride_price  subscription_fee  revenue  \n",
       "month user_id                                               \n",
       "1     1                       0               199    451.0  \n",
       "      3                       0               199    277.0  \n",
       "      5                       0               199    277.0  \n",
       "      7                       0               199    367.0  \n",
       "      12                      0               199    397.0  "
      ]
     },
     "execution_count": 39,
     "metadata": {},
     "output_type": "execute_result"
    }
   ],
   "source": [
    "users_sub_rides['duration'] = np.ceil(users_sub_rides['duration'])\n",
    "users_by_month = (users_sub_rides.pivot_table(index=['month', 'user_id'], \\\n",
    "                    values=['distance', 'duration', 'date', 'minute_price', 'start_ride_price', 'subscription_fee'], \n",
    "                    aggfunc={'distance' : 'sum', 'duration' : 'sum', 'date' : 'count', 'minute_price' : 'first',\n",
    "                            'start_ride_price' : 'first', 'subscription_fee' : 'first'}))\n",
    "\n",
    "users_by_month.columns = ['rides_count', 'distance', 'duration', 'minute_price', 'start_ride_price', 'subscription_fee']\n",
    "users_by_month['revenue'] = (users_by_month['start_ride_price'] * users_by_month['rides_count'] + users_by_month['minute_price']\n",
    "                             * users_by_month['duration'] + users_by_month['subscription_fee'])\n",
    "users_by_month.head()"
   ]
  },
  {
   "cell_type": "markdown",
   "metadata": {},
   "source": [
    "#### Вывод: <a id='conclusion5'></a>\n",
    "\n",
    "Создан датафрейм с информацией о суммарном расстоянии, количестве поездок и суммарном времени для каждого пользователя за каждый месяц. К полученным данным добавлен столбец с помесячной выручкой, которую принёс каждый пользователь. Расчётные данные готовы для дальнейшего анализа."
   ]
  },
  {
   "cell_type": "markdown",
   "metadata": {},
   "source": [
    "### Проверка гипотез <a id='check'></a>"
   ]
  },
  {
   "cell_type": "markdown",
   "metadata": {},
   "source": [
    "Первой проверим гипотезу что пользователи с подпиской тратят больше времени на поездки. Для проверки используем исходные данные о продолжительности каждой сессии — отдельно для подписчиков и тех, у кого нет подписки.    \n",
    "\n",
    "- Нулевая гипотеза: пользователи с подпиской тратят равное количество времени на поездку с пользователями без подписки.    \n",
    "- Альтернативная гипотеза: Подписчики тратят больше времени на поездку, чем пользователи без подписки."
   ]
  },
  {
   "cell_type": "code",
   "execution_count": 40,
   "metadata": {},
   "outputs": [
    {
     "name": "stdout",
     "output_type": "stream",
     "text": [
      "p-value: 1.2804098316645618e-34\n",
      "Отвергаем нулевую гипотезу\n"
     ]
    }
   ],
   "source": [
    "# задаём уровень значимости\n",
    "alpha = 0.05\n",
    "\n",
    "# траты первой группы пользователей (с подпиской)\n",
    "first_group_total = users_sub_rides_ultra['duration']\n",
    "\n",
    "# траты второй группы пользователей (без подписки)\n",
    "second_group_total = users_sub_rides_free['duration']\n",
    "\n",
    "# проводим ttest для двух выборок, в качестве альтернативной используем одностороннюю гипотезу «больше»\n",
    "results = st.ttest_ind(first_group_total, second_group_total, alternative='greater')\n",
    "\n",
    "print(f'p-value: {results.pvalue}')\n",
    "\n",
    "# проверяем p-value\n",
    "if results.pvalue < alpha:\n",
    "    print('Отвергаем нулевую гипотезу')\n",
    "else:\n",
    "    print('Нет оснований отвергнуть нулевую гипотезу')"
   ]
  },
  {
   "cell_type": "markdown",
   "metadata": {},
   "source": [
    "Проверка односторонней гипотезы показала, что пользователи с подпиской тратят больше времени на поездки, такие пользователи могут быть «выгоднее» для компании.\n",
    "\n",
    "Далее проверим, что среднее расстояние, которое проезжают пользователи с подпиской за одну поездку, не превышает 3130 метров, поскольку такое расстояние оптимально с точки зрения износа самоката.    \n",
    "Нулевая гипотеза: пользователи с подпиской проезжают за одну поездку расстояние равное 3130 метров.    \n",
    "Альтернативная гипотеза: пользователи с подпиской проезжают за одну поездку больше 3130 метров."
   ]
  },
  {
   "cell_type": "code",
   "execution_count": 41,
   "metadata": {},
   "outputs": [
    {
     "name": "stdout",
     "output_type": "stream",
     "text": [
      "p-значение: 0.9195368847849785\n",
      "Не получилось отвергнуть нулевую гипотезу: расстояние не превышает оптимального\n"
     ]
    }
   ],
   "source": [
    "from scipy import stats as st\n",
    "import numpy as np\n",
    "import pandas as pd\n",
    "\n",
    "first_group_total = users_sub_rides_ultra['distance']\n",
    "interested_value = 3130# оптимальное расстояние\n",
    "\n",
    "alpha = 0.05# укажите уровень статистической значимости\n",
    "\n",
    "results = st.ttest_1samp(\n",
    "    first_group_total, \n",
    "    interested_value,\n",
    "      alternative='greater')\n",
    "\n",
    "print('p-значение:', results.pvalue)\n",
    "\n",
    "if (results.pvalue < alpha):\n",
    "    print('Отвергаем нулевую гипотезу: среднее расстояние значимо больше 3130 метров')\n",
    "else:\n",
    "    print('Не получилось отвергнуть нулевую гипотезу: расстояние не превышает оптимального')"
   ]
  },
  {
   "cell_type": "markdown",
   "metadata": {},
   "source": [
    "Проверка гипотезы показала, что с вероятностью 92% среднее расстояние поездки пользователя с подпиской не превышает оптимального расстояния в 3130 метров. Учитывая также, что пользователи с подпиской тратят больше времени на поездки, прибыль от этой категории пользователей может быть выше прибыли пользователей без подписки. Чтобы подтвердить это, проверим гипотезу о том, будет ли помесячная выручка от пользователей с подпиской по месяцам выше, чем выручка от пользователей без подписки"
   ]
  },
  {
   "cell_type": "markdown",
   "metadata": {},
   "source": [
    "Нулевая гипотеза: помесячная выручка от пользователей с подпиской равна помесячной выручке от пользователей без подписки.    \n",
    "Альтернативная гипотеза: помесячная выручка от подписчиков больше помесячной выручки от пользователей без подписки."
   ]
  },
  {
   "cell_type": "code",
   "execution_count": 42,
   "metadata": {},
   "outputs": [
    {
     "name": "stdout",
     "output_type": "stream",
     "text": [
      "p-value: 1.8850394384715216e-31\n",
      "Отвергаем нулевую гипотезу\n"
     ]
    }
   ],
   "source": [
    "# задаём уровень значимости\n",
    "alpha = 0.05\n",
    "\n",
    "# выручка первой группы пользователей (с подпиской)\n",
    "first_group_total = users_by_month.query('subscription_fee > 0')['revenue']\n",
    "\n",
    "# выручка второй группы пользователей (без подписки)\n",
    "second_group_total = users_by_month.query('subscription_fee == 0')['revenue']\n",
    "\n",
    "# проводим ttest для двух выборок, в качестве альтернативной используем одностороннюю гипотезу «больше»\n",
    "results = st.ttest_ind(first_group_total, second_group_total, alternative='greater')\n",
    "\n",
    "print(f'p-value: {results.pvalue}')\n",
    "\n",
    "# проверяем p-value\n",
    "if results.pvalue < alpha:\n",
    "    print('Отвергаем нулевую гипотезу')\n",
    "else:\n",
    "    print('Нет оснований отвергнуть нулевую гипотезу')"
   ]
  },
  {
   "cell_type": "markdown",
   "metadata": {},
   "source": [
    "Нулевая гипотеза отвергается, помесячная выручка больше у пользователей с подпиской. Они тратят больше времени на поездки, при этом среднее расстояние, преодолеваемое за одну поездку, не превышает оптимального. Совокупность данных факторов может обеспечить рост прибыли при увеличении конверсии пользователей сервиса в категорию подписчиков"
   ]
  },
  {
   "cell_type": "markdown",
   "metadata": {},
   "source": [
    "Техническая команда сервиса обновила сервера, с которыми взаимодействует мобильное приложение. Она надеется, что из-за этого количество обращений в техподдержку значимо снизилось. Некоторый файл содержит для каждого пользователя данные о количестве обращений до обновления и после него. Для проверки этой гипотезы применим метод scipy.stats.ttest_rel, анализирующий равенство среднего генеральной совокупности для зависимых (парных) выборок в Python"
   ]
  },
  {
   "cell_type": "markdown",
   "metadata": {},
   "source": [
    "#### Вывод: <a id='conclusion6'></a>\n",
    "\n",
    "Проверка односторонней гипотезы о том, что пользователи с подпиской тратят больше времени на поездки показала,\n",
    "что у подписчиков выше вероятность получить распределения больших значений длительности поездки чем у пользователей без подписки, следовательно пользователи с подпиской могут быть «выгоднее» для компании.\n",
    "\n",
    "Проверка гипотезы о том, что среднее расстояние, которое проезжают пользователи с подпиской за одну поездку, не превышает 3130 метров показала, что с вероятностью 92% среднее расстояние поездки подписчика не превышает оптимального. Учитывая также, что пользователи с подпиской тратят больше времени на поездки, прибыль от этой категории пользователей может быть выше прибыли пользователей без подписки. Чтобы подтвердить это, проверили гипотезу о том, что помесячная выручка от пользователей с подпиской по месяцам выше, чем выручка от пользователей без подписки. По результатам проверки гипотезы выяснили, что помесячная выручка оказалась выше у пользователей с подпиской. Этот фактор в совокупности с тем, что подписчики тратят больше времени на поездки, и среднее расстояние, преодолеваемое ими за одну поездку, не превышает оптимального, может обеспечить рост прибыли при увеличении конверсии пользователей сервиса в категорию подписчиков.    \n",
    "\n",
    "Для проверки гипотезы о том, что после обновления сервера, с которыми взаимодействует мобильное приложение, количество обращений в техподдержку значимо снизилось, необходим файл, содержащий для каждого пользователя данные о количестве обращений до обновления и после него. К этим данным нужно применить метод `scipy.stats.ttest_rel`, анализирующий равенство среднего генеральной совокупности для зависимых (парных) выборок в Python"
   ]
  },
  {
   "cell_type": "markdown",
   "metadata": {},
   "source": [
    "### Распределения <a id='distribution'></a>"
   ]
  },
  {
   "cell_type": "markdown",
   "metadata": {},
   "source": [
    "Для проведения акции с раздачей промокодов на один бесплатный месяц подписки, в рамках которой как минимум 100 существующих клиентов должны продлить эту подписку, выясним какое минимальное количество промокодов нужно разослать, чтобы вероятность не выполнить план была примерно 5 %. Эта акция уже проводилась ранее и по итогу выяснилось, что после бесплатного пробного периода подписку продлевают 10% пользователей. \n",
    "\n",
    "Для первичной оценки построим биномиальное распределение, которое описывает указанную ситуацию для тысячи розданных промокодов"
   ]
  },
  {
   "cell_type": "code",
   "execution_count": 43,
   "metadata": {},
   "outputs": [
    {
     "data": {
      "image/png": "[encoded data removed]",
      "text/plain": [
       "<Figure size 1000x400 with 1 Axes>"
      ]
     },
     "metadata": {},
     "output_type": "display_data"
    }
   ],
   "source": [
    "p = 0.1 # вероятность продления подписки\n",
    "n = 1000 # количество промокодов, котрые нужно разослать\n",
    "\n",
    "distr = [] # список в котором будем хранить значения распределения\n",
    "\n",
    "for k in range(0, n + 1):\n",
    "    current_value = binom.pmf(k, n, p)\n",
    "    distr.append(current_value)\n",
    "\n",
    "# строим гистограмму распределения вероятностей\n",
    "fig, ax = plt.subplots(figsize=(10, 4))\n",
    "plt.bar(range(0, n+1), distr)\n",
    "ax.set_xlim(50, 150)\n",
    "plt.title('Распределение вероятносей продления подписки')\n",
    "plt.grid()\n",
    "plt.xticks(rotation=0, ha='center')\n",
    "plt.show()"
   ]
  },
  {
   "cell_type": "markdown",
   "metadata": {},
   "source": [
    "Подберем подходящее значение количества промокодов, чтобы вероятность не выполнить план была примерно 5 %"
   ]
  },
  {
   "cell_type": "code",
   "execution_count": 44,
   "metadata": {},
   "outputs": [
    {
     "name": "stdout",
     "output_type": "stream",
     "text": [
      "При раздаче 1169 промокодов, вероятность не выполнить план будет примерно 5.0%\n"
     ]
    }
   ],
   "source": [
    "# задаём параметры биномиального распределения\n",
    "n = 1000\n",
    "p = 0.1\n",
    "\n",
    "result = 1\n",
    "while result >= 0.05:\n",
    "    n += 1\n",
    "    # задаём параметры нормального распределения равными\n",
    "    # мат.ожиданию и дисперсии биномиального распределения\n",
    "    mu = n * p\n",
    "    sigma = sqrt(n * p * (1 - p))\n",
    "    # задаём нормальное распределение\n",
    "    distr = st.norm(mu, sigma) \n",
    "    # считаем вероятность хвоста слева от 100\n",
    "    result = distr.cdf(100)\n",
    "    \n",
    "print(f'При раздаче {n} промокодов, вероятность не выполнить план будет примерно {result:.1%}')"
   ]
  },
  {
   "cell_type": "markdown",
   "metadata": {},
   "source": [
    "Чтобы вероятность не выполнить план была около 5%, необходимо раздать минимум 1169 промокодов. Посмотрим как отображается на графике плотность вероятности не выполнить план при раздаче 1169 промокодов."
   ]
  },
  {
   "cell_type": "code",
   "execution_count": 45,
   "metadata": {},
   "outputs": [],
   "source": [
    "# для визуализации нормального распределения зададим функцию, \n",
    "#которая выдаёт <num> чисел, равномерно распределённых от <start> до <stop>\n",
    "def linspace(start, stop, num):\n",
    "    step = (stop - start) / (num - 1)\n",
    "    result = []\n",
    "    for i in range(num):\n",
    "        result.append(start + step * i)\n",
    "    return result"
   ]
  },
  {
   "cell_type": "code",
   "execution_count": 46,
   "metadata": {},
   "outputs": [
    {
     "data": {
      "image/png": "[encoded data removed]",
      "text/plain": [
       "<Figure size 640x480 with 1 Axes>"
      ]
     },
     "metadata": {},
     "output_type": "display_data"
    }
   ],
   "source": [
    "# границы промежутка, в котором будем строить аппроксимацию от mu минус 4 ст.отклонения бином.распределения\n",
    "# до mu плюс 4 ст.отклонения бином.распределения (там, где вероятности значений почти не равны нулю)\n",
    "# параметры нормального распределения возъмём из предыдущего расчёта\n",
    "left = int(mu - 4 * sigma)\n",
    "right = int(mu + 4 * sigma)\n",
    " \n",
    "# рисуем график нормального распределения:\n",
    "# получим список из 100 чисел от left до right\n",
    "x = linspace(left, right, 100)\n",
    "# используем красную линию ширины 3 и прозрачности 0.3\n",
    "ax = plt.subplot()\n",
    "ax.plot(x, norm.pdf(x, mu, sigma), 'r-', lw=3, alpha=0.3)\n",
    "plt.title('Плотность вероятности продления подписки')\n",
    "plt.grid()\n",
    "plt.xticks(rotation=45, ha='right')\n",
    "plt.show()"
   ]
  },
  {
   "cell_type": "markdown",
   "metadata": {},
   "source": [
    "Из графика видим, что при раздаче 1169 промокодов с большей долей вероятности размер группы пользователей, продливших подписку, будет превышать сто человек, расчётная вероятность не выполнить составляет около 5%."
   ]
  },
  {
   "cell_type": "markdown",
   "metadata": {},
   "source": [
    "Отдел маркетинга планирует разослать 1 млн уведомлений, известно, что уведомления открывают около 40% получивших клиентов. Построим примерный график распределения и оценим вероятность того, что уведомление откроют не более 399,5 тыс. пользователей. \n",
    "Для 1 млн уведомлений график строится долго, поэтому будем использовать аппрокисмацию биномиального распределнеия нормальным"
   ]
  },
  {
   "cell_type": "code",
   "execution_count": 47,
   "metadata": {},
   "outputs": [
    {
     "data": {
      "image/png": "[encoded data removed]",
      "text/plain": [
       "<Figure size 640x480 with 1 Axes>"
      ]
     },
     "metadata": {},
     "output_type": "display_data"
    },
    {
     "name": "stdout",
     "output_type": "stream",
     "text": [
      "Условие аппроксимации выполняется\n"
     ]
    }
   ],
   "source": [
    "p = 0.4 # вероятность просмотра уведомления\n",
    "n = 1000000 # количество разосланных уведомлений\n",
    "\n",
    "# границы промежутка, в котором будем строить аппроксимацию от n*p минус 4 ст.отклонения бином.распределения\n",
    "# до n*p плюс 4 ст.отклонения бином.распределения (там, где вероятности значений почти не равны нулю)\n",
    "left = int(n * p - 4 * sqrt(n * p * (1 - p)))\n",
    "right = int(n * p + 4 * sqrt(n * p * (1 - p)))\n",
    "\n",
    "# зададим параметры нормального распределения равными\n",
    "# мат.ожиданию и дисперсии биномиального распределения\n",
    "mu = n * p\n",
    "sigma = sqrt(n * p * (1 - p))\n",
    " \n",
    "# рисуем график нормального распределения:\n",
    "# получим список из 100 чисел от left до right\n",
    "x = linspace(left, right, 100)\n",
    "# используем красную линию ширины 3 и прозрачности 0.3\n",
    "ax = plt.subplot()\n",
    "ax.plot(x, norm.pdf(x, mu, sigma), 'r-', lw=3, alpha=0.3)\n",
    "plt.title('плотность вероятности нормального распределения')\n",
    "plt.grid()\n",
    "plt.xticks(rotation=45, ha='right')\n",
    "plt.show()\n",
    "\n",
    "# выводим, выполняется ли наше условие аппроксимации: лежит ли mu ± 3 sigma в промежутке от 0 до n:\n",
    "if (mu - (3 * sigma) >= 0) and ((mu + (3 * sigma) <= n)):\n",
    "    print('Условие аппроксимации выполняется')\n",
    "else:\n",
    "    print('Условие аппроксимации не выполняется')"
   ]
  },
  {
   "cell_type": "markdown",
   "metadata": {},
   "source": [
    "Аппроксимация выполнена точно, график показывает, что с большой долей вероятности уведомление откроют более 399500 человек, посчитаем, с какой вероятностью уведомление откроют менее 399500 пользователей"
   ]
  },
  {
   "cell_type": "code",
   "execution_count": 48,
   "metadata": {},
   "outputs": [
    {
     "name": "stdout",
     "output_type": "stream",
     "text": [
      "Вероятность того, что уведомление откроют не более 399,5 тыс. пользователей составляет 15.4%\n"
     ]
    }
   ],
   "source": [
    "# используем параметры нормального распределения из предыдущих расчётов\n",
    "# задаём нормальное распределение\n",
    "distr = st.norm(mu, sigma) \n",
    "result = distr.cdf(399500)\n",
    "print(f'Вероятность того, что уведомление откроют не более 399,5 тыс. пользователей составляет {result:.1%}')"
   ]
  },
  {
   "cell_type": "markdown",
   "metadata": {},
   "source": [
    "При рассылке 1 млн push-уведомлений, с вероятностью 15.4%, уведомление откроют менее 399500 пользователей."
   ]
  },
  {
   "cell_type": "markdown",
   "metadata": {},
   "source": [
    "#### Вывод: <a id='conclusion7'></a>\n",
    "\n",
    "Для проведения акции с раздачей промокодов на один бесплатный месяц подписки, в рамках которой как минимум 100 существующих клиентов должны продлить эту подписку, минимальное количество промокодов, которые нужно разослать, чтобы вероятность не выполнить план была около 5%, составляет 1169.\n",
    "\n",
    "При рассылке отделом маркетинга 1 млн push-уведомлений, с помощью аппрокисмации биномиального распределнеия нормальным выяснили, что с большой долей вероятности уведомление откроют более 399500 человек, вероятность, что уведомление откроет меньшее количество пользователей составляет 15.4%"
   ]
  },
  {
   "cell_type": "markdown",
   "metadata": {},
   "source": [
    "### Результаты исследования <a id='result'></a>"
   ]
  },
  {
   "cell_type": "markdown",
   "metadata": {},
   "source": [
    "Полученные данные были загружены без ошибок, в таблице с информацией о пользователях 1565 записей, таблица с данными о поездках содержит 18068 записей, в таблице с данными о подписках всего 2 записи. Тип данных в столбце `date` таблицы `rides_go` был приведён к формату datetime. Названия столбцов и типы данных соответствуют содержащейся информациии. Полученная выборка данных является достаточной для проведения исследования.\n",
    "\n",
    "В ходе предобработки данных для проведения исследования создан столбец с номером месяца на основе столбца `date`.\n",
    "Пропуски данных отсутствовали во всех таблицах. Дубликаты обнаружены только в таблице `users`, они не связаны с конкретным городом, или типом подписки, похоже на технический сбой при формировании данных. 31 найденный дубликат удален, чтобы не вносить искажения в исследование. Очищенные данные выглядят репрезентативными, после удаления дубликатов в выборке `users` осталось 1534 записи.\n",
    "\n",
    "Исследовательский анализ показал, что наиболее широко сеть GoFast представлена в южных и сибирских регионах, Москва по количеству пользователей на последнем месте, а лидирует Пятигорск. Подписчиков на 10% меньше чем пользователей без подписки, что говорит о хорошей конверсии сервиса.\n",
    "Возраст основной части пользователей от 22 до 28 лет, чаще всего встречается возраст пользователя 25 лет, распределение возрастов похоже на нормальное, поэтому средний возраст также около 25 лет. После 35 лет количество пользователей уже незначительно, а после сорока лет сервисом пользуются единицы. Обычно пользователи проезжают от двух до четырёх километров, наболее часто встречающееся значение равно трём километрам, среднее значение также около трёх километров, поскольку некоторое увеличение количества пользователей, проезжающих больше четырёх километров, компенсируется всплеском количества пользователей проезжающих менее километра.\n",
    "Основная масса пользователей совершает поездки от 10 до 25 минут, наиболее частое значение около 17 минут, распределение времени похоже на нормальное, без значительных выбросов, поэтому среднее время поездки также составляет около 17 минут. Более 40 минут самокатами пракически не пользуются. Небольшой выброс количества пользователей, у которых длительность поездки составляет менее 1 минуты, может быть следствием каких-то технических проблем с оборудованием.\n",
    "\n",
    "Объединение данных о пользователях, поездках и подписках прошло без потерь. Из полученного датафрейма сделаны выборки из 6500 подпичиков сервиса и 11568 пользователей без подписки.    \n",
    "\n",
    "В ходе исследования объединённых данных установили, что подписчики сервиса проезжают в среднем 3115 метров при небольшом стандартном отклонении окло 800 метров. Прослеживается небольшая группа пользователей, проезжающихз за поездку около 1000 метров. Пользователи без подписки в среднем проезжают чуть меньше - 3045 метров и демонстрируют большее стандартное отклонение - 1246 метров. Они чаще преодолевают расстояния больше 4000 метров, но среднее значение получается ниже из-за большого количества поездок менее 1000 метров.    \n",
    "Продолжительность поездки подписчиков составляет в среденем 18 минут, большинство тратят на поездку от 13 до 23 минут, распределение значений похоже на нормальное, без выбросов. Пользователи без подписки тратят на поездку чуть меньше - 17 минут и показывают большее стандартное отклонение времени поездки, которое составляет 6 минут. Выброс в значениях времени поездки менее минуты наблюдается только среди этой категории пользователей.\n",
    "\n",
    "Для проверки гипотез создан датафрейм с информацией о суммарном расстоянии, количестве поездок и суммарном времени для каждого пользователя за каждый месяц. К полученным данным добавлен столбец с рассчитанной помесячной выручкой, которую принёс каждый пользователь.\n",
    "\n",
    "Проверка односторонней гипотезы о том, что пользователи с подпиской тратят больше времени на поездку, проведённая с использованием метода ttest_ind для исходных данных о продолжительности каждой сессии — отдельно для подписчиков и тех, у кого нет подписки показала, что вероятность получить распределения более высоких значений длительности поездки у подписчиков большая, чем у пользователей без подписки, следовательно пользователи с подпиской могут быть «выгоднее» для компании.\n",
    "\n",
    "Проверка гипотезы о том, что среднее расстояние, которое проезжают пользователи с подпиской за одну поездку, не превышает 3130 метров показала, что с вероятностью 92% среднее расстояние поездки подписчика не превышает оптимального. Учитывая также, что пользователи с подпиской тратят больше времени на поездки, прибыль от этой категории пользователей может быть выше прибыли пользователей без подписки.    \n",
    "Чтобы подтвердить это, проверили гипотезу о том, что помесячная выручка от пользователей с подпиской по месяцам выше, чем выручка от пользователей без подписки. По результатам проверки установили, что вероятность получения большей помесячной выручки у подписчиков выше, чем у пользователей без подписки. Этот фактор в совокупности с тем, что подписчики тратят больше времени на поездки, и среднее расстояние, преодолеваемое ими за одну поездку, не превышает оптимального, может обеспечить рост прибыли при увеличении конверсии пользователей сервиса в категорию подписчиков.    \n",
    "\n",
    "Для проверки гипотезы о том, что после обновления сервера, с которыми взаимодействует мобильное приложение, количество обращений в техподдержку значимо снизилось, необходим файл, содержащий для каждого пользователя данные о количестве обращений до обновления и после него. К этим данным нужно применить метод `scipy.stats.ttest_rel`, анализирующий равенство среднего генеральной совокупности для зависимых (парных) выборок в Python\n",
    "\n",
    "Для проведения акции с раздачей промокодов на один бесплатный месяц подписки, в рамках которой как минимум 100 существующих клиентов должны продлить эту подписку, минимальное количество промокодов, которые нужно разослать, чтобы вероятность не выполнить план была около 5%, составляет 1169.\n",
    "\n",
    "При рассылке отделом маркетинга 1 млн push-уведомлений, с помощью аппрокисмации биномиального распределнеия нормальным выяснили, что с большой долей вероятности уведомление откроют более 399500 человек, вероятность, что уведомление откроет меньшее количество пользователей составляет 15.4%\n",
    "\n",
    "#### Вывод:\n",
    "\n",
    "На основе полученных данных установили, что сервис наиболее востребован среди пользователей от 22 до 28 лет, тратящих на поездку около 17 минут и проезжающих в среднем 3 километра. При проведении рекламной компании учёт таких параметров целевой аудитории повысит эффективность поиска и привлечения новых клиентов. Также точкой роста может быть привлечение пользователей без подписки в категорию подписчиков. На момент исследования, подписчиков было на 10% меньше пользователей без подписки, что с одной стороны говорит о хорошей конверсии, но и показывает наличие большого ресурса для роста, поскольку проверка гипотез подтвердила, что пользователи с подпиской тратят больше времени на поездку, среднее расстояние, которое проезжают пользователи с подпиской за одну поездку, не превышает оптимального и помесячная выручка от пользователей с подпиской выше, чем выручка от пользователей без подписки. Следствием этих факторов может стать получение большей прибыли при увеличении конверсии пользователей без подписки в подписчиков.    \n",
    "Проводя маркетинговую компанию, следует учитывать следующие показатели, полученные в ходе исследования:    \n",
    "При рассылке 1 млн push-уведомлений, вероятность того, что уведомление откроют менее 399500 человек составляет 15.4%.    \n",
    "Для того, чтобы минимум 100 клиентов продлили полученную по акции бесплатную подписку с вероятностью 95%, необходимо раздать 1169 промокодов."
   ]
  },
  {
   "cell_type": "code",
   "execution_count": null,
   "metadata": {},
   "outputs": [],
   "source": []
  }
 ],
 "metadata": {
  "ExecuteTimeLog": [
   {
    "duration": 1434,
    "start_time": "2023-03-27T11:01:55.667Z"
   },
   {
    "duration": 29,
    "start_time": "2023-03-27T11:01:57.104Z"
   },
   {
    "duration": 2294,
    "start_time": "2023-03-27T11:01:57.135Z"
   },
   {
    "duration": 11,
    "start_time": "2023-03-27T11:01:59.432Z"
   },
   {
    "duration": 5,
    "start_time": "2023-03-27T11:01:59.445Z"
   },
   {
    "duration": 6,
    "start_time": "2023-03-27T11:01:59.451Z"
   },
   {
    "duration": 6,
    "start_time": "2023-03-27T11:01:59.458Z"
   },
   {
    "duration": 15,
    "start_time": "2023-03-27T11:01:59.466Z"
   },
   {
    "duration": 7,
    "start_time": "2023-03-27T11:01:59.483Z"
   },
   {
    "duration": 47,
    "start_time": "2023-03-27T11:01:59.492Z"
   },
   {
    "duration": 156,
    "start_time": "2023-03-27T11:01:59.541Z"
   },
   {
    "duration": 10,
    "start_time": "2023-03-27T11:01:59.699Z"
   },
   {
    "duration": 27,
    "start_time": "2023-03-27T11:01:59.711Z"
   },
   {
    "duration": 25,
    "start_time": "2023-03-27T11:01:59.742Z"
   },
   {
    "duration": 16,
    "start_time": "2023-03-27T11:01:59.769Z"
   },
   {
    "duration": 146,
    "start_time": "2023-03-27T11:01:59.787Z"
   },
   {
    "duration": 7,
    "start_time": "2023-03-27T11:01:59.935Z"
   },
   {
    "duration": 134,
    "start_time": "2023-03-27T11:01:59.944Z"
   },
   {
    "duration": 7,
    "start_time": "2023-03-27T11:02:00.080Z"
   },
   {
    "duration": 27,
    "start_time": "2023-03-27T11:02:00.088Z"
   },
   {
    "duration": 54,
    "start_time": "2023-03-27T11:02:00.117Z"
   },
   {
    "duration": 16,
    "start_time": "2023-03-27T11:02:00.178Z"
   },
   {
    "duration": 25,
    "start_time": "2023-03-27T11:02:00.196Z"
   },
   {
    "duration": 30,
    "start_time": "2023-03-27T11:02:00.225Z"
   },
   {
    "duration": 32,
    "start_time": "2023-03-27T11:02:00.256Z"
   },
   {
    "duration": 51,
    "start_time": "2023-03-27T11:02:00.291Z"
   },
   {
    "duration": 261,
    "start_time": "2023-03-27T11:02:00.344Z"
   },
   {
    "duration": 24,
    "start_time": "2023-03-27T11:02:00.610Z"
   },
   {
    "duration": 24,
    "start_time": "2023-03-27T11:02:00.637Z"
   },
   {
    "duration": 35,
    "start_time": "2023-03-27T11:02:00.663Z"
   },
   {
    "duration": 69,
    "start_time": "2023-03-27T11:02:00.701Z"
   },
   {
    "duration": 22,
    "start_time": "2023-03-27T11:02:00.773Z"
   },
   {
    "duration": 176,
    "start_time": "2023-03-27T11:02:00.797Z"
   },
   {
    "duration": 8,
    "start_time": "2023-03-27T11:02:00.975Z"
   },
   {
    "duration": 179,
    "start_time": "2023-03-27T11:02:00.985Z"
   },
   {
    "duration": 7,
    "start_time": "2023-03-27T11:02:01.166Z"
   },
   {
    "duration": 37,
    "start_time": "2023-03-27T11:02:01.175Z"
   },
   {
    "duration": 40,
    "start_time": "2023-03-27T11:02:01.214Z"
   },
   {
    "duration": 28,
    "start_time": "2023-03-27T11:02:01.256Z"
   },
   {
    "duration": 68,
    "start_time": "2023-03-27T11:02:01.286Z"
   },
   {
    "duration": 65,
    "start_time": "2023-03-27T11:02:01.357Z"
   },
   {
    "duration": 8369,
    "start_time": "2023-03-27T11:02:01.427Z"
   },
   {
    "duration": 13,
    "start_time": "2023-03-27T11:02:09.798Z"
   },
   {
    "duration": 35,
    "start_time": "2023-03-27T11:02:09.813Z"
   },
   {
    "duration": 17,
    "start_time": "2023-03-27T11:02:09.850Z"
   },
   {
    "duration": 4,
    "start_time": "2023-03-27T11:02:09.869Z"
   },
   {
    "duration": 413,
    "start_time": "2023-03-27T11:02:09.875Z"
   },
   {
    "duration": 296,
    "start_time": "2023-03-27T11:02:10.290Z"
   },
   {
    "duration": 408,
    "start_time": "2023-03-27T11:02:10.588Z"
   },
   {
    "duration": 215,
    "start_time": "2023-03-27T11:02:10.998Z"
   },
   {
    "duration": 256,
    "start_time": "2023-03-27T11:02:11.216Z"
   },
   {
    "duration": 173,
    "start_time": "2023-03-27T11:02:11.474Z"
   },
   {
    "duration": 194,
    "start_time": "2023-03-27T11:02:11.649Z"
   },
   {
    "duration": 209,
    "start_time": "2023-03-27T11:02:11.845Z"
   },
   {
    "duration": 148,
    "start_time": "2023-03-27T11:02:12.056Z"
   },
   {
    "duration": 267,
    "start_time": "2023-03-27T11:02:12.206Z"
   },
   {
    "duration": 186,
    "start_time": "2023-03-27T11:02:12.475Z"
   },
   {
    "duration": 186,
    "start_time": "2023-03-27T11:02:12.663Z"
   },
   {
    "duration": 191,
    "start_time": "2023-03-27T11:02:12.851Z"
   },
   {
    "duration": 253,
    "start_time": "2023-03-27T11:02:13.044Z"
   },
   {
    "duration": 169,
    "start_time": "2023-03-27T11:02:13.299Z"
   },
   {
    "duration": 194,
    "start_time": "2023-03-27T11:02:13.469Z"
   },
   {
    "duration": 10,
    "start_time": "2023-03-27T11:02:13.665Z"
   },
   {
    "duration": 201,
    "start_time": "2023-03-27T11:02:13.677Z"
   },
   {
    "duration": 207,
    "start_time": "2023-03-27T11:02:13.880Z"
   },
   {
    "duration": 201,
    "start_time": "2023-03-27T11:02:14.090Z"
   },
   {
    "duration": 210,
    "start_time": "2023-03-27T11:02:14.293Z"
   },
   {
    "duration": 135,
    "start_time": "2023-03-27T11:02:14.504Z"
   },
   {
    "duration": 196,
    "start_time": "2023-03-27T11:02:14.641Z"
   },
   {
    "duration": 215,
    "start_time": "2023-03-27T11:02:14.839Z"
   },
   {
    "duration": 188,
    "start_time": "2023-03-27T11:02:15.056Z"
   },
   {
    "duration": 33,
    "start_time": "2023-03-27T11:02:15.246Z"
   },
   {
    "duration": 139,
    "start_time": "2023-03-27T11:02:15.281Z"
   },
   {
    "duration": 199,
    "start_time": "2023-03-27T11:02:15.422Z"
   },
   {
    "duration": 1530,
    "start_time": "2023-03-27T11:21:18.797Z"
   },
   {
    "duration": 18,
    "start_time": "2023-03-27T11:21:20.330Z"
   },
   {
    "duration": 164,
    "start_time": "2023-03-27T11:21:20.351Z"
   },
   {
    "duration": 0,
    "start_time": "2023-03-27T11:21:20.519Z"
   },
   {
    "duration": 0,
    "start_time": "2023-03-27T11:21:20.521Z"
   },
   {
    "duration": 0,
    "start_time": "2023-03-27T11:21:20.523Z"
   },
   {
    "duration": 0,
    "start_time": "2023-03-27T11:21:20.524Z"
   },
   {
    "duration": 0,
    "start_time": "2023-03-27T11:21:20.526Z"
   },
   {
    "duration": 0,
    "start_time": "2023-03-27T11:21:20.527Z"
   },
   {
    "duration": 0,
    "start_time": "2023-03-27T11:21:20.529Z"
   },
   {
    "duration": 0,
    "start_time": "2023-03-27T11:21:20.530Z"
   },
   {
    "duration": 0,
    "start_time": "2023-03-27T11:21:20.532Z"
   },
   {
    "duration": 0,
    "start_time": "2023-03-27T11:21:20.533Z"
   },
   {
    "duration": 0,
    "start_time": "2023-03-27T11:21:20.535Z"
   },
   {
    "duration": 0,
    "start_time": "2023-03-27T11:21:20.536Z"
   },
   {
    "duration": 0,
    "start_time": "2023-03-27T11:21:20.537Z"
   },
   {
    "duration": 0,
    "start_time": "2023-03-27T11:21:20.539Z"
   },
   {
    "duration": 0,
    "start_time": "2023-03-27T11:21:20.541Z"
   },
   {
    "duration": 0,
    "start_time": "2023-03-27T11:21:20.542Z"
   },
   {
    "duration": 0,
    "start_time": "2023-03-27T11:21:20.543Z"
   },
   {
    "duration": 0,
    "start_time": "2023-03-27T11:21:20.544Z"
   },
   {
    "duration": 0,
    "start_time": "2023-03-27T11:21:20.545Z"
   },
   {
    "duration": 0,
    "start_time": "2023-03-27T11:21:20.546Z"
   },
   {
    "duration": 0,
    "start_time": "2023-03-27T11:21:20.548Z"
   },
   {
    "duration": 0,
    "start_time": "2023-03-27T11:21:20.549Z"
   },
   {
    "duration": 0,
    "start_time": "2023-03-27T11:21:20.550Z"
   },
   {
    "duration": 0,
    "start_time": "2023-03-27T11:21:20.551Z"
   },
   {
    "duration": 0,
    "start_time": "2023-03-27T11:21:20.553Z"
   },
   {
    "duration": 0,
    "start_time": "2023-03-27T11:21:20.555Z"
   },
   {
    "duration": 0,
    "start_time": "2023-03-27T11:21:20.556Z"
   },
   {
    "duration": 0,
    "start_time": "2023-03-27T11:21:20.558Z"
   },
   {
    "duration": 0,
    "start_time": "2023-03-27T11:21:20.559Z"
   },
   {
    "duration": 0,
    "start_time": "2023-03-27T11:21:20.561Z"
   },
   {
    "duration": 0,
    "start_time": "2023-03-27T11:21:20.563Z"
   },
   {
    "duration": 0,
    "start_time": "2023-03-27T11:21:20.624Z"
   },
   {
    "duration": 0,
    "start_time": "2023-03-27T11:21:20.625Z"
   },
   {
    "duration": 0,
    "start_time": "2023-03-27T11:21:20.626Z"
   },
   {
    "duration": 0,
    "start_time": "2023-03-27T11:21:20.627Z"
   },
   {
    "duration": 0,
    "start_time": "2023-03-27T11:21:20.628Z"
   },
   {
    "duration": 0,
    "start_time": "2023-03-27T11:21:20.629Z"
   },
   {
    "duration": 0,
    "start_time": "2023-03-27T11:21:20.631Z"
   },
   {
    "duration": 0,
    "start_time": "2023-03-27T11:21:20.631Z"
   },
   {
    "duration": 0,
    "start_time": "2023-03-27T11:21:20.632Z"
   },
   {
    "duration": 0,
    "start_time": "2023-03-27T11:21:20.633Z"
   },
   {
    "duration": 0,
    "start_time": "2023-03-27T11:21:20.635Z"
   },
   {
    "duration": 0,
    "start_time": "2023-03-27T11:21:20.636Z"
   },
   {
    "duration": 0,
    "start_time": "2023-03-27T11:21:20.637Z"
   },
   {
    "duration": 0,
    "start_time": "2023-03-27T11:21:20.638Z"
   },
   {
    "duration": 0,
    "start_time": "2023-03-27T11:21:20.639Z"
   },
   {
    "duration": 0,
    "start_time": "2023-03-27T11:21:20.640Z"
   },
   {
    "duration": 0,
    "start_time": "2023-03-27T11:21:20.641Z"
   },
   {
    "duration": 0,
    "start_time": "2023-03-27T11:21:20.642Z"
   },
   {
    "duration": 0,
    "start_time": "2023-03-27T11:21:20.644Z"
   },
   {
    "duration": 0,
    "start_time": "2023-03-27T11:21:20.645Z"
   },
   {
    "duration": 0,
    "start_time": "2023-03-27T11:21:20.646Z"
   },
   {
    "duration": 0,
    "start_time": "2023-03-27T11:21:20.647Z"
   },
   {
    "duration": 0,
    "start_time": "2023-03-27T11:21:20.649Z"
   },
   {
    "duration": 0,
    "start_time": "2023-03-27T11:21:20.650Z"
   },
   {
    "duration": 0,
    "start_time": "2023-03-27T11:21:20.652Z"
   },
   {
    "duration": 0,
    "start_time": "2023-03-27T11:21:20.653Z"
   },
   {
    "duration": 0,
    "start_time": "2023-03-27T11:21:20.655Z"
   },
   {
    "duration": 0,
    "start_time": "2023-03-27T11:21:20.656Z"
   },
   {
    "duration": 0,
    "start_time": "2023-03-27T11:21:20.657Z"
   },
   {
    "duration": 0,
    "start_time": "2023-03-27T11:21:20.659Z"
   },
   {
    "duration": 0,
    "start_time": "2023-03-27T11:21:20.661Z"
   },
   {
    "duration": 0,
    "start_time": "2023-03-27T11:21:20.726Z"
   },
   {
    "duration": 0,
    "start_time": "2023-03-27T11:21:20.728Z"
   },
   {
    "duration": 0,
    "start_time": "2023-03-27T11:21:20.729Z"
   },
   {
    "duration": 0,
    "start_time": "2023-03-27T11:21:20.729Z"
   },
   {
    "duration": 0,
    "start_time": "2023-03-27T11:21:20.731Z"
   },
   {
    "duration": 0,
    "start_time": "2023-03-27T11:21:20.734Z"
   },
   {
    "duration": 0,
    "start_time": "2023-03-27T11:21:20.736Z"
   },
   {
    "duration": 0,
    "start_time": "2023-03-27T11:21:20.737Z"
   },
   {
    "duration": 0,
    "start_time": "2023-03-27T11:21:20.739Z"
   },
   {
    "duration": 1471,
    "start_time": "2023-03-27T11:40:03.447Z"
   },
   {
    "duration": 16,
    "start_time": "2023-03-27T11:40:04.924Z"
   },
   {
    "duration": 2243,
    "start_time": "2023-03-27T11:40:04.943Z"
   },
   {
    "duration": 11,
    "start_time": "2023-03-27T11:40:07.189Z"
   },
   {
    "duration": 23,
    "start_time": "2023-03-27T11:40:07.201Z"
   },
   {
    "duration": 7,
    "start_time": "2023-03-27T11:40:07.226Z"
   },
   {
    "duration": 10,
    "start_time": "2023-03-27T11:40:07.235Z"
   },
   {
    "duration": 16,
    "start_time": "2023-03-27T11:40:07.248Z"
   },
   {
    "duration": 8,
    "start_time": "2023-03-27T11:40:07.266Z"
   },
   {
    "duration": 46,
    "start_time": "2023-03-27T11:40:07.277Z"
   },
   {
    "duration": 172,
    "start_time": "2023-03-27T11:40:07.329Z"
   },
   {
    "duration": 10,
    "start_time": "2023-03-27T11:40:07.504Z"
   },
   {
    "duration": 14,
    "start_time": "2023-03-27T11:40:07.524Z"
   },
   {
    "duration": 33,
    "start_time": "2023-03-27T11:40:07.540Z"
   },
   {
    "duration": 7,
    "start_time": "2023-03-27T11:40:07.575Z"
   },
   {
    "duration": 159,
    "start_time": "2023-03-27T11:40:07.584Z"
   },
   {
    "duration": 8,
    "start_time": "2023-03-27T11:40:07.744Z"
   },
   {
    "duration": 138,
    "start_time": "2023-03-27T11:40:07.754Z"
   },
   {
    "duration": 9,
    "start_time": "2023-03-27T11:40:07.894Z"
   },
   {
    "duration": 25,
    "start_time": "2023-03-27T11:40:07.905Z"
   },
   {
    "duration": 22,
    "start_time": "2023-03-27T11:40:07.932Z"
   },
   {
    "duration": 13,
    "start_time": "2023-03-27T11:40:07.956Z"
   },
   {
    "duration": 17,
    "start_time": "2023-03-27T11:40:07.971Z"
   },
   {
    "duration": 12,
    "start_time": "2023-03-27T11:40:07.990Z"
   },
   {
    "duration": 25,
    "start_time": "2023-03-27T11:40:08.003Z"
   },
   {
    "duration": 18,
    "start_time": "2023-03-27T11:40:08.030Z"
   },
   {
    "duration": 166,
    "start_time": "2023-03-27T11:40:08.050Z"
   },
   {
    "duration": 9,
    "start_time": "2023-03-27T11:40:08.223Z"
   },
   {
    "duration": 13,
    "start_time": "2023-03-27T11:40:08.234Z"
   },
   {
    "duration": 6,
    "start_time": "2023-03-27T11:40:08.250Z"
   },
   {
    "duration": 33,
    "start_time": "2023-03-27T11:40:08.258Z"
   },
   {
    "duration": 36,
    "start_time": "2023-03-27T11:40:08.293Z"
   },
   {
    "duration": 146,
    "start_time": "2023-03-27T11:40:08.331Z"
   },
   {
    "duration": 8,
    "start_time": "2023-03-27T11:40:08.479Z"
   },
   {
    "duration": 176,
    "start_time": "2023-03-27T11:40:08.489Z"
   },
   {
    "duration": 7,
    "start_time": "2023-03-27T11:40:08.666Z"
   },
   {
    "duration": 8,
    "start_time": "2023-03-27T11:40:08.675Z"
   },
   {
    "duration": 19,
    "start_time": "2023-03-27T11:40:08.684Z"
   },
   {
    "duration": 24,
    "start_time": "2023-03-27T11:40:08.704Z"
   },
   {
    "duration": 6,
    "start_time": "2023-03-27T11:40:08.730Z"
   },
   {
    "duration": 39,
    "start_time": "2023-03-27T11:40:08.739Z"
   },
   {
    "duration": 8373,
    "start_time": "2023-03-27T11:40:08.780Z"
   },
   {
    "duration": 23,
    "start_time": "2023-03-27T11:40:17.155Z"
   },
   {
    "duration": 22,
    "start_time": "2023-03-27T11:40:17.180Z"
   },
   {
    "duration": 19,
    "start_time": "2023-03-27T11:40:17.223Z"
   },
   {
    "duration": 5,
    "start_time": "2023-03-27T11:40:17.244Z"
   },
   {
    "duration": 382,
    "start_time": "2023-03-27T11:40:17.251Z"
   },
   {
    "duration": 269,
    "start_time": "2023-03-27T11:40:17.634Z"
   },
   {
    "duration": 424,
    "start_time": "2023-03-27T11:40:17.906Z"
   },
   {
    "duration": 197,
    "start_time": "2023-03-27T11:40:18.332Z"
   },
   {
    "duration": 252,
    "start_time": "2023-03-27T11:40:18.531Z"
   },
   {
    "duration": 196,
    "start_time": "2023-03-27T11:40:18.785Z"
   },
   {
    "duration": 228,
    "start_time": "2023-03-27T11:40:18.983Z"
   },
   {
    "duration": 222,
    "start_time": "2023-03-27T11:40:19.213Z"
   },
   {
    "duration": 149,
    "start_time": "2023-03-27T11:40:19.437Z"
   },
   {
    "duration": 306,
    "start_time": "2023-03-27T11:40:19.588Z"
   },
   {
    "duration": 190,
    "start_time": "2023-03-27T11:40:19.896Z"
   },
   {
    "duration": 217,
    "start_time": "2023-03-27T11:40:20.088Z"
   },
   {
    "duration": 269,
    "start_time": "2023-03-27T11:40:20.308Z"
   },
   {
    "duration": 269,
    "start_time": "2023-03-27T11:40:20.578Z"
   },
   {
    "duration": 155,
    "start_time": "2023-03-27T11:40:20.849Z"
   },
   {
    "duration": 214,
    "start_time": "2023-03-27T11:40:21.006Z"
   },
   {
    "duration": 9,
    "start_time": "2023-03-27T11:40:21.223Z"
   },
   {
    "duration": 197,
    "start_time": "2023-03-27T11:40:21.233Z"
   },
   {
    "duration": 195,
    "start_time": "2023-03-27T11:40:21.433Z"
   },
   {
    "duration": 185,
    "start_time": "2023-03-27T11:40:21.631Z"
   },
   {
    "duration": 211,
    "start_time": "2023-03-27T11:40:21.818Z"
   },
   {
    "duration": 144,
    "start_time": "2023-03-27T11:40:22.031Z"
   },
   {
    "duration": 178,
    "start_time": "2023-03-27T11:40:22.178Z"
   },
   {
    "duration": 225,
    "start_time": "2023-03-27T11:40:22.358Z"
   },
   {
    "duration": 185,
    "start_time": "2023-03-27T11:40:22.585Z"
   },
   {
    "duration": 52,
    "start_time": "2023-03-27T11:40:22.772Z"
   },
   {
    "duration": 142,
    "start_time": "2023-03-27T11:40:22.827Z"
   },
   {
    "duration": 206,
    "start_time": "2023-03-27T11:40:22.971Z"
   },
   {
    "duration": 22,
    "start_time": "2023-03-27T11:48:18.754Z"
   },
   {
    "duration": 21,
    "start_time": "2023-03-27T11:49:37.063Z"
   },
   {
    "duration": 112,
    "start_time": "2023-03-27T11:49:40.750Z"
   },
   {
    "duration": 114,
    "start_time": "2023-03-27T11:52:07.707Z"
   },
   {
    "duration": 8,
    "start_time": "2023-03-27T11:52:24.814Z"
   },
   {
    "duration": 8,
    "start_time": "2023-03-27T11:54:27.401Z"
   },
   {
    "duration": 1246,
    "start_time": "2023-03-28T20:56:18.420Z"
   },
   {
    "duration": 141,
    "start_time": "2023-03-28T20:56:19.667Z"
   },
   {
    "duration": 27,
    "start_time": "2023-03-28T20:56:19.809Z"
   },
   {
    "duration": 2090,
    "start_time": "2023-03-28T20:56:19.838Z"
   },
   {
    "duration": 21,
    "start_time": "2023-03-28T20:56:21.933Z"
   },
   {
    "duration": 11,
    "start_time": "2023-03-28T20:56:21.955Z"
   },
   {
    "duration": 7,
    "start_time": "2023-03-28T20:56:21.967Z"
   },
   {
    "duration": 8,
    "start_time": "2023-03-28T20:56:21.976Z"
   },
   {
    "duration": 12,
    "start_time": "2023-03-28T20:56:21.985Z"
   },
   {
    "duration": 39,
    "start_time": "2023-03-28T20:56:22.000Z"
   },
   {
    "duration": 15,
    "start_time": "2023-03-28T20:56:22.044Z"
   },
   {
    "duration": 184,
    "start_time": "2023-03-28T20:56:22.064Z"
   },
   {
    "duration": 8,
    "start_time": "2023-03-28T20:56:22.251Z"
   },
   {
    "duration": 10,
    "start_time": "2023-03-28T20:56:22.261Z"
   },
   {
    "duration": 76,
    "start_time": "2023-03-28T20:56:22.272Z"
   },
   {
    "duration": 7,
    "start_time": "2023-03-28T20:56:22.349Z"
   },
   {
    "duration": 230,
    "start_time": "2023-03-28T20:56:22.358Z"
   },
   {
    "duration": 7,
    "start_time": "2023-03-28T20:56:22.589Z"
   },
   {
    "duration": 155,
    "start_time": "2023-03-28T20:56:22.598Z"
   },
   {
    "duration": 6,
    "start_time": "2023-03-28T20:56:22.755Z"
   },
   {
    "duration": 12,
    "start_time": "2023-03-28T20:56:22.762Z"
   },
   {
    "duration": 72,
    "start_time": "2023-03-28T20:56:22.776Z"
   },
   {
    "duration": 14,
    "start_time": "2023-03-28T20:56:22.849Z"
   },
   {
    "duration": 10,
    "start_time": "2023-03-28T20:56:22.865Z"
   },
   {
    "duration": 69,
    "start_time": "2023-03-28T20:56:22.876Z"
   },
   {
    "duration": 12,
    "start_time": "2023-03-28T20:56:22.948Z"
   },
   {
    "duration": 316,
    "start_time": "2023-03-28T20:56:22.961Z"
   },
   {
    "duration": 71,
    "start_time": "2023-03-28T20:56:23.281Z"
   },
   {
    "duration": 9,
    "start_time": "2023-03-28T20:56:23.354Z"
   },
   {
    "duration": 6,
    "start_time": "2023-03-28T20:56:23.364Z"
   },
   {
    "duration": 86,
    "start_time": "2023-03-28T20:56:23.372Z"
   },
   {
    "duration": 7,
    "start_time": "2023-03-28T20:56:23.460Z"
   },
   {
    "duration": 228,
    "start_time": "2023-03-28T20:56:23.469Z"
   },
   {
    "duration": 16,
    "start_time": "2023-03-28T20:56:23.699Z"
   },
   {
    "duration": 236,
    "start_time": "2023-03-28T20:56:23.717Z"
   },
   {
    "duration": 7,
    "start_time": "2023-03-28T20:56:23.954Z"
   },
   {
    "duration": 10,
    "start_time": "2023-03-28T20:56:23.962Z"
   },
   {
    "duration": 13,
    "start_time": "2023-03-28T20:56:23.974Z"
   },
   {
    "duration": 7,
    "start_time": "2023-03-28T20:56:23.988Z"
   },
   {
    "duration": 7,
    "start_time": "2023-03-28T20:56:23.996Z"
   },
   {
    "duration": 63,
    "start_time": "2023-03-28T20:56:24.004Z"
   },
   {
    "duration": 10583,
    "start_time": "2023-03-28T20:56:24.069Z"
   },
   {
    "duration": 13,
    "start_time": "2023-03-28T20:56:34.654Z"
   },
   {
    "duration": 78,
    "start_time": "2023-03-28T20:56:34.669Z"
   },
   {
    "duration": 18,
    "start_time": "2023-03-28T20:56:34.750Z"
   },
   {
    "duration": 5,
    "start_time": "2023-03-28T20:56:34.770Z"
   },
   {
    "duration": 779,
    "start_time": "2023-03-28T20:56:34.776Z"
   },
   {
    "duration": 491,
    "start_time": "2023-03-28T20:56:35.557Z"
   },
   {
    "duration": 696,
    "start_time": "2023-03-28T20:56:36.049Z"
   },
   {
    "duration": 411,
    "start_time": "2023-03-28T20:56:36.747Z"
   },
   {
    "duration": 498,
    "start_time": "2023-03-28T20:56:37.160Z"
   },
   {
    "duration": 388,
    "start_time": "2023-03-28T20:56:37.660Z"
   },
   {
    "duration": 424,
    "start_time": "2023-03-28T20:56:38.052Z"
   },
   {
    "duration": 422,
    "start_time": "2023-03-28T20:56:38.533Z"
   },
   {
    "duration": 389,
    "start_time": "2023-03-28T20:56:38.957Z"
   },
   {
    "duration": 596,
    "start_time": "2023-03-28T20:56:39.350Z"
   },
   {
    "duration": 408,
    "start_time": "2023-03-28T20:56:39.949Z"
   },
   {
    "duration": 399,
    "start_time": "2023-03-28T20:56:40.360Z"
   },
   {
    "duration": 473,
    "start_time": "2023-03-28T20:56:40.761Z"
   },
   {
    "duration": 596,
    "start_time": "2023-03-28T20:56:41.244Z"
   },
   {
    "duration": 320,
    "start_time": "2023-03-28T20:56:41.842Z"
   },
   {
    "duration": 411,
    "start_time": "2023-03-28T20:56:42.164Z"
   },
   {
    "duration": 592,
    "start_time": "2023-03-28T20:56:42.577Z"
   },
   {
    "duration": 72,
    "start_time": "2023-03-28T20:56:43.172Z"
   },
   {
    "duration": 410,
    "start_time": "2023-03-28T20:56:43.248Z"
   },
   {
    "duration": 400,
    "start_time": "2023-03-28T20:56:43.660Z"
   },
   {
    "duration": 402,
    "start_time": "2023-03-28T20:56:44.062Z"
   },
   {
    "duration": 471,
    "start_time": "2023-03-28T20:56:44.466Z"
   },
   {
    "duration": 305,
    "start_time": "2023-03-28T20:56:44.941Z"
   },
   {
    "duration": 398,
    "start_time": "2023-03-28T20:56:45.250Z"
   },
   {
    "duration": 612,
    "start_time": "2023-03-28T20:56:45.652Z"
   },
   {
    "duration": 400,
    "start_time": "2023-03-28T20:56:46.266Z"
   },
   {
    "duration": 567,
    "start_time": "2023-03-28T20:56:46.669Z"
   },
   {
    "duration": 36,
    "start_time": "2023-03-28T20:56:47.238Z"
   },
   {
    "duration": 416,
    "start_time": "2023-03-28T20:56:47.337Z"
   },
   {
    "duration": 493,
    "start_time": "2023-10-13T08:45:43.055Z"
   },
   {
    "duration": 0,
    "start_time": "2023-10-13T08:45:43.551Z"
   },
   {
    "duration": 0,
    "start_time": "2023-10-13T08:45:43.553Z"
   },
   {
    "duration": 0,
    "start_time": "2023-10-13T08:45:43.554Z"
   },
   {
    "duration": 0,
    "start_time": "2023-10-13T08:45:43.556Z"
   },
   {
    "duration": 0,
    "start_time": "2023-10-13T08:45:43.557Z"
   },
   {
    "duration": 0,
    "start_time": "2023-10-13T08:45:43.559Z"
   },
   {
    "duration": 0,
    "start_time": "2023-10-13T08:45:43.560Z"
   },
   {
    "duration": 0,
    "start_time": "2023-10-13T08:45:43.561Z"
   },
   {
    "duration": 0,
    "start_time": "2023-10-13T08:45:43.563Z"
   },
   {
    "duration": 0,
    "start_time": "2023-10-13T08:45:43.564Z"
   },
   {
    "duration": 0,
    "start_time": "2023-10-13T08:45:43.566Z"
   },
   {
    "duration": 0,
    "start_time": "2023-10-13T08:45:43.566Z"
   },
   {
    "duration": 0,
    "start_time": "2023-10-13T08:45:43.568Z"
   },
   {
    "duration": 0,
    "start_time": "2023-10-13T08:45:43.569Z"
   },
   {
    "duration": 0,
    "start_time": "2023-10-13T08:45:43.570Z"
   },
   {
    "duration": 0,
    "start_time": "2023-10-13T08:45:43.571Z"
   },
   {
    "duration": 0,
    "start_time": "2023-10-13T08:45:43.572Z"
   },
   {
    "duration": 0,
    "start_time": "2023-10-13T08:45:43.573Z"
   },
   {
    "duration": 0,
    "start_time": "2023-10-13T08:45:43.574Z"
   },
   {
    "duration": 0,
    "start_time": "2023-10-13T08:45:43.575Z"
   },
   {
    "duration": 1,
    "start_time": "2023-10-13T08:45:43.576Z"
   },
   {
    "duration": 0,
    "start_time": "2023-10-13T08:45:43.578Z"
   },
   {
    "duration": 0,
    "start_time": "2023-10-13T08:45:43.579Z"
   },
   {
    "duration": 0,
    "start_time": "2023-10-13T08:45:43.580Z"
   },
   {
    "duration": 0,
    "start_time": "2023-10-13T08:45:43.581Z"
   },
   {
    "duration": 0,
    "start_time": "2023-10-13T08:45:43.583Z"
   },
   {
    "duration": 0,
    "start_time": "2023-10-13T08:45:43.584Z"
   },
   {
    "duration": 0,
    "start_time": "2023-10-13T08:45:43.585Z"
   },
   {
    "duration": 0,
    "start_time": "2023-10-13T08:45:43.586Z"
   },
   {
    "duration": 0,
    "start_time": "2023-10-13T08:45:43.587Z"
   },
   {
    "duration": 0,
    "start_time": "2023-10-13T08:45:43.588Z"
   },
   {
    "duration": 0,
    "start_time": "2023-10-13T08:45:43.589Z"
   },
   {
    "duration": 0,
    "start_time": "2023-10-13T08:45:43.648Z"
   },
   {
    "duration": 0,
    "start_time": "2023-10-13T08:45:43.649Z"
   },
   {
    "duration": 0,
    "start_time": "2023-10-13T08:45:43.650Z"
   },
   {
    "duration": 0,
    "start_time": "2023-10-13T08:45:43.651Z"
   },
   {
    "duration": 0,
    "start_time": "2023-10-13T08:45:43.652Z"
   },
   {
    "duration": 0,
    "start_time": "2023-10-13T08:45:43.654Z"
   },
   {
    "duration": 0,
    "start_time": "2023-10-13T08:45:43.655Z"
   },
   {
    "duration": 0,
    "start_time": "2023-10-13T08:45:43.656Z"
   },
   {
    "duration": 0,
    "start_time": "2023-10-13T08:45:43.657Z"
   },
   {
    "duration": 0,
    "start_time": "2023-10-13T08:45:43.658Z"
   },
   {
    "duration": 0,
    "start_time": "2023-10-13T08:45:43.659Z"
   },
   {
    "duration": 0,
    "start_time": "2023-10-13T08:45:43.660Z"
   },
   {
    "duration": 0,
    "start_time": "2023-10-13T08:45:43.663Z"
   },
   {
    "duration": 0,
    "start_time": "2023-10-13T08:45:43.665Z"
   },
   {
    "duration": 1506,
    "start_time": "2023-10-13T09:28:19.728Z"
   },
   {
    "duration": 117,
    "start_time": "2023-10-13T09:28:21.236Z"
   },
   {
    "duration": 11,
    "start_time": "2023-10-13T09:28:21.355Z"
   },
   {
    "duration": 110,
    "start_time": "2023-10-13T09:28:21.368Z"
   },
   {
    "duration": 11,
    "start_time": "2023-10-13T09:28:21.480Z"
   },
   {
    "duration": 91,
    "start_time": "2023-10-13T09:28:21.493Z"
   },
   {
    "duration": 11,
    "start_time": "2023-10-13T09:28:21.586Z"
   },
   {
    "duration": 21,
    "start_time": "2023-10-13T09:28:21.598Z"
   },
   {
    "duration": 6,
    "start_time": "2023-10-13T09:28:21.621Z"
   },
   {
    "duration": 17,
    "start_time": "2023-10-13T09:28:21.629Z"
   },
   {
    "duration": 24,
    "start_time": "2023-10-13T09:28:21.648Z"
   },
   {
    "duration": 15,
    "start_time": "2023-10-13T09:28:21.673Z"
   },
   {
    "duration": 16,
    "start_time": "2023-10-13T09:28:21.690Z"
   },
   {
    "duration": 12,
    "start_time": "2023-10-13T09:28:21.707Z"
   },
   {
    "duration": 21,
    "start_time": "2023-10-13T09:28:21.721Z"
   },
   {
    "duration": 5,
    "start_time": "2023-10-13T09:28:21.743Z"
   },
   {
    "duration": 14,
    "start_time": "2023-10-13T09:28:21.749Z"
   },
   {
    "duration": 22,
    "start_time": "2023-10-13T09:28:21.764Z"
   },
   {
    "duration": 267,
    "start_time": "2023-10-13T09:28:21.788Z"
   },
   {
    "duration": 0,
    "start_time": "2023-10-13T09:28:22.057Z"
   },
   {
    "duration": 0,
    "start_time": "2023-10-13T09:28:22.059Z"
   },
   {
    "duration": 0,
    "start_time": "2023-10-13T09:28:22.060Z"
   },
   {
    "duration": 0,
    "start_time": "2023-10-13T09:28:22.061Z"
   },
   {
    "duration": 0,
    "start_time": "2023-10-13T09:28:22.062Z"
   },
   {
    "duration": 0,
    "start_time": "2023-10-13T09:28:22.063Z"
   },
   {
    "duration": 0,
    "start_time": "2023-10-13T09:28:22.065Z"
   },
   {
    "duration": 0,
    "start_time": "2023-10-13T09:28:22.066Z"
   },
   {
    "duration": 0,
    "start_time": "2023-10-13T09:28:22.067Z"
   },
   {
    "duration": 0,
    "start_time": "2023-10-13T09:28:22.069Z"
   },
   {
    "duration": 0,
    "start_time": "2023-10-13T09:28:22.070Z"
   },
   {
    "duration": 0,
    "start_time": "2023-10-13T09:28:22.071Z"
   },
   {
    "duration": 0,
    "start_time": "2023-10-13T09:28:22.072Z"
   },
   {
    "duration": 0,
    "start_time": "2023-10-13T09:28:22.073Z"
   },
   {
    "duration": 0,
    "start_time": "2023-10-13T09:28:22.075Z"
   },
   {
    "duration": 0,
    "start_time": "2023-10-13T09:28:22.076Z"
   },
   {
    "duration": 0,
    "start_time": "2023-10-13T09:28:22.077Z"
   },
   {
    "duration": 0,
    "start_time": "2023-10-13T09:28:22.078Z"
   },
   {
    "duration": 0,
    "start_time": "2023-10-13T09:28:22.079Z"
   },
   {
    "duration": 0,
    "start_time": "2023-10-13T09:28:22.080Z"
   },
   {
    "duration": 0,
    "start_time": "2023-10-13T09:28:22.081Z"
   },
   {
    "duration": 0,
    "start_time": "2023-10-13T09:28:22.083Z"
   },
   {
    "duration": 0,
    "start_time": "2023-10-13T09:28:22.084Z"
   },
   {
    "duration": 0,
    "start_time": "2023-10-13T09:28:22.085Z"
   },
   {
    "duration": 0,
    "start_time": "2023-10-13T09:28:22.086Z"
   },
   {
    "duration": 0,
    "start_time": "2023-10-13T09:28:22.087Z"
   },
   {
    "duration": 0,
    "start_time": "2023-10-13T09:28:22.088Z"
   },
   {
    "duration": 0,
    "start_time": "2023-10-13T09:28:22.089Z"
   },
   {
    "duration": 203,
    "start_time": "2023-10-13T09:29:33.872Z"
   },
   {
    "duration": 1265,
    "start_time": "2023-10-13T09:29:53.884Z"
   },
   {
    "duration": 58,
    "start_time": "2023-10-13T09:29:55.151Z"
   },
   {
    "duration": 23,
    "start_time": "2023-10-13T09:29:55.211Z"
   },
   {
    "duration": 87,
    "start_time": "2023-10-13T09:29:55.237Z"
   },
   {
    "duration": 16,
    "start_time": "2023-10-13T09:29:55.326Z"
   },
   {
    "duration": 68,
    "start_time": "2023-10-13T09:29:55.344Z"
   },
   {
    "duration": 72,
    "start_time": "2023-10-13T09:29:55.414Z"
   },
   {
    "duration": 52,
    "start_time": "2023-10-13T09:29:55.488Z"
   },
   {
    "duration": 36,
    "start_time": "2023-10-13T09:29:55.542Z"
   },
   {
    "duration": 35,
    "start_time": "2023-10-13T09:29:55.581Z"
   },
   {
    "duration": 39,
    "start_time": "2023-10-13T09:29:55.618Z"
   },
   {
    "duration": 39,
    "start_time": "2023-10-13T09:29:55.659Z"
   },
   {
    "duration": 37,
    "start_time": "2023-10-13T09:29:55.699Z"
   },
   {
    "duration": 84,
    "start_time": "2023-10-13T09:29:55.738Z"
   },
   {
    "duration": 74,
    "start_time": "2023-10-13T09:29:55.824Z"
   },
   {
    "duration": 28,
    "start_time": "2023-10-13T09:29:55.900Z"
   },
   {
    "duration": 55,
    "start_time": "2023-10-13T09:29:55.930Z"
   },
   {
    "duration": 35,
    "start_time": "2023-10-13T09:29:55.987Z"
   },
   {
    "duration": 251,
    "start_time": "2023-10-13T09:29:56.024Z"
   },
   {
    "duration": 99,
    "start_time": "2023-10-13T09:29:56.277Z"
   },
   {
    "duration": 115,
    "start_time": "2023-10-13T09:29:56.378Z"
   },
   {
    "duration": 210,
    "start_time": "2023-10-13T09:29:56.495Z"
   },
   {
    "duration": 140,
    "start_time": "2023-10-13T09:29:56.707Z"
   },
   {
    "duration": 295,
    "start_time": "2023-10-13T09:29:56.848Z"
   },
   {
    "duration": 136,
    "start_time": "2023-10-13T09:29:57.145Z"
   },
   {
    "duration": 303,
    "start_time": "2023-10-13T09:29:57.283Z"
   },
   {
    "duration": 28,
    "start_time": "2023-10-13T09:29:57.588Z"
   },
   {
    "duration": 32,
    "start_time": "2023-10-13T09:29:57.619Z"
   },
   {
    "duration": 16,
    "start_time": "2023-10-13T09:29:57.653Z"
   },
   {
    "duration": 131,
    "start_time": "2023-10-13T09:29:57.671Z"
   },
   {
    "duration": 275,
    "start_time": "2023-10-13T09:29:57.804Z"
   },
   {
    "duration": 130,
    "start_time": "2023-10-13T09:29:58.081Z"
   },
   {
    "duration": 294,
    "start_time": "2023-10-13T09:29:58.213Z"
   },
   {
    "duration": 124,
    "start_time": "2023-10-13T09:29:58.509Z"
   },
   {
    "duration": 262,
    "start_time": "2023-10-13T09:29:58.635Z"
   },
   {
    "duration": 135,
    "start_time": "2023-10-13T09:29:58.899Z"
   },
   {
    "duration": 357,
    "start_time": "2023-10-13T09:29:59.046Z"
   },
   {
    "duration": 43,
    "start_time": "2023-10-13T09:29:59.404Z"
   },
   {
    "duration": 6,
    "start_time": "2023-10-13T09:29:59.449Z"
   },
   {
    "duration": 24,
    "start_time": "2023-10-13T09:29:59.457Z"
   },
   {
    "duration": 35,
    "start_time": "2023-10-13T09:29:59.483Z"
   },
   {
    "duration": 1714,
    "start_time": "2023-10-13T09:29:59.520Z"
   },
   {
    "duration": 184,
    "start_time": "2023-10-13T09:30:01.237Z"
   },
   {
    "duration": 84,
    "start_time": "2023-10-13T09:30:01.423Z"
   },
   {
    "duration": 188,
    "start_time": "2023-10-13T09:30:01.509Z"
   },
   {
    "duration": 190,
    "start_time": "2023-10-13T09:30:01.699Z"
   },
   {
    "duration": 6,
    "start_time": "2023-10-13T09:30:01.891Z"
   },
   {
    "duration": 1706,
    "start_time": "2023-10-13T09:32:13.380Z"
   },
   {
    "duration": 1796,
    "start_time": "2023-10-13T09:32:24.566Z"
   },
   {
    "duration": 1231,
    "start_time": "2023-10-13T09:32:52.069Z"
   },
   {
    "duration": 46,
    "start_time": "2023-10-13T09:32:53.302Z"
   },
   {
    "duration": 11,
    "start_time": "2023-10-13T09:32:53.350Z"
   },
   {
    "duration": 50,
    "start_time": "2023-10-13T09:32:53.363Z"
   },
   {
    "duration": 11,
    "start_time": "2023-10-13T09:32:53.416Z"
   },
   {
    "duration": 45,
    "start_time": "2023-10-13T09:32:53.429Z"
   },
   {
    "duration": 12,
    "start_time": "2023-10-13T09:32:53.475Z"
   },
   {
    "duration": 26,
    "start_time": "2023-10-13T09:32:53.489Z"
   },
   {
    "duration": 9,
    "start_time": "2023-10-13T09:32:53.516Z"
   },
   {
    "duration": 16,
    "start_time": "2023-10-13T09:32:53.527Z"
   },
   {
    "duration": 24,
    "start_time": "2023-10-13T09:32:53.545Z"
   },
   {
    "duration": 8,
    "start_time": "2023-10-13T09:32:53.571Z"
   },
   {
    "duration": 14,
    "start_time": "2023-10-13T09:32:53.581Z"
   },
   {
    "duration": 5,
    "start_time": "2023-10-13T09:32:53.598Z"
   },
   {
    "duration": 38,
    "start_time": "2023-10-13T09:32:53.605Z"
   },
   {
    "duration": 5,
    "start_time": "2023-10-13T09:32:53.645Z"
   },
   {
    "duration": 29,
    "start_time": "2023-10-13T09:32:53.651Z"
   },
   {
    "duration": 11,
    "start_time": "2023-10-13T09:32:53.682Z"
   },
   {
    "duration": 220,
    "start_time": "2023-10-13T09:32:53.694Z"
   },
   {
    "duration": 104,
    "start_time": "2023-10-13T09:32:53.916Z"
   },
   {
    "duration": 116,
    "start_time": "2023-10-13T09:32:54.021Z"
   },
   {
    "duration": 209,
    "start_time": "2023-10-13T09:32:54.146Z"
   },
   {
    "duration": 131,
    "start_time": "2023-10-13T09:32:54.357Z"
   },
   {
    "duration": 282,
    "start_time": "2023-10-13T09:32:54.489Z"
   },
   {
    "duration": 132,
    "start_time": "2023-10-13T09:32:54.773Z"
   },
   {
    "duration": 311,
    "start_time": "2023-10-13T09:32:54.907Z"
   },
   {
    "duration": 47,
    "start_time": "2023-10-13T09:32:55.221Z"
   },
   {
    "duration": 21,
    "start_time": "2023-10-13T09:32:55.270Z"
   },
   {
    "duration": 21,
    "start_time": "2023-10-13T09:32:55.293Z"
   },
   {
    "duration": 148,
    "start_time": "2023-10-13T09:32:55.316Z"
   },
   {
    "duration": 284,
    "start_time": "2023-10-13T09:32:55.465Z"
   },
   {
    "duration": 133,
    "start_time": "2023-10-13T09:32:55.750Z"
   },
   {
    "duration": 298,
    "start_time": "2023-10-13T09:32:55.885Z"
   },
   {
    "duration": 131,
    "start_time": "2023-10-13T09:32:56.185Z"
   },
   {
    "duration": 278,
    "start_time": "2023-10-13T09:32:56.318Z"
   },
   {
    "duration": 132,
    "start_time": "2023-10-13T09:32:56.597Z"
   },
   {
    "duration": 360,
    "start_time": "2023-10-13T09:32:56.731Z"
   },
   {
    "duration": 34,
    "start_time": "2023-10-13T09:32:57.093Z"
   },
   {
    "duration": 21,
    "start_time": "2023-10-13T09:32:57.128Z"
   },
   {
    "duration": 32,
    "start_time": "2023-10-13T09:32:57.151Z"
   },
   {
    "duration": 32,
    "start_time": "2023-10-13T09:32:57.187Z"
   },
   {
    "duration": 1629,
    "start_time": "2023-10-13T09:32:57.221Z"
   },
   {
    "duration": 176,
    "start_time": "2023-10-13T09:32:58.852Z"
   },
   {
    "duration": 5,
    "start_time": "2023-10-13T09:32:59.030Z"
   },
   {
    "duration": 217,
    "start_time": "2023-10-13T09:32:59.036Z"
   },
   {
    "duration": 178,
    "start_time": "2023-10-13T09:32:59.256Z"
   },
   {
    "duration": 5,
    "start_time": "2023-10-13T09:32:59.446Z"
   },
   {
    "duration": 622,
    "start_time": "2023-10-13T09:36:15.752Z"
   },
   {
    "duration": 510,
    "start_time": "2023-10-13T09:36:21.973Z"
   },
   {
    "duration": 1725,
    "start_time": "2023-10-13T09:36:29.332Z"
   },
   {
    "duration": 1661,
    "start_time": "2023-10-13T09:37:12.509Z"
   },
   {
    "duration": 1282,
    "start_time": "2023-10-13T09:37:22.708Z"
   },
   {
    "duration": 46,
    "start_time": "2023-10-13T09:37:23.992Z"
   },
   {
    "duration": 12,
    "start_time": "2023-10-13T09:37:24.040Z"
   },
   {
    "duration": 52,
    "start_time": "2023-10-13T09:37:24.054Z"
   },
   {
    "duration": 12,
    "start_time": "2023-10-13T09:37:24.108Z"
   },
   {
    "duration": 33,
    "start_time": "2023-10-13T09:37:24.121Z"
   },
   {
    "duration": 24,
    "start_time": "2023-10-13T09:37:24.156Z"
   },
   {
    "duration": 20,
    "start_time": "2023-10-13T09:37:24.182Z"
   },
   {
    "duration": 29,
    "start_time": "2023-10-13T09:37:24.204Z"
   },
   {
    "duration": 23,
    "start_time": "2023-10-13T09:37:24.236Z"
   },
   {
    "duration": 22,
    "start_time": "2023-10-13T09:37:24.261Z"
   },
   {
    "duration": 29,
    "start_time": "2023-10-13T09:37:24.284Z"
   },
   {
    "duration": 14,
    "start_time": "2023-10-13T09:37:24.315Z"
   },
   {
    "duration": 46,
    "start_time": "2023-10-13T09:37:24.331Z"
   },
   {
    "duration": 83,
    "start_time": "2023-10-13T09:37:24.378Z"
   },
   {
    "duration": 75,
    "start_time": "2023-10-13T09:37:24.463Z"
   },
   {
    "duration": 42,
    "start_time": "2023-10-13T09:37:24.540Z"
   },
   {
    "duration": 26,
    "start_time": "2023-10-13T09:37:24.584Z"
   },
   {
    "duration": 232,
    "start_time": "2023-10-13T09:37:24.612Z"
   },
   {
    "duration": 110,
    "start_time": "2023-10-13T09:37:24.846Z"
   },
   {
    "duration": 110,
    "start_time": "2023-10-13T09:37:24.958Z"
   },
   {
    "duration": 245,
    "start_time": "2023-10-13T09:37:25.070Z"
   },
   {
    "duration": 158,
    "start_time": "2023-10-13T09:37:25.316Z"
   },
   {
    "duration": 294,
    "start_time": "2023-10-13T09:37:25.476Z"
   },
   {
    "duration": 135,
    "start_time": "2023-10-13T09:37:25.772Z"
   },
   {
    "duration": 305,
    "start_time": "2023-10-13T09:37:25.909Z"
   },
   {
    "duration": 33,
    "start_time": "2023-10-13T09:37:26.216Z"
   },
   {
    "duration": 19,
    "start_time": "2023-10-13T09:37:26.252Z"
   },
   {
    "duration": 17,
    "start_time": "2023-10-13T09:37:26.273Z"
   },
   {
    "duration": 138,
    "start_time": "2023-10-13T09:37:26.292Z"
   },
   {
    "duration": 290,
    "start_time": "2023-10-13T09:37:26.432Z"
   },
   {
    "duration": 143,
    "start_time": "2023-10-13T09:37:26.724Z"
   },
   {
    "duration": 301,
    "start_time": "2023-10-13T09:37:26.869Z"
   },
   {
    "duration": 129,
    "start_time": "2023-10-13T09:37:27.172Z"
   },
   {
    "duration": 276,
    "start_time": "2023-10-13T09:37:27.303Z"
   },
   {
    "duration": 129,
    "start_time": "2023-10-13T09:37:27.581Z"
   },
   {
    "duration": 369,
    "start_time": "2023-10-13T09:37:27.712Z"
   },
   {
    "duration": 34,
    "start_time": "2023-10-13T09:37:28.083Z"
   },
   {
    "duration": 5,
    "start_time": "2023-10-13T09:37:28.119Z"
   },
   {
    "duration": 13,
    "start_time": "2023-10-13T09:37:28.148Z"
   },
   {
    "duration": 43,
    "start_time": "2023-10-13T09:37:28.163Z"
   },
   {
    "duration": 1716,
    "start_time": "2023-10-13T09:37:28.207Z"
   },
   {
    "duration": 177,
    "start_time": "2023-10-13T09:37:29.925Z"
   },
   {
    "duration": 5,
    "start_time": "2023-10-13T09:37:30.104Z"
   },
   {
    "duration": 275,
    "start_time": "2023-10-13T09:37:30.110Z"
   },
   {
    "duration": 179,
    "start_time": "2023-10-13T09:37:30.387Z"
   },
   {
    "duration": 6,
    "start_time": "2023-10-13T09:37:30.567Z"
   },
   {
    "duration": 1796,
    "start_time": "2023-10-13T09:37:44.446Z"
   },
   {
    "duration": 1695,
    "start_time": "2023-10-13T09:37:50.436Z"
   },
   {
    "duration": 1203,
    "start_time": "2023-10-13T09:40:29.099Z"
   },
   {
    "duration": 48,
    "start_time": "2023-10-13T09:40:30.305Z"
   },
   {
    "duration": 41,
    "start_time": "2023-10-13T09:40:30.355Z"
   },
   {
    "duration": 76,
    "start_time": "2023-10-13T09:40:30.398Z"
   },
   {
    "duration": 29,
    "start_time": "2023-10-13T09:40:30.476Z"
   },
   {
    "duration": 73,
    "start_time": "2023-10-13T09:40:30.507Z"
   },
   {
    "duration": 40,
    "start_time": "2023-10-13T09:40:30.582Z"
   },
   {
    "duration": 171,
    "start_time": "2023-10-13T09:40:30.624Z"
   },
   {
    "duration": 33,
    "start_time": "2023-10-13T09:40:30.796Z"
   },
   {
    "duration": 57,
    "start_time": "2023-10-13T09:40:30.830Z"
   },
   {
    "duration": 76,
    "start_time": "2023-10-13T09:40:30.888Z"
   },
   {
    "duration": 47,
    "start_time": "2023-10-13T09:40:30.965Z"
   },
   {
    "duration": 33,
    "start_time": "2023-10-13T09:40:31.014Z"
   },
   {
    "duration": 49,
    "start_time": "2023-10-13T09:40:31.052Z"
   },
   {
    "duration": 96,
    "start_time": "2023-10-13T09:40:31.103Z"
   },
   {
    "duration": 43,
    "start_time": "2023-10-13T09:40:31.201Z"
   },
   {
    "duration": 44,
    "start_time": "2023-10-13T09:40:31.246Z"
   },
   {
    "duration": 42,
    "start_time": "2023-10-13T09:40:31.292Z"
   },
   {
    "duration": 247,
    "start_time": "2023-10-13T09:40:31.336Z"
   },
   {
    "duration": 111,
    "start_time": "2023-10-13T09:40:31.586Z"
   },
   {
    "duration": 122,
    "start_time": "2023-10-13T09:40:31.700Z"
   },
   {
    "duration": 214,
    "start_time": "2023-10-13T09:40:31.824Z"
   },
   {
    "duration": 138,
    "start_time": "2023-10-13T09:40:32.046Z"
   },
   {
    "duration": 307,
    "start_time": "2023-10-13T09:40:32.186Z"
   },
   {
    "duration": 144,
    "start_time": "2023-10-13T09:40:32.495Z"
   },
   {
    "duration": 311,
    "start_time": "2023-10-13T09:40:32.641Z"
   },
   {
    "duration": 28,
    "start_time": "2023-10-13T09:40:32.953Z"
   },
   {
    "duration": 190,
    "start_time": "2023-10-13T09:40:32.983Z"
   },
   {
    "duration": 45,
    "start_time": "2023-10-13T09:40:33.175Z"
   },
   {
    "duration": 110,
    "start_time": "2023-10-13T09:40:33.221Z"
   },
   {
    "duration": 267,
    "start_time": "2023-10-13T09:40:33.333Z"
   },
   {
    "duration": 130,
    "start_time": "2023-10-13T09:40:33.603Z"
   },
   {
    "duration": 292,
    "start_time": "2023-10-13T09:40:33.734Z"
   },
   {
    "duration": 138,
    "start_time": "2023-10-13T09:40:34.027Z"
   },
   {
    "duration": 271,
    "start_time": "2023-10-13T09:40:34.167Z"
   },
   {
    "duration": 136,
    "start_time": "2023-10-13T09:40:34.439Z"
   },
   {
    "duration": 365,
    "start_time": "2023-10-13T09:40:34.577Z"
   },
   {
    "duration": 35,
    "start_time": "2023-10-13T09:40:34.944Z"
   },
   {
    "duration": 7,
    "start_time": "2023-10-13T09:40:34.980Z"
   },
   {
    "duration": 48,
    "start_time": "2023-10-13T09:40:34.988Z"
   },
   {
    "duration": 38,
    "start_time": "2023-10-13T09:40:35.040Z"
   },
   {
    "duration": 1783,
    "start_time": "2023-10-13T09:40:35.080Z"
   },
   {
    "duration": 171,
    "start_time": "2023-10-13T09:40:36.865Z"
   },
   {
    "duration": 9,
    "start_time": "2023-10-13T09:40:37.038Z"
   },
   {
    "duration": 159,
    "start_time": "2023-10-13T09:40:37.048Z"
   },
   {
    "duration": 179,
    "start_time": "2023-10-13T09:40:37.209Z"
   },
   {
    "duration": 5,
    "start_time": "2023-10-13T09:40:37.389Z"
   },
   {
    "duration": 521,
    "start_time": "2023-10-13T09:41:46.648Z"
   },
   {
    "duration": 1688,
    "start_time": "2023-10-13T09:41:56.411Z"
   },
   {
    "duration": 1326,
    "start_time": "2023-10-13T09:42:25.151Z"
   },
   {
    "duration": 47,
    "start_time": "2023-10-13T09:42:26.479Z"
   },
   {
    "duration": 12,
    "start_time": "2023-10-13T09:42:26.527Z"
   },
   {
    "duration": 69,
    "start_time": "2023-10-13T09:42:26.541Z"
   },
   {
    "duration": 12,
    "start_time": "2023-10-13T09:42:26.612Z"
   },
   {
    "duration": 45,
    "start_time": "2023-10-13T09:42:26.625Z"
   },
   {
    "duration": 11,
    "start_time": "2023-10-13T09:42:26.672Z"
   },
   {
    "duration": 16,
    "start_time": "2023-10-13T09:42:26.684Z"
   },
   {
    "duration": 17,
    "start_time": "2023-10-13T09:42:26.702Z"
   },
   {
    "duration": 30,
    "start_time": "2023-10-13T09:42:26.722Z"
   },
   {
    "duration": 17,
    "start_time": "2023-10-13T09:42:26.753Z"
   },
   {
    "duration": 24,
    "start_time": "2023-10-13T09:42:26.771Z"
   },
   {
    "duration": 24,
    "start_time": "2023-10-13T09:42:26.797Z"
   },
   {
    "duration": 37,
    "start_time": "2023-10-13T09:42:26.822Z"
   },
   {
    "duration": 178,
    "start_time": "2023-10-13T09:42:26.861Z"
   },
   {
    "duration": 66,
    "start_time": "2023-10-13T09:42:27.041Z"
   },
   {
    "duration": 61,
    "start_time": "2023-10-13T09:42:27.109Z"
   },
   {
    "duration": 32,
    "start_time": "2023-10-13T09:42:27.171Z"
   },
   {
    "duration": 224,
    "start_time": "2023-10-13T09:42:27.205Z"
   },
   {
    "duration": 105,
    "start_time": "2023-10-13T09:42:27.431Z"
   },
   {
    "duration": 118,
    "start_time": "2023-10-13T09:42:27.547Z"
   },
   {
    "duration": 208,
    "start_time": "2023-10-13T09:42:27.667Z"
   },
   {
    "duration": 137,
    "start_time": "2023-10-13T09:42:27.877Z"
   },
   {
    "duration": 287,
    "start_time": "2023-10-13T09:42:28.016Z"
   },
   {
    "duration": 135,
    "start_time": "2023-10-13T09:42:28.306Z"
   },
   {
    "duration": 296,
    "start_time": "2023-10-13T09:42:28.443Z"
   },
   {
    "duration": 28,
    "start_time": "2023-10-13T09:42:28.747Z"
   },
   {
    "duration": 17,
    "start_time": "2023-10-13T09:42:28.779Z"
   },
   {
    "duration": 24,
    "start_time": "2023-10-13T09:42:28.798Z"
   },
   {
    "duration": 146,
    "start_time": "2023-10-13T09:42:28.824Z"
   },
   {
    "duration": 289,
    "start_time": "2023-10-13T09:42:28.972Z"
   },
   {
    "duration": 141,
    "start_time": "2023-10-13T09:42:29.264Z"
   },
   {
    "duration": 302,
    "start_time": "2023-10-13T09:42:29.407Z"
   },
   {
    "duration": 137,
    "start_time": "2023-10-13T09:42:29.711Z"
   },
   {
    "duration": 286,
    "start_time": "2023-10-13T09:42:29.850Z"
   },
   {
    "duration": 138,
    "start_time": "2023-10-13T09:42:30.138Z"
   },
   {
    "duration": 400,
    "start_time": "2023-10-13T09:42:30.278Z"
   },
   {
    "duration": 72,
    "start_time": "2023-10-13T09:42:30.680Z"
   },
   {
    "duration": 43,
    "start_time": "2023-10-13T09:42:30.754Z"
   },
   {
    "duration": 104,
    "start_time": "2023-10-13T09:42:30.800Z"
   },
   {
    "duration": 138,
    "start_time": "2023-10-13T09:42:30.907Z"
   },
   {
    "duration": 1805,
    "start_time": "2023-10-13T09:42:31.047Z"
   },
   {
    "duration": 170,
    "start_time": "2023-10-13T09:42:32.853Z"
   },
   {
    "duration": 4,
    "start_time": "2023-10-13T09:42:33.025Z"
   },
   {
    "duration": 173,
    "start_time": "2023-10-13T09:42:33.031Z"
   },
   {
    "duration": 188,
    "start_time": "2023-10-13T09:42:33.207Z"
   },
   {
    "duration": 7,
    "start_time": "2023-10-13T09:42:33.397Z"
   },
   {
    "duration": 1714,
    "start_time": "2023-10-13T09:42:53.400Z"
   },
   {
    "duration": 1663,
    "start_time": "2023-10-13T09:43:32.297Z"
   },
   {
    "duration": 1247,
    "start_time": "2023-10-13T09:45:36.758Z"
   },
   {
    "duration": 53,
    "start_time": "2023-10-13T09:45:38.007Z"
   },
   {
    "duration": 12,
    "start_time": "2023-10-13T09:45:38.062Z"
   },
   {
    "duration": 79,
    "start_time": "2023-10-13T09:45:38.076Z"
   },
   {
    "duration": 11,
    "start_time": "2023-10-13T09:45:38.157Z"
   },
   {
    "duration": 104,
    "start_time": "2023-10-13T09:45:38.169Z"
   },
   {
    "duration": 81,
    "start_time": "2023-10-13T09:45:38.274Z"
   },
   {
    "duration": 31,
    "start_time": "2023-10-13T09:45:38.357Z"
   },
   {
    "duration": 20,
    "start_time": "2023-10-13T09:45:38.390Z"
   },
   {
    "duration": 16,
    "start_time": "2023-10-13T09:45:38.414Z"
   },
   {
    "duration": 8,
    "start_time": "2023-10-13T09:45:38.432Z"
   },
   {
    "duration": 10,
    "start_time": "2023-10-13T09:45:38.441Z"
   },
   {
    "duration": 22,
    "start_time": "2023-10-13T09:45:38.453Z"
   },
   {
    "duration": 20,
    "start_time": "2023-10-13T09:45:38.477Z"
   },
   {
    "duration": 30,
    "start_time": "2023-10-13T09:45:38.499Z"
   },
   {
    "duration": 21,
    "start_time": "2023-10-13T09:45:38.531Z"
   },
   {
    "duration": 192,
    "start_time": "2023-10-13T09:45:38.553Z"
   },
   {
    "duration": 30,
    "start_time": "2023-10-13T09:45:38.746Z"
   },
   {
    "duration": 219,
    "start_time": "2023-10-13T09:45:38.778Z"
   },
   {
    "duration": 126,
    "start_time": "2023-10-13T09:45:38.999Z"
   },
   {
    "duration": 114,
    "start_time": "2023-10-13T09:45:39.128Z"
   },
   {
    "duration": 204,
    "start_time": "2023-10-13T09:45:39.246Z"
   },
   {
    "duration": 133,
    "start_time": "2023-10-13T09:45:39.452Z"
   },
   {
    "duration": 307,
    "start_time": "2023-10-13T09:45:39.587Z"
   },
   {
    "duration": 145,
    "start_time": "2023-10-13T09:45:39.896Z"
   },
   {
    "duration": 353,
    "start_time": "2023-10-13T09:45:40.043Z"
   },
   {
    "duration": 35,
    "start_time": "2023-10-13T09:45:40.399Z"
   },
   {
    "duration": 18,
    "start_time": "2023-10-13T09:45:40.449Z"
   },
   {
    "duration": 24,
    "start_time": "2023-10-13T09:45:40.469Z"
   },
   {
    "duration": 153,
    "start_time": "2023-10-13T09:45:40.495Z"
   },
   {
    "duration": 283,
    "start_time": "2023-10-13T09:45:40.651Z"
   },
   {
    "duration": 191,
    "start_time": "2023-10-13T09:45:40.935Z"
   },
   {
    "duration": 301,
    "start_time": "2023-10-13T09:45:41.129Z"
   },
   {
    "duration": 135,
    "start_time": "2023-10-13T09:45:41.432Z"
   },
   {
    "duration": 264,
    "start_time": "2023-10-13T09:45:41.568Z"
   },
   {
    "duration": 142,
    "start_time": "2023-10-13T09:45:41.833Z"
   },
   {
    "duration": 396,
    "start_time": "2023-10-13T09:45:41.977Z"
   },
   {
    "duration": 34,
    "start_time": "2023-10-13T09:45:42.374Z"
   },
   {
    "duration": 6,
    "start_time": "2023-10-13T09:45:42.410Z"
   },
   {
    "duration": 30,
    "start_time": "2023-10-13T09:45:42.418Z"
   },
   {
    "duration": 25,
    "start_time": "2023-10-13T09:45:42.450Z"
   },
   {
    "duration": 1649,
    "start_time": "2023-10-13T09:45:42.477Z"
   },
   {
    "duration": 173,
    "start_time": "2023-10-13T09:45:44.128Z"
   },
   {
    "duration": 3,
    "start_time": "2023-10-13T09:45:44.303Z"
   },
   {
    "duration": 163,
    "start_time": "2023-10-13T09:45:44.307Z"
   },
   {
    "duration": 182,
    "start_time": "2023-10-13T09:45:44.472Z"
   },
   {
    "duration": 5,
    "start_time": "2023-10-13T09:45:44.655Z"
   },
   {
    "duration": 1686,
    "start_time": "2023-10-13T09:45:55.501Z"
   },
   {
    "duration": 1668,
    "start_time": "2023-10-13T09:45:59.183Z"
   },
   {
    "duration": 1226,
    "start_time": "2023-10-13T09:49:04.094Z"
   },
   {
    "duration": 56,
    "start_time": "2023-10-13T09:49:05.323Z"
   },
   {
    "duration": 14,
    "start_time": "2023-10-13T09:49:05.381Z"
   },
   {
    "duration": 85,
    "start_time": "2023-10-13T09:49:05.398Z"
   },
   {
    "duration": 13,
    "start_time": "2023-10-13T09:49:05.485Z"
   },
   {
    "duration": 56,
    "start_time": "2023-10-13T09:49:05.499Z"
   },
   {
    "duration": 16,
    "start_time": "2023-10-13T09:49:05.557Z"
   },
   {
    "duration": 25,
    "start_time": "2023-10-13T09:49:05.574Z"
   },
   {
    "duration": 24,
    "start_time": "2023-10-13T09:49:05.601Z"
   },
   {
    "duration": 49,
    "start_time": "2023-10-13T09:49:05.628Z"
   },
   {
    "duration": 38,
    "start_time": "2023-10-13T09:49:05.679Z"
   },
   {
    "duration": 57,
    "start_time": "2023-10-13T09:49:05.719Z"
   },
   {
    "duration": 40,
    "start_time": "2023-10-13T09:49:05.778Z"
   },
   {
    "duration": 29,
    "start_time": "2023-10-13T09:49:05.820Z"
   },
   {
    "duration": 56,
    "start_time": "2023-10-13T09:49:05.850Z"
   },
   {
    "duration": 16,
    "start_time": "2023-10-13T09:49:05.907Z"
   },
   {
    "duration": 35,
    "start_time": "2023-10-13T09:49:05.924Z"
   },
   {
    "duration": 41,
    "start_time": "2023-10-13T09:49:05.961Z"
   },
   {
    "duration": 228,
    "start_time": "2023-10-13T09:49:06.004Z"
   },
   {
    "duration": 106,
    "start_time": "2023-10-13T09:49:06.234Z"
   },
   {
    "duration": 112,
    "start_time": "2023-10-13T09:49:06.347Z"
   },
   {
    "duration": 205,
    "start_time": "2023-10-13T09:49:06.461Z"
   },
   {
    "duration": 143,
    "start_time": "2023-10-13T09:49:06.667Z"
   },
   {
    "duration": 286,
    "start_time": "2023-10-13T09:49:06.813Z"
   },
   {
    "duration": 167,
    "start_time": "2023-10-13T09:49:07.102Z"
   },
   {
    "duration": 319,
    "start_time": "2023-10-13T09:49:07.271Z"
   },
   {
    "duration": 27,
    "start_time": "2023-10-13T09:49:07.592Z"
   },
   {
    "duration": 35,
    "start_time": "2023-10-13T09:49:07.624Z"
   },
   {
    "duration": 30,
    "start_time": "2023-10-13T09:49:07.661Z"
   },
   {
    "duration": 115,
    "start_time": "2023-10-13T09:49:07.693Z"
   },
   {
    "duration": 270,
    "start_time": "2023-10-13T09:49:07.810Z"
   },
   {
    "duration": 134,
    "start_time": "2023-10-13T09:49:08.082Z"
   },
   {
    "duration": 292,
    "start_time": "2023-10-13T09:49:08.218Z"
   },
   {
    "duration": 129,
    "start_time": "2023-10-13T09:49:08.513Z"
   },
   {
    "duration": 259,
    "start_time": "2023-10-13T09:49:08.646Z"
   },
   {
    "duration": 132,
    "start_time": "2023-10-13T09:49:08.907Z"
   },
   {
    "duration": 359,
    "start_time": "2023-10-13T09:49:09.047Z"
   },
   {
    "duration": 41,
    "start_time": "2023-10-13T09:49:09.407Z"
   },
   {
    "duration": 17,
    "start_time": "2023-10-13T09:49:09.450Z"
   },
   {
    "duration": 28,
    "start_time": "2023-10-13T09:49:09.469Z"
   },
   {
    "duration": 48,
    "start_time": "2023-10-13T09:49:09.498Z"
   },
   {
    "duration": 1650,
    "start_time": "2023-10-13T09:49:09.548Z"
   },
   {
    "duration": 176,
    "start_time": "2023-10-13T09:49:11.201Z"
   },
   {
    "duration": 4,
    "start_time": "2023-10-13T09:49:11.378Z"
   },
   {
    "duration": 150,
    "start_time": "2023-10-13T09:49:11.384Z"
   },
   {
    "duration": 179,
    "start_time": "2023-10-13T09:49:11.536Z"
   },
   {
    "duration": 5,
    "start_time": "2023-10-13T09:49:11.716Z"
   },
   {
    "duration": 1668,
    "start_time": "2023-10-13T09:49:46.302Z"
   },
   {
    "duration": 1690,
    "start_time": "2023-10-13T09:49:49.325Z"
   },
   {
    "duration": 1268,
    "start_time": "2023-10-13T10:29:09.023Z"
   },
   {
    "duration": 40,
    "start_time": "2023-10-13T10:29:10.293Z"
   },
   {
    "duration": 13,
    "start_time": "2023-10-13T10:29:10.334Z"
   },
   {
    "duration": 61,
    "start_time": "2023-10-13T10:29:10.349Z"
   },
   {
    "duration": 14,
    "start_time": "2023-10-13T10:29:10.412Z"
   },
   {
    "duration": 21,
    "start_time": "2023-10-13T10:29:10.428Z"
   },
   {
    "duration": 10,
    "start_time": "2023-10-13T10:29:10.451Z"
   },
   {
    "duration": 16,
    "start_time": "2023-10-13T10:29:10.463Z"
   },
   {
    "duration": 17,
    "start_time": "2023-10-13T10:29:10.481Z"
   },
   {
    "duration": 19,
    "start_time": "2023-10-13T10:29:10.501Z"
   },
   {
    "duration": 7,
    "start_time": "2023-10-13T10:29:10.521Z"
   },
   {
    "duration": 16,
    "start_time": "2023-10-13T10:29:10.530Z"
   },
   {
    "duration": 10,
    "start_time": "2023-10-13T10:29:10.548Z"
   },
   {
    "duration": 22,
    "start_time": "2023-10-13T10:29:10.559Z"
   },
   {
    "duration": 27,
    "start_time": "2023-10-13T10:29:10.583Z"
   },
   {
    "duration": 10,
    "start_time": "2023-10-13T10:29:10.612Z"
   },
   {
    "duration": 16,
    "start_time": "2023-10-13T10:29:10.624Z"
   },
   {
    "duration": 24,
    "start_time": "2023-10-13T10:29:10.642Z"
   },
   {
    "duration": 221,
    "start_time": "2023-10-13T10:29:10.668Z"
   },
   {
    "duration": 134,
    "start_time": "2023-10-13T10:29:10.891Z"
   },
   {
    "duration": 121,
    "start_time": "2023-10-13T10:29:11.027Z"
   },
   {
    "duration": 202,
    "start_time": "2023-10-13T10:29:11.150Z"
   },
   {
    "duration": 137,
    "start_time": "2023-10-13T10:29:11.354Z"
   },
   {
    "duration": 280,
    "start_time": "2023-10-13T10:29:11.493Z"
   },
   {
    "duration": 129,
    "start_time": "2023-10-13T10:29:11.775Z"
   },
   {
    "duration": 289,
    "start_time": "2023-10-13T10:29:11.906Z"
   },
   {
    "duration": 27,
    "start_time": "2023-10-13T10:29:12.197Z"
   },
   {
    "duration": 17,
    "start_time": "2023-10-13T10:29:12.244Z"
   },
   {
    "duration": 141,
    "start_time": "2023-10-13T10:29:12.263Z"
   },
   {
    "duration": 118,
    "start_time": "2023-10-13T10:29:12.406Z"
   },
   {
    "duration": 261,
    "start_time": "2023-10-13T10:29:12.526Z"
   },
   {
    "duration": 139,
    "start_time": "2023-10-13T10:29:12.789Z"
   },
   {
    "duration": 303,
    "start_time": "2023-10-13T10:29:12.931Z"
   },
   {
    "duration": 120,
    "start_time": "2023-10-13T10:29:13.236Z"
   },
   {
    "duration": 263,
    "start_time": "2023-10-13T10:29:13.357Z"
   },
   {
    "duration": 128,
    "start_time": "2023-10-13T10:29:13.622Z"
   },
   {
    "duration": 396,
    "start_time": "2023-10-13T10:29:13.751Z"
   },
   {
    "duration": 44,
    "start_time": "2023-10-13T10:29:14.149Z"
   },
   {
    "duration": 7,
    "start_time": "2023-10-13T10:29:14.195Z"
   },
   {
    "duration": 25,
    "start_time": "2023-10-13T10:29:14.204Z"
   },
   {
    "duration": 13,
    "start_time": "2023-10-13T10:29:14.246Z"
   },
   {
    "duration": 1668,
    "start_time": "2023-10-13T10:29:14.261Z"
   },
   {
    "duration": 177,
    "start_time": "2023-10-13T10:29:15.932Z"
   },
   {
    "duration": 4,
    "start_time": "2023-10-13T10:29:16.110Z"
   },
   {
    "duration": 175,
    "start_time": "2023-10-13T10:29:16.116Z"
   },
   {
    "duration": 183,
    "start_time": "2023-10-13T10:29:16.293Z"
   },
   {
    "duration": 6,
    "start_time": "2023-10-13T10:29:16.478Z"
   },
   {
    "duration": 1270,
    "start_time": "2023-10-13T10:31:32.219Z"
   },
   {
    "duration": 40,
    "start_time": "2023-10-13T10:31:33.492Z"
   },
   {
    "duration": 12,
    "start_time": "2023-10-13T10:31:33.534Z"
   },
   {
    "duration": 41,
    "start_time": "2023-10-13T10:31:33.548Z"
   },
   {
    "duration": 13,
    "start_time": "2023-10-13T10:31:33.591Z"
   },
   {
    "duration": 31,
    "start_time": "2023-10-13T10:31:33.606Z"
   },
   {
    "duration": 11,
    "start_time": "2023-10-13T10:31:33.638Z"
   },
   {
    "duration": 9,
    "start_time": "2023-10-13T10:31:33.650Z"
   },
   {
    "duration": 5,
    "start_time": "2023-10-13T10:31:33.661Z"
   },
   {
    "duration": 11,
    "start_time": "2023-10-13T10:31:33.667Z"
   },
   {
    "duration": 7,
    "start_time": "2023-10-13T10:31:33.679Z"
   },
   {
    "duration": 11,
    "start_time": "2023-10-13T10:31:33.687Z"
   },
   {
    "duration": 6,
    "start_time": "2023-10-13T10:31:33.699Z"
   },
   {
    "duration": 41,
    "start_time": "2023-10-13T10:31:33.708Z"
   },
   {
    "duration": 23,
    "start_time": "2023-10-13T10:31:33.751Z"
   },
   {
    "duration": 25,
    "start_time": "2023-10-13T10:31:33.776Z"
   },
   {
    "duration": 32,
    "start_time": "2023-10-13T10:31:33.803Z"
   },
   {
    "duration": 11,
    "start_time": "2023-10-13T10:31:33.837Z"
   },
   {
    "duration": 234,
    "start_time": "2023-10-13T10:31:33.850Z"
   },
   {
    "duration": 141,
    "start_time": "2023-10-13T10:31:34.086Z"
   },
   {
    "duration": 142,
    "start_time": "2023-10-13T10:31:34.229Z"
   },
   {
    "duration": 206,
    "start_time": "2023-10-13T10:31:34.373Z"
   },
   {
    "duration": 135,
    "start_time": "2023-10-13T10:31:34.581Z"
   },
   {
    "duration": 276,
    "start_time": "2023-10-13T10:31:34.718Z"
   },
   {
    "duration": 137,
    "start_time": "2023-10-13T10:31:34.995Z"
   },
   {
    "duration": 295,
    "start_time": "2023-10-13T10:31:35.133Z"
   },
   {
    "duration": 34,
    "start_time": "2023-10-13T10:31:35.430Z"
   },
   {
    "duration": 24,
    "start_time": "2023-10-13T10:31:35.465Z"
   },
   {
    "duration": 15,
    "start_time": "2023-10-13T10:31:35.491Z"
   },
   {
    "duration": 147,
    "start_time": "2023-10-13T10:31:35.508Z"
   },
   {
    "duration": 260,
    "start_time": "2023-10-13T10:31:35.657Z"
   },
   {
    "duration": 129,
    "start_time": "2023-10-13T10:31:35.919Z"
   },
   {
    "duration": 290,
    "start_time": "2023-10-13T10:31:36.050Z"
   },
   {
    "duration": 141,
    "start_time": "2023-10-13T10:31:36.345Z"
   },
   {
    "duration": 281,
    "start_time": "2023-10-13T10:31:36.488Z"
   },
   {
    "duration": 141,
    "start_time": "2023-10-13T10:31:36.771Z"
   },
   {
    "duration": 395,
    "start_time": "2023-10-13T10:31:36.914Z"
   },
   {
    "duration": 43,
    "start_time": "2023-10-13T10:31:37.311Z"
   },
   {
    "duration": 7,
    "start_time": "2023-10-13T10:31:37.356Z"
   },
   {
    "duration": 40,
    "start_time": "2023-10-13T10:31:37.364Z"
   },
   {
    "duration": 29,
    "start_time": "2023-10-13T10:31:37.409Z"
   },
   {
    "duration": 1690,
    "start_time": "2023-10-13T10:31:37.439Z"
   },
   {
    "duration": 171,
    "start_time": "2023-10-13T10:31:39.131Z"
   },
   {
    "duration": 4,
    "start_time": "2023-10-13T10:31:39.303Z"
   },
   {
    "duration": 163,
    "start_time": "2023-10-13T10:31:39.308Z"
   },
   {
    "duration": 179,
    "start_time": "2023-10-13T10:31:39.473Z"
   },
   {
    "duration": 5,
    "start_time": "2023-10-13T10:31:39.653Z"
   },
   {
    "duration": 8,
    "start_time": "2023-10-13T10:45:01.509Z"
   },
   {
    "duration": 7,
    "start_time": "2023-10-13T10:45:07.957Z"
   },
   {
    "duration": 10,
    "start_time": "2023-10-13T10:46:27.135Z"
   },
   {
    "duration": 10,
    "start_time": "2023-10-13T10:46:31.698Z"
   },
   {
    "duration": 14,
    "start_time": "2023-10-13T10:46:44.602Z"
   },
   {
    "duration": 14,
    "start_time": "2023-10-13T10:46:50.359Z"
   },
   {
    "duration": 48,
    "start_time": "2023-10-15T07:47:54.598Z"
   },
   {
    "duration": 1363,
    "start_time": "2023-10-15T07:48:00.298Z"
   },
   {
    "duration": 85,
    "start_time": "2023-10-15T07:48:01.663Z"
   },
   {
    "duration": 12,
    "start_time": "2023-10-15T07:48:01.750Z"
   },
   {
    "duration": 130,
    "start_time": "2023-10-15T07:48:01.765Z"
   },
   {
    "duration": 14,
    "start_time": "2023-10-15T07:48:01.897Z"
   },
   {
    "duration": 212,
    "start_time": "2023-10-15T07:48:01.912Z"
   },
   {
    "duration": 10,
    "start_time": "2023-10-15T07:48:02.125Z"
   },
   {
    "duration": 50,
    "start_time": "2023-10-15T07:48:02.137Z"
   },
   {
    "duration": 138,
    "start_time": "2023-10-15T07:48:02.189Z"
   },
   {
    "duration": 44,
    "start_time": "2023-10-15T07:48:02.330Z"
   },
   {
    "duration": 29,
    "start_time": "2023-10-15T07:48:02.376Z"
   },
   {
    "duration": 33,
    "start_time": "2023-10-15T07:48:02.407Z"
   },
   {
    "duration": 27,
    "start_time": "2023-10-15T07:48:02.441Z"
   },
   {
    "duration": 34,
    "start_time": "2023-10-15T07:48:02.469Z"
   },
   {
    "duration": 35,
    "start_time": "2023-10-15T07:48:02.504Z"
   },
   {
    "duration": 43,
    "start_time": "2023-10-15T07:48:02.541Z"
   },
   {
    "duration": 44,
    "start_time": "2023-10-15T07:48:02.586Z"
   },
   {
    "duration": 52,
    "start_time": "2023-10-15T07:48:02.631Z"
   },
   {
    "duration": 211,
    "start_time": "2023-10-15T07:48:02.685Z"
   },
   {
    "duration": 13,
    "start_time": "2023-10-15T07:48:02.898Z"
   },
   {
    "duration": 107,
    "start_time": "2023-10-15T07:48:02.913Z"
   },
   {
    "duration": 101,
    "start_time": "2023-10-15T07:48:03.022Z"
   },
   {
    "duration": 183,
    "start_time": "2023-10-15T07:48:03.125Z"
   },
   {
    "duration": 124,
    "start_time": "2023-10-15T07:48:03.309Z"
   },
   {
    "duration": 251,
    "start_time": "2023-10-15T07:48:03.434Z"
   },
   {
    "duration": 114,
    "start_time": "2023-10-15T07:48:03.687Z"
   },
   {
    "duration": 273,
    "start_time": "2023-10-15T07:48:03.806Z"
   },
   {
    "duration": 31,
    "start_time": "2023-10-15T07:48:04.082Z"
   },
   {
    "duration": 17,
    "start_time": "2023-10-15T07:48:04.115Z"
   },
   {
    "duration": 25,
    "start_time": "2023-10-15T07:48:04.134Z"
   },
   {
    "duration": 109,
    "start_time": "2023-10-15T07:48:04.160Z"
   },
   {
    "duration": 237,
    "start_time": "2023-10-15T07:48:04.270Z"
   },
   {
    "duration": 115,
    "start_time": "2023-10-15T07:48:04.508Z"
   },
   {
    "duration": 255,
    "start_time": "2023-10-15T07:48:04.625Z"
   },
   {
    "duration": 111,
    "start_time": "2023-10-15T07:48:04.882Z"
   },
   {
    "duration": 249,
    "start_time": "2023-10-15T07:48:04.995Z"
   },
   {
    "duration": 120,
    "start_time": "2023-10-15T07:48:05.246Z"
   },
   {
    "duration": 323,
    "start_time": "2023-10-15T07:48:05.368Z"
   },
   {
    "duration": 39,
    "start_time": "2023-10-15T07:48:05.692Z"
   },
   {
    "duration": 6,
    "start_time": "2023-10-15T07:48:05.733Z"
   },
   {
    "duration": 24,
    "start_time": "2023-10-15T07:48:05.741Z"
   },
   {
    "duration": 61,
    "start_time": "2023-10-15T07:48:05.767Z"
   },
   {
    "duration": 1762,
    "start_time": "2023-10-15T07:48:05.830Z"
   },
   {
    "duration": 175,
    "start_time": "2023-10-15T07:48:07.593Z"
   },
   {
    "duration": 3,
    "start_time": "2023-10-15T07:48:07.770Z"
   },
   {
    "duration": 160,
    "start_time": "2023-10-15T07:48:07.775Z"
   },
   {
    "duration": 191,
    "start_time": "2023-10-15T07:48:07.937Z"
   },
   {
    "duration": 4,
    "start_time": "2023-10-15T07:48:08.130Z"
   },
   {
    "duration": 72,
    "start_time": "2023-10-15T07:49:57.422Z"
   },
   {
    "duration": 174,
    "start_time": "2023-10-15T07:50:37.036Z"
   },
   {
    "duration": 6,
    "start_time": "2023-10-15T07:50:41.177Z"
   },
   {
    "duration": 35,
    "start_time": "2023-10-15T08:02:21.787Z"
   },
   {
    "duration": 32,
    "start_time": "2023-10-15T08:02:48.463Z"
   },
   {
    "duration": 7,
    "start_time": "2023-10-15T08:04:41.297Z"
   },
   {
    "duration": 7,
    "start_time": "2023-10-15T08:29:07.678Z"
   },
   {
    "duration": 15,
    "start_time": "2023-10-15T08:40:30.473Z"
   },
   {
    "duration": 235,
    "start_time": "2023-10-15T08:41:42.851Z"
   },
   {
    "duration": 7,
    "start_time": "2023-10-15T08:42:57.746Z"
   },
   {
    "duration": 80,
    "start_time": "2023-10-15T09:28:21.449Z"
   },
   {
    "duration": 86,
    "start_time": "2023-10-15T09:33:52.968Z"
   },
   {
    "duration": 1218,
    "start_time": "2023-10-15T09:34:17.098Z"
   },
   {
    "duration": 38,
    "start_time": "2023-10-15T09:34:18.318Z"
   },
   {
    "duration": 12,
    "start_time": "2023-10-15T09:34:18.357Z"
   },
   {
    "duration": 46,
    "start_time": "2023-10-15T09:34:18.371Z"
   },
   {
    "duration": 12,
    "start_time": "2023-10-15T09:34:18.419Z"
   },
   {
    "duration": 49,
    "start_time": "2023-10-15T09:34:18.433Z"
   },
   {
    "duration": 12,
    "start_time": "2023-10-15T09:34:18.485Z"
   },
   {
    "duration": 13,
    "start_time": "2023-10-15T09:34:18.499Z"
   },
   {
    "duration": 10,
    "start_time": "2023-10-15T09:34:18.514Z"
   },
   {
    "duration": 14,
    "start_time": "2023-10-15T09:34:18.526Z"
   },
   {
    "duration": 7,
    "start_time": "2023-10-15T09:34:18.542Z"
   },
   {
    "duration": 14,
    "start_time": "2023-10-15T09:34:18.550Z"
   },
   {
    "duration": 6,
    "start_time": "2023-10-15T09:34:18.565Z"
   },
   {
    "duration": 6,
    "start_time": "2023-10-15T09:34:18.573Z"
   },
   {
    "duration": 48,
    "start_time": "2023-10-15T09:34:18.581Z"
   },
   {
    "duration": 4,
    "start_time": "2023-10-15T09:34:18.631Z"
   },
   {
    "duration": 10,
    "start_time": "2023-10-15T09:34:18.637Z"
   },
   {
    "duration": 20,
    "start_time": "2023-10-15T09:34:18.648Z"
   },
   {
    "duration": 205,
    "start_time": "2023-10-15T09:34:18.670Z"
   },
   {
    "duration": 7,
    "start_time": "2023-10-15T09:34:18.876Z"
   },
   {
    "duration": 107,
    "start_time": "2023-10-15T09:34:18.885Z"
   },
   {
    "duration": 99,
    "start_time": "2023-10-15T09:34:18.994Z"
   },
   {
    "duration": 201,
    "start_time": "2023-10-15T09:34:19.106Z"
   },
   {
    "duration": 129,
    "start_time": "2023-10-15T09:34:19.308Z"
   },
   {
    "duration": 275,
    "start_time": "2023-10-15T09:34:19.440Z"
   },
   {
    "duration": 124,
    "start_time": "2023-10-15T09:34:19.717Z"
   },
   {
    "duration": 333,
    "start_time": "2023-10-15T09:34:19.843Z"
   },
   {
    "duration": 41,
    "start_time": "2023-10-15T09:34:20.178Z"
   },
   {
    "duration": 21,
    "start_time": "2023-10-15T09:34:20.221Z"
   },
   {
    "duration": 30,
    "start_time": "2023-10-15T09:34:20.244Z"
   },
   {
    "duration": 153,
    "start_time": "2023-10-15T09:34:20.277Z"
   },
   {
    "duration": 263,
    "start_time": "2023-10-15T09:34:20.432Z"
   },
   {
    "duration": 129,
    "start_time": "2023-10-15T09:34:20.697Z"
   },
   {
    "duration": 274,
    "start_time": "2023-10-15T09:34:20.828Z"
   },
   {
    "duration": 126,
    "start_time": "2023-10-15T09:34:21.104Z"
   },
   {
    "duration": 266,
    "start_time": "2023-10-15T09:34:21.231Z"
   },
   {
    "duration": 124,
    "start_time": "2023-10-15T09:34:21.499Z"
   },
   {
    "duration": 374,
    "start_time": "2023-10-15T09:34:21.626Z"
   },
   {
    "duration": 37,
    "start_time": "2023-10-15T09:34:22.008Z"
   },
   {
    "duration": 6,
    "start_time": "2023-10-15T09:34:22.047Z"
   },
   {
    "duration": 11,
    "start_time": "2023-10-15T09:34:22.057Z"
   },
   {
    "duration": 37,
    "start_time": "2023-10-15T09:34:22.070Z"
   },
   {
    "duration": 1587,
    "start_time": "2023-10-15T09:34:22.109Z"
   },
   {
    "duration": 175,
    "start_time": "2023-10-15T09:34:23.699Z"
   },
   {
    "duration": 4,
    "start_time": "2023-10-15T09:34:23.876Z"
   },
   {
    "duration": 184,
    "start_time": "2023-10-15T09:34:23.882Z"
   },
   {
    "duration": 209,
    "start_time": "2023-10-15T09:34:24.069Z"
   },
   {
    "duration": 7,
    "start_time": "2023-10-15T09:34:24.281Z"
   },
   {
    "duration": 89,
    "start_time": "2023-10-15T09:40:35.012Z"
   },
   {
    "duration": 1250,
    "start_time": "2023-10-15T09:42:14.224Z"
   },
   {
    "duration": 38,
    "start_time": "2023-10-15T09:42:15.475Z"
   },
   {
    "duration": 11,
    "start_time": "2023-10-15T09:42:15.514Z"
   },
   {
    "duration": 44,
    "start_time": "2023-10-15T09:42:15.527Z"
   },
   {
    "duration": 13,
    "start_time": "2023-10-15T09:42:15.572Z"
   },
   {
    "duration": 36,
    "start_time": "2023-10-15T09:42:15.586Z"
   },
   {
    "duration": 9,
    "start_time": "2023-10-15T09:42:15.624Z"
   },
   {
    "duration": 22,
    "start_time": "2023-10-15T09:42:15.634Z"
   },
   {
    "duration": 10,
    "start_time": "2023-10-15T09:42:15.658Z"
   },
   {
    "duration": 14,
    "start_time": "2023-10-15T09:42:15.671Z"
   },
   {
    "duration": 6,
    "start_time": "2023-10-15T09:42:15.686Z"
   },
   {
    "duration": 33,
    "start_time": "2023-10-15T09:42:15.693Z"
   },
   {
    "duration": 9,
    "start_time": "2023-10-15T09:42:15.727Z"
   },
   {
    "duration": 24,
    "start_time": "2023-10-15T09:42:15.738Z"
   },
   {
    "duration": 43,
    "start_time": "2023-10-15T09:42:15.764Z"
   },
   {
    "duration": 25,
    "start_time": "2023-10-15T09:42:15.808Z"
   },
   {
    "duration": 41,
    "start_time": "2023-10-15T09:42:15.836Z"
   },
   {
    "duration": 16,
    "start_time": "2023-10-15T09:42:15.880Z"
   },
   {
    "duration": 250,
    "start_time": "2023-10-15T09:42:15.898Z"
   },
   {
    "duration": 8,
    "start_time": "2023-10-15T09:42:16.151Z"
   },
   {
    "duration": 142,
    "start_time": "2023-10-15T09:42:16.161Z"
   },
   {
    "duration": 0,
    "start_time": "2023-10-15T09:42:16.307Z"
   },
   {
    "duration": 0,
    "start_time": "2023-10-15T09:42:16.308Z"
   },
   {
    "duration": 0,
    "start_time": "2023-10-15T09:42:16.309Z"
   },
   {
    "duration": 0,
    "start_time": "2023-10-15T09:42:16.311Z"
   },
   {
    "duration": 0,
    "start_time": "2023-10-15T09:42:16.312Z"
   },
   {
    "duration": 0,
    "start_time": "2023-10-15T09:42:16.313Z"
   },
   {
    "duration": 0,
    "start_time": "2023-10-15T09:42:16.314Z"
   },
   {
    "duration": 0,
    "start_time": "2023-10-15T09:42:16.315Z"
   },
   {
    "duration": 0,
    "start_time": "2023-10-15T09:42:16.316Z"
   },
   {
    "duration": 0,
    "start_time": "2023-10-15T09:42:16.317Z"
   },
   {
    "duration": 0,
    "start_time": "2023-10-15T09:42:16.318Z"
   },
   {
    "duration": 1,
    "start_time": "2023-10-15T09:42:16.319Z"
   },
   {
    "duration": 0,
    "start_time": "2023-10-15T09:42:16.321Z"
   },
   {
    "duration": 0,
    "start_time": "2023-10-15T09:42:16.322Z"
   },
   {
    "duration": 0,
    "start_time": "2023-10-15T09:42:16.323Z"
   },
   {
    "duration": 0,
    "start_time": "2023-10-15T09:42:16.325Z"
   },
   {
    "duration": 0,
    "start_time": "2023-10-15T09:42:16.326Z"
   },
   {
    "duration": 0,
    "start_time": "2023-10-15T09:42:16.327Z"
   },
   {
    "duration": 0,
    "start_time": "2023-10-15T09:42:16.329Z"
   },
   {
    "duration": 0,
    "start_time": "2023-10-15T09:42:16.330Z"
   },
   {
    "duration": 0,
    "start_time": "2023-10-15T09:42:16.331Z"
   },
   {
    "duration": 0,
    "start_time": "2023-10-15T09:42:16.333Z"
   },
   {
    "duration": 0,
    "start_time": "2023-10-15T09:42:16.334Z"
   },
   {
    "duration": 0,
    "start_time": "2023-10-15T09:42:16.336Z"
   },
   {
    "duration": 0,
    "start_time": "2023-10-15T09:42:16.337Z"
   },
   {
    "duration": 0,
    "start_time": "2023-10-15T09:42:16.339Z"
   },
   {
    "duration": 0,
    "start_time": "2023-10-15T09:42:16.341Z"
   },
   {
    "duration": 16,
    "start_time": "2023-10-15T09:42:56.576Z"
   },
   {
    "duration": 94,
    "start_time": "2023-10-15T09:43:24.793Z"
   },
   {
    "duration": 1211,
    "start_time": "2023-10-15T09:43:42.919Z"
   },
   {
    "duration": 37,
    "start_time": "2023-10-15T09:43:44.132Z"
   },
   {
    "duration": 11,
    "start_time": "2023-10-15T09:43:44.170Z"
   },
   {
    "duration": 60,
    "start_time": "2023-10-15T09:43:44.183Z"
   },
   {
    "duration": 12,
    "start_time": "2023-10-15T09:43:44.244Z"
   },
   {
    "duration": 31,
    "start_time": "2023-10-15T09:43:44.258Z"
   },
   {
    "duration": 16,
    "start_time": "2023-10-15T09:43:44.291Z"
   },
   {
    "duration": 32,
    "start_time": "2023-10-15T09:43:44.309Z"
   },
   {
    "duration": 18,
    "start_time": "2023-10-15T09:43:44.343Z"
   },
   {
    "duration": 12,
    "start_time": "2023-10-15T09:43:44.364Z"
   },
   {
    "duration": 9,
    "start_time": "2023-10-15T09:43:44.378Z"
   },
   {
    "duration": 15,
    "start_time": "2023-10-15T09:43:44.389Z"
   },
   {
    "duration": 12,
    "start_time": "2023-10-15T09:43:44.406Z"
   },
   {
    "duration": 29,
    "start_time": "2023-10-15T09:43:44.420Z"
   },
   {
    "duration": 28,
    "start_time": "2023-10-15T09:43:44.451Z"
   },
   {
    "duration": 5,
    "start_time": "2023-10-15T09:43:44.480Z"
   },
   {
    "duration": 27,
    "start_time": "2023-10-15T09:43:44.487Z"
   },
   {
    "duration": 31,
    "start_time": "2023-10-15T09:43:44.515Z"
   },
   {
    "duration": 192,
    "start_time": "2023-10-15T09:43:44.548Z"
   },
   {
    "duration": 7,
    "start_time": "2023-10-15T09:43:44.742Z"
   },
   {
    "duration": 137,
    "start_time": "2023-10-15T09:43:44.751Z"
   },
   {
    "duration": 130,
    "start_time": "2023-10-15T09:43:44.890Z"
   },
   {
    "duration": 176,
    "start_time": "2023-10-15T09:43:45.021Z"
   },
   {
    "duration": 126,
    "start_time": "2023-10-15T09:43:45.198Z"
   },
   {
    "duration": 282,
    "start_time": "2023-10-15T09:43:45.326Z"
   },
   {
    "duration": 126,
    "start_time": "2023-10-15T09:43:45.610Z"
   },
   {
    "duration": 386,
    "start_time": "2023-10-15T09:43:45.738Z"
   },
   {
    "duration": 38,
    "start_time": "2023-10-15T09:43:46.128Z"
   },
   {
    "duration": 37,
    "start_time": "2023-10-15T09:43:46.169Z"
   },
   {
    "duration": 21,
    "start_time": "2023-10-15T09:43:46.210Z"
   },
   {
    "duration": 134,
    "start_time": "2023-10-15T09:43:46.233Z"
   },
   {
    "duration": 255,
    "start_time": "2023-10-15T09:43:46.369Z"
   },
   {
    "duration": 129,
    "start_time": "2023-10-15T09:43:46.626Z"
   },
   {
    "duration": 274,
    "start_time": "2023-10-15T09:43:46.757Z"
   },
   {
    "duration": 122,
    "start_time": "2023-10-15T09:43:47.032Z"
   },
   {
    "duration": 265,
    "start_time": "2023-10-15T09:43:47.156Z"
   },
   {
    "duration": 120,
    "start_time": "2023-10-15T09:43:47.423Z"
   },
   {
    "duration": 332,
    "start_time": "2023-10-15T09:43:47.545Z"
   },
   {
    "duration": 38,
    "start_time": "2023-10-15T09:43:47.879Z"
   },
   {
    "duration": 5,
    "start_time": "2023-10-15T09:43:47.918Z"
   },
   {
    "duration": 7,
    "start_time": "2023-10-15T09:43:47.925Z"
   },
   {
    "duration": 11,
    "start_time": "2023-10-15T09:43:47.934Z"
   },
   {
    "duration": 1523,
    "start_time": "2023-10-15T09:43:47.946Z"
   },
   {
    "duration": 168,
    "start_time": "2023-10-15T09:43:49.471Z"
   },
   {
    "duration": 4,
    "start_time": "2023-10-15T09:43:49.641Z"
   },
   {
    "duration": 147,
    "start_time": "2023-10-15T09:43:49.646Z"
   },
   {
    "duration": 172,
    "start_time": "2023-10-15T09:43:49.794Z"
   },
   {
    "duration": 5,
    "start_time": "2023-10-15T09:43:49.968Z"
   },
   {
    "duration": 1433,
    "start_time": "2023-10-15T14:00:22.203Z"
   },
   {
    "duration": 97,
    "start_time": "2023-10-15T14:00:23.638Z"
   },
   {
    "duration": 27,
    "start_time": "2023-10-15T14:00:23.736Z"
   },
   {
    "duration": 97,
    "start_time": "2023-10-15T14:00:23.765Z"
   },
   {
    "duration": 11,
    "start_time": "2023-10-15T14:00:23.865Z"
   },
   {
    "duration": 147,
    "start_time": "2023-10-15T14:00:23.877Z"
   },
   {
    "duration": 102,
    "start_time": "2023-10-15T14:00:24.026Z"
   },
   {
    "duration": 48,
    "start_time": "2023-10-15T14:00:24.130Z"
   },
   {
    "duration": 12,
    "start_time": "2023-10-15T14:00:24.180Z"
   },
   {
    "duration": 12,
    "start_time": "2023-10-15T14:00:24.194Z"
   },
   {
    "duration": 8,
    "start_time": "2023-10-15T14:00:24.208Z"
   },
   {
    "duration": 9,
    "start_time": "2023-10-15T14:00:24.218Z"
   },
   {
    "duration": 26,
    "start_time": "2023-10-15T14:00:24.229Z"
   },
   {
    "duration": 44,
    "start_time": "2023-10-15T14:00:24.258Z"
   },
   {
    "duration": 78,
    "start_time": "2023-10-15T14:00:24.304Z"
   },
   {
    "duration": 31,
    "start_time": "2023-10-15T14:00:24.384Z"
   },
   {
    "duration": 19,
    "start_time": "2023-10-15T14:00:24.417Z"
   },
   {
    "duration": 25,
    "start_time": "2023-10-15T14:00:24.437Z"
   },
   {
    "duration": 235,
    "start_time": "2023-10-15T14:00:24.464Z"
   },
   {
    "duration": 6,
    "start_time": "2023-10-15T14:00:24.701Z"
   },
   {
    "duration": 115,
    "start_time": "2023-10-15T14:00:24.709Z"
   },
   {
    "duration": 151,
    "start_time": "2023-10-15T14:00:24.826Z"
   },
   {
    "duration": 198,
    "start_time": "2023-10-15T14:00:24.978Z"
   },
   {
    "duration": 118,
    "start_time": "2023-10-15T14:00:25.178Z"
   },
   {
    "duration": 263,
    "start_time": "2023-10-15T14:00:25.297Z"
   },
   {
    "duration": 121,
    "start_time": "2023-10-15T14:00:25.562Z"
   },
   {
    "duration": 362,
    "start_time": "2023-10-15T14:00:25.685Z"
   },
   {
    "duration": 27,
    "start_time": "2023-10-15T14:00:26.049Z"
   },
   {
    "duration": 90,
    "start_time": "2023-10-15T14:00:26.078Z"
   },
   {
    "duration": 161,
    "start_time": "2023-10-15T14:00:26.169Z"
   },
   {
    "duration": 149,
    "start_time": "2023-10-15T14:00:26.332Z"
   },
   {
    "duration": 299,
    "start_time": "2023-10-15T14:00:26.484Z"
   },
   {
    "duration": 152,
    "start_time": "2023-10-15T14:00:26.785Z"
   },
   {
    "duration": 280,
    "start_time": "2023-10-15T14:00:26.939Z"
   },
   {
    "duration": 141,
    "start_time": "2023-10-15T14:00:27.224Z"
   },
   {
    "duration": 247,
    "start_time": "2023-10-15T14:00:27.367Z"
   },
   {
    "duration": 123,
    "start_time": "2023-10-15T14:00:27.615Z"
   },
   {
    "duration": 340,
    "start_time": "2023-10-15T14:00:27.739Z"
   },
   {
    "duration": 44,
    "start_time": "2023-10-15T14:00:28.081Z"
   },
   {
    "duration": 12,
    "start_time": "2023-10-15T14:00:28.126Z"
   },
   {
    "duration": 19,
    "start_time": "2023-10-15T14:00:28.142Z"
   },
   {
    "duration": 21,
    "start_time": "2023-10-15T14:00:28.162Z"
   },
   {
    "duration": 1619,
    "start_time": "2023-10-15T14:00:28.186Z"
   },
   {
    "duration": 175,
    "start_time": "2023-10-15T14:00:29.808Z"
   },
   {
    "duration": 4,
    "start_time": "2023-10-15T14:00:29.984Z"
   },
   {
    "duration": 277,
    "start_time": "2023-10-15T14:00:29.990Z"
   },
   {
    "duration": 302,
    "start_time": "2023-10-15T14:00:30.269Z"
   },
   {
    "duration": 96,
    "start_time": "2023-10-15T14:00:30.573Z"
   }
  ],
  "kernelspec": {
   "display_name": "Python 3 (ipykernel)",
   "language": "python",
   "name": "python3"
  },
  "language_info": {
   "codemirror_mode": {
    "name": "ipython",
    "version": 3
   },
   "file_extension": ".py",
   "mimetype": "text/x-python",
   "name": "python",
   "nbconvert_exporter": "python",
   "pygments_lexer": "ipython3",
   "version": "3.10.9"
  },
  "toc": {
   "base_numbering": 1,
   "nav_menu": {},
   "number_sections": true,
   "sideBar": true,
   "skip_h1_title": true,
   "title_cell": "Table of Contents",
   "title_sidebar": "Contents",
   "toc_cell": false,
   "toc_position": {},
   "toc_section_display": true,
   "toc_window_display": false
  }
 },
 "nbformat": 4,
 "nbformat_minor": 2
}
