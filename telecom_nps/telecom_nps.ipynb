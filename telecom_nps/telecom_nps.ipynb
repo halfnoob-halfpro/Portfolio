{
 "cells": [
  {
   "cell_type": "markdown",
   "id": "a7538868",
   "metadata": {},
   "source": [
    "# Исследование опроса клиентов телекомунникацонной компании"
   ]
  },
  {
   "cell_type": "markdown",
   "id": "691e95db",
   "metadata": {},
   "source": [
    "# Оглавление   \n",
    "[1 Описание проекта](#description)   \n",
    "[2 Описание данных](#data)    \n",
    "[3 Выгрузка данных](#preparing)      \n",
    "[4  Создание дашборда в Tableau](#tableau)     \n",
    "[5  Общий вывод](#result)    "
   ]
  },
  {
   "cell_type": "markdown",
   "id": "6646c476",
   "metadata": {},
   "source": [
    "### Описание проекта <a id=\"description\"></a>\n",
    "Заказчик этого исследования — большая телекоммуникационная компания, которая оказывает услуги на территории всего СНГ. Перед компанией стоит задача определить текущий уровень потребительской лояльности, или NPS (от англ. Net Promoter Score), среди клиентов из России. Чтобы определить уровень лояльности, клиентам задавали классический вопрос: «Оцените по шкале от 1 до 10 вероятность того, что вы порекомендуете компанию друзьям и знакомым». Компания провела опрос и попросила меня подготовить дашборд с его итогами. Большую базу данных для такой задачи разворачивать не стали и выгрузили данные в SQLite.\n",
    "\n",
    "В ходе исследования ответим на следующие вопросы:\n",
    "\n",
    "- Как распределены участники опроса по возрасту и полу?    \n",
    "- Каких пользователей больше: новых или старых?    \n",
    "- Пользователи из каких городов активнее участвовали в опросе?    \n",
    "- Какие группы пользователей наиболее лояльны к сервису? Какие менее?    \n",
    "- Какой общий NPS среди всех опрошенных?    \n",
    "- Как можно описать клиентов, которые относятся к группе cторонников?    \n",
    "\n",
    "\n",
    "Исследование проведем в два этапа:\n",
    "\n",
    "- Выгрузка данных    \n",
    "- Создание дашборда в Tableau    "
   ]
  },
  {
   "cell_type": "markdown",
   "id": "768ace00",
   "metadata": {},
   "source": [
    "### Описание данных <a id=\"data\"></a>\n",
    "\n",
    "Таблица **user**    \n",
    "Содержит основную информацию о клиентах.\n",
    "- user_id -\tИдентификатор клиента, первичный ключ таблицы\n",
    "- lt_day -\tКоличество дней «жизни» клиента\n",
    "- age -\tВозраст клиента в годах\n",
    "- gender_segment -\tПол клиента (1 – женщина, 0 – мужчина)\n",
    "- os_name -\tТип операционной системы\n",
    "- cpe_type_name -\tТип устройства\n",
    "- location_id -\tИдентификатор домашнего региона клиента, внешний ключ, отсылающий к таблице location\n",
    "- age_gr_id -\tИдентификатор возрастного сегмента клиента, внешний ключ, отсылающий к таблице age_segment\n",
    "- tr_gr_id -\tИдентификатор сегмента клиента по объёму потребляемого трафика в месяц, внешний ключ, отсылающий к таблице traffic_segment\n",
    "- lt_gr_id -\tИдентификатор сегмента клиента по количеству месяцев «жизни», внешний ключ, отсылающий к таблице lifetime_segment\n",
    "- nps_score -\tОценка клиента в NPS-опросе (от 1 до 10)\n",
    "\n",
    "\n",
    "Таблица **location**    \n",
    "Справочник территорий, в которых телеком-компания оказывает услуги.\n",
    "- location_id -\tИдентификатор записи, первичный ключ\n",
    "- country -\tСтрана\n",
    "- city -\tГород\n",
    "\n",
    "\n",
    "Таблица **age_segment**    \n",
    "Данные о возрастных сегментах клиентов.\n",
    "- age_gr_id -\tИдентификатор сегмента, первичный ключ\n",
    "- bucket_min -\tМинимальная граница сегмента\n",
    "- bucket_max -\tМаксимальная граница сегмента\n",
    "- title -\tНазвание сегмента\n",
    "\n",
    "\n",
    "Таблица **traffic_segment**    \n",
    "Данные о выделяемых сегментах по объёму потребляемого трафика.\n",
    "- tr_gr_id -\tИдентификатор сегмента, первичный ключ\n",
    "- bucket_min -\tМинимальная граница сегмента\n",
    "- bucket_max -\tМаксимальная граница сегмента\n",
    "- title -\tНазвание сегмента\n",
    "\n",
    "\n",
    "Таблица **lifetime_segment**    \n",
    "Данные о выделяемых сегментах по количеству месяцев «жизни» клиента — лайфтайму.\n",
    "- lt_gr_id -\tИдентификатор сегмента, первичный ключ\n",
    "- bucket_min -\tМинимальная граница сегмента\n",
    "- bucket_max -\tМаксимальная граница сегмента\n",
    "- title -\tНазвание сегмента"
   ]
  },
  {
   "cell_type": "markdown",
   "id": "375d7e63",
   "metadata": {},
   "source": [
    "### Выгрузка данных <a id=\"preparing\"></a>"
   ]
  },
  {
   "cell_type": "markdown",
   "id": "f23c8599",
   "metadata": {},
   "source": [
    "Для проведения исследования выгрузим следующие поля:    \n",
    "- user_id - Идентификатор клиента\n",
    "- lt_day - Количество дней «жизни» клиента\n",
    "- is_new -\tПоле хранит информацию о том, является ли клиент новым\n",
    "- age -\tВозраст\n",
    "- gender_segment -\tПол\n",
    "- os_name -\tТип операционной системы\n",
    "- cpe_type_name -\tТип устройства\n",
    "- country -\tСтрана проживания\n",
    "- city -\tГород проживания\n",
    "- age_segment -\tВозрастной сегмент\n",
    "- traffic_segment -\tСегмент по объёму потребляемого трафика\n",
    "- lifetime_segment -\tСегмент по количеству дней «жизни»\n",
    "- nps_score -\tОценка клиента в NPS-опросе\n",
    "- nps_group -\tПоле хранит информацию о том, к какой группе относится оценка клиента в опросе"
   ]
  },
  {
   "cell_type": "code",
   "execution_count": 1,
   "id": "fc7efa54",
   "metadata": {},
   "outputs": [],
   "source": [
    "import os\n",
    "import pandas as pd\n",
    "import numpy as np\n",
    "\n",
    "from sqlalchemy import create_engine"
   ]
  },
  {
   "cell_type": "code",
   "execution_count": 2,
   "id": "0017f8e7",
   "metadata": {},
   "outputs": [],
   "source": [
    "path_to_db_local = 'telecomm_csi.db'\n",
    "path_to_db_platform = '/datasets/telecomm_csi.db'\n",
    "path_to_db = None\n",
    "\n",
    "if os.path.exists(path_to_db_local):\n",
    "    path_to_db = path_to_db_local\n",
    "elif os.path.exists(path_to_db_platform):\n",
    "    path_to_db = path_to_db_platform\n",
    "else:\n",
    "    raise Exception('Файл с базой данных SQLite не найден!')\n",
    "\n",
    "if path_to_db:\n",
    "    engine = create_engine(f'sqlite:///{path_to_db}', echo=False)"
   ]
  },
  {
   "cell_type": "code",
   "execution_count": 3,
   "id": "84ebad43",
   "metadata": {},
   "outputs": [],
   "source": [
    "query = \"\"\"\n",
    "SELECT u.user_id,\n",
    "       u.lt_day,\n",
    "       CASE\n",
    "           WHEN u.lt_day <= 365 THEN 'TRUE'\n",
    "           ELSE  'FALSE'\n",
    "       END AS is_new,\n",
    "       u.age,\n",
    "       CASE\n",
    "           WHEN u.gender_segment == 1 THEN '1'\n",
    "           WHEN u.gender_segment == 0 THEN '0'\n",
    "           ELSE 'NaN'\n",
    "       END AS gender_segment,\n",
    "       u.os_name,\n",
    "       u.cpe_type_name,\n",
    "       l.country,\n",
    "       l.city,\n",
    "       substr(a.title, 4) AS age_segment,\n",
    "       substr(t.title, 4) AS traffic_segment,\n",
    "       substr(life.title, 4) AS lifetime_segment,\n",
    "       u.nps_score,\n",
    "       CASE\n",
    "           WHEN u.nps_score >= 9 AND u.nps_score <= 10 THEN 'сторонники'\n",
    "           WHEN u.nps_score >= 7 AND u.nps_score <= 8 THEN 'нейтралы'\n",
    "           ELSE  'критики'\n",
    "       END AS nps_group\n",
    "FROM user AS u LEFT JOIN location AS l ON u.location_id = l.location_id\n",
    "               LEFT JOIN age_segment AS a ON u.age_gr_id = a.age_gr_id\n",
    "               LEFT JOIN traffic_segment AS t ON u.tr_gr_id = t.tr_gr_id\n",
    "               LEFT JOIN lifetime_segment AS life ON u.lt_gr_id = life.lt_gr_id\n",
    "\"\"\""
   ]
  },
  {
   "cell_type": "code",
   "execution_count": 4,
   "id": "3965faf2",
   "metadata": {
    "scrolled": false
   },
   "outputs": [
    {
     "data": {
      "text/html": [
       "<div>\n",
       "<style scoped>\n",
       "    .dataframe tbody tr th:only-of-type {\n",
       "        vertical-align: middle;\n",
       "    }\n",
       "\n",
       "    .dataframe tbody tr th {\n",
       "        vertical-align: top;\n",
       "    }\n",
       "\n",
       "    .dataframe thead th {\n",
       "        text-align: right;\n",
       "    }\n",
       "</style>\n",
       "<table border=\"1\" class=\"dataframe\">\n",
       "  <thead>\n",
       "    <tr style=\"text-align: right;\">\n",
       "      <th></th>\n",
       "      <th>user_id</th>\n",
       "      <th>lt_day</th>\n",
       "      <th>is_new</th>\n",
       "      <th>age</th>\n",
       "      <th>gender_segment</th>\n",
       "      <th>os_name</th>\n",
       "      <th>cpe_type_name</th>\n",
       "      <th>country</th>\n",
       "      <th>city</th>\n",
       "      <th>age_segment</th>\n",
       "      <th>traffic_segment</th>\n",
       "      <th>lifetime_segment</th>\n",
       "      <th>nps_score</th>\n",
       "      <th>nps_group</th>\n",
       "    </tr>\n",
       "  </thead>\n",
       "  <tbody>\n",
       "    <tr>\n",
       "      <th>0</th>\n",
       "      <td>A001A2</td>\n",
       "      <td>2320</td>\n",
       "      <td>FALSE</td>\n",
       "      <td>45.0</td>\n",
       "      <td>1</td>\n",
       "      <td>ANDROID</td>\n",
       "      <td>SMARTPHONE</td>\n",
       "      <td>Россия</td>\n",
       "      <td>Уфа</td>\n",
       "      <td>45-54</td>\n",
       "      <td>1-5</td>\n",
       "      <td>36+</td>\n",
       "      <td>10</td>\n",
       "      <td>сторонники</td>\n",
       "    </tr>\n",
       "    <tr>\n",
       "      <th>1</th>\n",
       "      <td>A001WF</td>\n",
       "      <td>2344</td>\n",
       "      <td>FALSE</td>\n",
       "      <td>53.0</td>\n",
       "      <td>0</td>\n",
       "      <td>ANDROID</td>\n",
       "      <td>SMARTPHONE</td>\n",
       "      <td>Россия</td>\n",
       "      <td>Киров</td>\n",
       "      <td>45-54</td>\n",
       "      <td>1-5</td>\n",
       "      <td>36+</td>\n",
       "      <td>10</td>\n",
       "      <td>сторонники</td>\n",
       "    </tr>\n",
       "    <tr>\n",
       "      <th>2</th>\n",
       "      <td>A003Q7</td>\n",
       "      <td>467</td>\n",
       "      <td>FALSE</td>\n",
       "      <td>57.0</td>\n",
       "      <td>0</td>\n",
       "      <td>ANDROID</td>\n",
       "      <td>SMARTPHONE</td>\n",
       "      <td>Россия</td>\n",
       "      <td>Москва</td>\n",
       "      <td>55-64</td>\n",
       "      <td>20-25</td>\n",
       "      <td>13-24</td>\n",
       "      <td>10</td>\n",
       "      <td>сторонники</td>\n",
       "    </tr>\n",
       "  </tbody>\n",
       "</table>\n",
       "</div>"
      ],
      "text/plain": [
       "  user_id  lt_day is_new   age gender_segment  os_name cpe_type_name country  \\\n",
       "0  A001A2    2320  FALSE  45.0              1  ANDROID    SMARTPHONE  Россия   \n",
       "1  A001WF    2344  FALSE  53.0              0  ANDROID    SMARTPHONE  Россия   \n",
       "2  A003Q7     467  FALSE  57.0              0  ANDROID    SMARTPHONE  Россия   \n",
       "\n",
       "     city age_segment traffic_segment lifetime_segment  nps_score   nps_group  \n",
       "0     Уфа       45-54             1-5              36+         10  сторонники  \n",
       "1   Киров       45-54             1-5              36+         10  сторонники  \n",
       "2  Москва       55-64           20-25            13-24         10  сторонники  "
      ]
     },
     "execution_count": 4,
     "metadata": {},
     "output_type": "execute_result"
    }
   ],
   "source": [
    "df = pd.read_sql(query, engine)\n",
    "df.head(3)"
   ]
  },
  {
   "cell_type": "code",
   "execution_count": 5,
   "id": "9db04858",
   "metadata": {},
   "outputs": [],
   "source": [
    "df.to_csv('telecomm_csi_tableau.csv', index=False)"
   ]
  },
  {
   "cell_type": "markdown",
   "id": "4662b853",
   "metadata": {},
   "source": [
    "**Вывод:**    \n",
    "Загрузка данных прошла без ошибок, сформированы необходимые для исследования категории, итоговая таблица сохранена в файл `csv`  и подготовлена для работы в Tableau"
   ]
  },
  {
   "cell_type": "markdown",
   "id": "04cc243e",
   "metadata": {},
   "source": [
    "### Создание дашборда в Tableau <a id=\"tableau\"></a>"
   ]
  },
  {
   "cell_type": "markdown",
   "id": "51a4f626",
   "metadata": {},
   "source": [
    "Дашборд \"Исследование потребительской лояльности\":<p>\n",
    "    \n",
    "https://public.tableau.com/views/telecomm_NPS/sheet31?:language=en-US&:display_count=n&:origin=viz_share_link    "
   ]
  },
  {
   "cell_type": "markdown",
   "id": "54e4a958",
   "metadata": {},
   "source": [
    "### Общий вывод <a id=\"result\"></a>\n",
    "\n",
    "В опросе приняли участие 502493 пользователя, основная их часть (80%) имеет возраст от 25 до 55 лет. Женщин участвовало в опросе на 10% больше чем мужчин. Более 82% опрошенных являются старыми пользователями, а 54% опрошенных пользуются услугами компании дольше 36 месяцев. Активнее всего в опросе участвовали жители крупных городов, среди которых Москва ожидаемо заняла первое место.\n",
    "\n",
    "Женщины более лояльны к сервису чем мужчины, а новыве пользователи значительно лояльнее пользующихся сервисом более 36 месяцев. У клиентов младше 16 лет процент критиков превышает процент сторонников, но с возрастом лояльность пользователей увеличивается. В Иваново самые лояльные пользователи, большинство городов с наиболее лояльными клиентами находятся в европейской части страны.\n",
    "\n",
    "Общий NPS среди опрошенных равен 21.9, более половины из них являются сторонниками компании. При этом лояльность снижена у старых клиентов и у пользователей IOS. Клинты, не потребляющие трафик, или использующие слишком много трафика, также вносят вклад в снижение общей лояльности.\n",
    "\n",
    "Среди опрошенных, сторонником компании является 264081 клиент - чаще это женщины (56%), пользующиеся операционной системой Android (88%), их возраст от 25 до 55 лет (80%). Половина сторонников (51%) пользуются услугами компании более 36 месяцев и используют объём трафика ниже среднего, с ростом трафика количество сторонников уменьшается."
   ]
  },
  {
   "cell_type": "code",
   "execution_count": null,
   "id": "f3a6fec2",
   "metadata": {},
   "outputs": [],
   "source": []
  }
 ],
 "metadata": {
  "ExecuteTimeLog": [
   {
    "duration": 536,
    "start_time": "2023-07-03T06:08:20.901Z"
   },
   {
    "duration": 76,
    "start_time": "2023-07-03T06:08:21.439Z"
   },
   {
    "duration": 88,
    "start_time": "2023-07-03T06:08:21.517Z"
   },
   {
    "duration": 0,
    "start_time": "2023-07-03T06:08:21.606Z"
   },
   {
    "duration": 0,
    "start_time": "2023-07-03T06:08:21.608Z"
   },
   {
    "duration": 4,
    "start_time": "2023-07-03T06:09:13.314Z"
   },
   {
    "duration": 65,
    "start_time": "2023-07-03T06:09:13.320Z"
   },
   {
    "duration": 76,
    "start_time": "2023-07-03T06:09:13.388Z"
   },
   {
    "duration": 0,
    "start_time": "2023-07-03T06:09:13.467Z"
   },
   {
    "duration": 0,
    "start_time": "2023-07-03T06:09:13.468Z"
   },
   {
    "duration": 3,
    "start_time": "2023-07-03T06:09:20.472Z"
   },
   {
    "duration": 66,
    "start_time": "2023-07-03T06:09:20.485Z"
   },
   {
    "duration": 4,
    "start_time": "2023-07-03T06:09:20.553Z"
   },
   {
    "duration": 687,
    "start_time": "2023-07-03T06:09:20.559Z"
   },
   {
    "duration": 0,
    "start_time": "2023-07-03T06:09:21.247Z"
   },
   {
    "duration": 2,
    "start_time": "2023-07-03T06:09:58.628Z"
   },
   {
    "duration": 605,
    "start_time": "2023-07-03T06:09:59.136Z"
   },
   {
    "duration": 3,
    "start_time": "2023-07-03T06:10:32.964Z"
   },
   {
    "duration": 2640,
    "start_time": "2023-07-03T06:10:33.082Z"
   },
   {
    "duration": 3,
    "start_time": "2023-07-03T06:11:00.210Z"
   },
   {
    "duration": 1865,
    "start_time": "2023-07-03T06:11:00.700Z"
   },
   {
    "duration": 3,
    "start_time": "2023-07-03T06:13:39.473Z"
   },
   {
    "duration": 2560,
    "start_time": "2023-07-03T06:13:39.480Z"
   },
   {
    "duration": 3,
    "start_time": "2023-07-03T06:17:07.779Z"
   },
   {
    "duration": 2385,
    "start_time": "2023-07-03T06:17:09.776Z"
   },
   {
    "duration": 3,
    "start_time": "2023-07-03T06:18:16.415Z"
   },
   {
    "duration": 2359,
    "start_time": "2023-07-03T06:18:17.288Z"
   },
   {
    "duration": 2,
    "start_time": "2023-07-03T06:20:34.833Z"
   },
   {
    "duration": 2381,
    "start_time": "2023-07-03T06:20:36.635Z"
   },
   {
    "duration": 3,
    "start_time": "2023-07-03T06:21:01.867Z"
   },
   {
    "duration": 2477,
    "start_time": "2023-07-03T06:21:02.604Z"
   },
   {
    "duration": 3,
    "start_time": "2023-07-03T06:25:05.112Z"
   },
   {
    "duration": 2649,
    "start_time": "2023-07-03T06:25:05.692Z"
   },
   {
    "duration": 3,
    "start_time": "2023-07-03T06:25:24.094Z"
   },
   {
    "duration": 2574,
    "start_time": "2023-07-03T06:25:24.113Z"
   },
   {
    "duration": 2,
    "start_time": "2023-07-03T06:33:48.276Z"
   },
   {
    "duration": 3282,
    "start_time": "2023-07-03T06:33:49.571Z"
   },
   {
    "duration": 3,
    "start_time": "2023-07-03T06:34:58.229Z"
   },
   {
    "duration": 3496,
    "start_time": "2023-07-03T06:34:58.621Z"
   },
   {
    "duration": 3,
    "start_time": "2023-07-03T06:39:09.824Z"
   },
   {
    "duration": 3997,
    "start_time": "2023-07-03T06:39:10.943Z"
   },
   {
    "duration": 3,
    "start_time": "2023-07-03T06:39:57.676Z"
   },
   {
    "duration": 3516,
    "start_time": "2023-07-03T06:39:58.316Z"
   },
   {
    "duration": 3,
    "start_time": "2023-07-03T06:42:01.415Z"
   },
   {
    "duration": 4056,
    "start_time": "2023-07-03T06:42:01.894Z"
   },
   {
    "duration": 3,
    "start_time": "2023-07-03T06:45:10.068Z"
   },
   {
    "duration": 4279,
    "start_time": "2023-07-03T06:45:10.540Z"
   },
   {
    "duration": 4,
    "start_time": "2023-07-03T06:46:37.582Z"
   },
   {
    "duration": 4388,
    "start_time": "2023-07-03T06:46:38.627Z"
   },
   {
    "duration": 3,
    "start_time": "2023-07-03T06:50:06.595Z"
   },
   {
    "duration": 4706,
    "start_time": "2023-07-03T06:50:07.357Z"
   },
   {
    "duration": 3,
    "start_time": "2023-07-03T06:51:35.329Z"
   },
   {
    "duration": 550,
    "start_time": "2023-07-03T06:52:13.562Z"
   },
   {
    "duration": 63,
    "start_time": "2023-07-03T06:52:14.276Z"
   },
   {
    "duration": 4,
    "start_time": "2023-07-03T06:52:14.341Z"
   },
   {
    "duration": 5430,
    "start_time": "2023-07-03T06:52:14.347Z"
   },
   {
    "duration": 4,
    "start_time": "2023-07-03T06:52:19.780Z"
   },
   {
    "duration": 5822,
    "start_time": "2023-07-03T06:54:51.259Z"
   },
   {
    "duration": 44,
    "start_time": "2023-07-05T13:02:09.894Z"
   },
   {
    "duration": 525,
    "start_time": "2023-07-05T13:02:16.856Z"
   },
   {
    "duration": 91,
    "start_time": "2023-07-05T13:02:17.383Z"
   },
   {
    "duration": 3,
    "start_time": "2023-07-05T13:02:17.476Z"
   },
   {
    "duration": 4963,
    "start_time": "2023-07-05T13:02:17.482Z"
   },
   {
    "duration": 3991,
    "start_time": "2023-07-05T13:02:22.446Z"
   },
   {
    "duration": 541,
    "start_time": "2023-07-06T04:36:06.587Z"
   },
   {
    "duration": 11,
    "start_time": "2023-07-06T04:36:07.130Z"
   },
   {
    "duration": 22,
    "start_time": "2023-07-06T04:36:07.142Z"
   },
   {
    "duration": 7267,
    "start_time": "2023-07-06T04:36:07.166Z"
   },
   {
    "duration": 4758,
    "start_time": "2023-07-06T04:36:14.434Z"
   },
   {
    "duration": 3,
    "start_time": "2023-07-06T06:41:11.578Z"
   },
   {
    "duration": 561,
    "start_time": "2023-07-06T06:41:14.995Z"
   },
   {
    "duration": 123,
    "start_time": "2023-07-06T06:41:15.558Z"
   },
   {
    "duration": 3,
    "start_time": "2023-07-06T06:41:15.683Z"
   },
   {
    "duration": 743,
    "start_time": "2023-07-06T06:41:15.688Z"
   },
   {
    "duration": 0,
    "start_time": "2023-07-06T06:41:16.433Z"
   },
   {
    "duration": 4,
    "start_time": "2023-07-06T06:42:46.013Z"
   },
   {
    "duration": 5776,
    "start_time": "2023-07-06T06:42:48.768Z"
   },
   {
    "duration": 2,
    "start_time": "2023-07-06T06:44:05.394Z"
   },
   {
    "duration": 89,
    "start_time": "2023-07-06T06:44:05.398Z"
   },
   {
    "duration": 3,
    "start_time": "2023-07-06T06:44:05.489Z"
   },
   {
    "duration": 5270,
    "start_time": "2023-07-06T06:44:05.493Z"
   },
   {
    "duration": 2,
    "start_time": "2023-07-06T06:44:10.765Z"
   },
   {
    "duration": 4247,
    "start_time": "2023-07-06T06:46:10.617Z"
   },
   {
    "duration": 4,
    "start_time": "2023-07-06T08:20:22.494Z"
   },
   {
    "duration": 61,
    "start_time": "2023-07-06T08:20:22.628Z"
   },
   {
    "duration": 3,
    "start_time": "2023-07-06T08:20:22.691Z"
   },
   {
    "duration": 5789,
    "start_time": "2023-07-06T08:20:22.696Z"
   },
   {
    "duration": 2,
    "start_time": "2023-07-06T08:20:28.487Z"
   },
   {
    "duration": 4612,
    "start_time": "2023-07-06T08:20:57.035Z"
   },
   {
    "duration": 456,
    "start_time": "2023-07-07T04:02:03.780Z"
   },
   {
    "duration": 10,
    "start_time": "2023-07-07T04:02:04.237Z"
   },
   {
    "duration": 3,
    "start_time": "2023-07-07T04:02:04.249Z"
   },
   {
    "duration": 5753,
    "start_time": "2023-07-07T04:02:04.253Z"
   },
   {
    "duration": 3645,
    "start_time": "2023-07-07T04:02:10.007Z"
   }
  ],
  "kernelspec": {
   "display_name": "Python 3 (ipykernel)",
   "language": "python",
   "name": "python3"
  },
  "language_info": {
   "codemirror_mode": {
    "name": "ipython",
    "version": 3
   },
   "file_extension": ".py",
   "mimetype": "text/x-python",
   "name": "python",
   "nbconvert_exporter": "python",
   "pygments_lexer": "ipython3",
   "version": "3.10.9"
  },
  "toc": {
   "base_numbering": 1,
   "nav_menu": {},
   "number_sections": true,
   "sideBar": true,
   "skip_h1_title": true,
   "title_cell": "Table of Contents",
   "title_sidebar": "Contents",
   "toc_cell": false,
   "toc_position": {},
   "toc_section_display": true,
   "toc_window_display": false
  }
 },
 "nbformat": 4,
 "nbformat_minor": 5
}
